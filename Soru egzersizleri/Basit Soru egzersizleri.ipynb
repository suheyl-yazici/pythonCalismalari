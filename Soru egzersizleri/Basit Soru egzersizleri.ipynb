{
 "cells": [
  {
   "cell_type": "markdown",
   "metadata": {},
   "source": [
    "Soru 1\n",
    "\n",
    "Taban sayısını ve üstel sayıyı alan sonrasınra hesaplamayı döndüren bir fonksiyon yazın.\n",
    "\n",
    "Örnekler\n",
    "\n",
    "UsHesapla(5,5) --> 3125\n",
    "\n",
    "UsHesapla(2,3) --> 8\n",
    "\n"
   ]
  },
  {
   "cell_type": "code",
   "execution_count": 3,
   "metadata": {},
   "outputs": [],
   "source": [
    "def usHesapla(sayi,us):\n",
    "    return sayi**us"
   ]
  },
  {
   "cell_type": "code",
   "execution_count": 5,
   "metadata": {},
   "outputs": [
    {
     "data": {
      "text/plain": [
       "3125"
      ]
     },
     "execution_count": 5,
     "metadata": {},
     "output_type": "execute_result"
    }
   ],
   "source": [
    "usHesapla(2,3)\n",
    "usHesapla(5,5)"
   ]
  },
  {
   "cell_type": "markdown",
   "metadata": {},
   "source": [
    "Soru 2 \n",
    "\n",
    "Girdi sayısı sadece büyük harf veya sadece küçük harf içeriyorsa True döndüren bir fonksiyon yazın.\n",
    "\n",
    "Ornekler\n",
    "\n",
    "ayni_mi(\"selam\")  --> True\n",
    "\n",
    "ayni_mi(\"SELAM\")  --> True\n",
    "\n",
    "ayni_mi(\"Selam\")  --> False\n",
    "\n",
    "ayni_mi(\"seLaM\")  --> False"
   ]
  },
  {
   "cell_type": "code",
   "execution_count": 10,
   "metadata": {},
   "outputs": [],
   "source": [
    "def ayni_mi(yazi):\n",
    "    if yazi.isupper() or yazi.islower():\n",
    "        return True\n",
    "    else:\n",
    "        return False"
   ]
  },
  {
   "cell_type": "code",
   "execution_count": 19,
   "metadata": {},
   "outputs": [
    {
     "data": {
      "text/plain": [
       "True"
      ]
     },
     "execution_count": 19,
     "metadata": {},
     "output_type": "execute_result"
    }
   ],
   "source": [
    "# ayni_mi(\"ahMEt\")\n",
    "# ayni_mi(\"ahmet\")\n",
    "ayni_mi(\"AHMET\")"
   ]
  },
  {
   "cell_type": "markdown",
   "metadata": {},
   "source": [
    "Soru 3\n",
    "\n",
    "Bir sayıyı alan ve tüm çarpanlarını listeleyen bir fonksiyon yazın.\n",
    "\n",
    "Örnekler \n",
    "\n",
    "carpanlar(12)  --> [1,2,3,4,6,12]\n",
    "\n",
    "carpanlar(4) --> [1,2,4]\n",
    "\n",
    "carpanlar(17) --> [1,17]"
   ]
  },
  {
   "cell_type": "code",
   "execution_count": 20,
   "metadata": {},
   "outputs": [],
   "source": [
    "def carpanlar(sayi):\n",
    "    liste = []\n",
    "    for i in range(1,sayi+1):\n",
    "        if sayi % i == 0:\n",
    "            liste.append(i)\n",
    "    return liste"
   ]
  },
  {
   "cell_type": "code",
   "execution_count": 26,
   "metadata": {},
   "outputs": [
    {
     "data": {
      "text/plain": [
       "[1, 2, 4, 8, 16, 32]"
      ]
     },
     "execution_count": 26,
     "metadata": {},
     "output_type": "execute_result"
    }
   ],
   "source": [
    "carpanlar(12)\n",
    "carpanlar(17)\n",
    "carpanlar(32)"
   ]
  },
  {
   "cell_type": "markdown",
   "metadata": {},
   "source": [
    "Soru 4\n",
    "\n",
    "Bir çiftçi sizden tüm tavuklarının bacak sayısını söylemeniz konusunda yardım istiyor.Çiftçide sırasıyla üç tür hayvan vardır.(Tavuk,İnek,Koyun).Çiftçi hayvanlarını saydı ve size tüm türlerin alt toplamını verdi.Tüm hayvanların toplam bacak sayısını döndüren bir fonksiyon uygulamanız gerekiiyor.\n",
    "\n",
    "Örnekler\n",
    "\n",
    "hayvanlar(2,3,5) --> 36\n",
    "\n",
    "hayvanlar(1,2,3) --> 22\n",
    "\n",
    "hayvanlar(5,2,8) --> 50\n",
    "\n",
    "hayvanlar(3,4,2)  --> ?\n",
    "\n"
   ]
  },
  {
   "cell_type": "code",
   "execution_count": 27,
   "metadata": {},
   "outputs": [],
   "source": [
    "def hayvanlar(tavuk,inek,koyun):\n",
    "    return ((tavuk * 2) + (inek+koyun) * 4)"
   ]
  },
  {
   "cell_type": "code",
   "execution_count": 34,
   "metadata": {},
   "outputs": [
    {
     "data": {
      "text/plain": [
       "30"
      ]
     },
     "execution_count": 34,
     "metadata": {},
     "output_type": "execute_result"
    }
   ],
   "source": [
    "# hayvanlar(2,3,5)\n",
    "# hayvanlar(5,2,8)\n",
    "hayvanlar(3,4,2)"
   ]
  },
  {
   "cell_type": "code",
   "execution_count": null,
   "metadata": {},
   "outputs": [],
   "source": []
  }
 ],
 "metadata": {
  "interpreter": {
   "hash": "4429270fe79baf265b12c04ffc28d94055f90b5711fd88618cc5ebaf6124d0f7"
  },
  "kernelspec": {
   "display_name": "Python 3.10.4 64-bit",
   "language": "python",
   "name": "python3"
  },
  "language_info": {
   "codemirror_mode": {
    "name": "ipython",
    "version": 3
   },
   "file_extension": ".py",
   "mimetype": "text/x-python",
   "name": "python",
   "nbconvert_exporter": "python",
   "pygments_lexer": "ipython3",
   "version": "3.10.4"
  },
  "orig_nbformat": 4
 },
 "nbformat": 4,
 "nbformat_minor": 2
}
