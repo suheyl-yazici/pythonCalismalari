{
 "cells": [
  {
   "cell_type": "markdown",
   "metadata": {},
   "source": [
    "Soru 1\n",
    "\n",
    "Taban sayısını ve üstel sayıyı alan sonrasınra hesaplamayı döndüren bir fonksiyon yazın.\n",
    "\n",
    "Örnekler\n",
    "\n",
    "UsHesapla(5,5) --> 3125\n",
    "\n",
    "UsHesapla(2,3) --> 8\n",
    "\n"
   ]
  },
  {
   "cell_type": "code",
   "execution_count": 3,
   "metadata": {},
   "outputs": [],
   "source": [
    "def usHesapla(sayi,us):\n",
    "    return sayi**us"
   ]
  },
  {
   "cell_type": "code",
   "execution_count": 5,
   "metadata": {},
   "outputs": [
    {
     "data": {
      "text/plain": [
       "3125"
      ]
     },
     "execution_count": 5,
     "metadata": {},
     "output_type": "execute_result"
    }
   ],
   "source": [
    "usHesapla(2,3)\n",
    "usHesapla(5,5)"
   ]
  },
  {
   "cell_type": "markdown",
   "metadata": {},
   "source": [
    "Soru 2 \n",
    "\n",
    "Girdi sayısı sadece büyük harf veya sadece küçük harf içeriyorsa True döndüren bir fonksiyon yazın.\n",
    "\n",
    "Ornekler\n",
    "\n",
    "ayni_mi(\"selam\")  --> True\n",
    "\n",
    "ayni_mi(\"SELAM\")  --> True\n",
    "\n",
    "ayni_mi(\"Selam\")  --> False\n",
    "\n",
    "ayni_mi(\"seLaM\")  --> False"
   ]
  },
  {
   "cell_type": "code",
   "execution_count": 10,
   "metadata": {},
   "outputs": [],
   "source": [
    "def ayni_mi(yazi):\n",
    "    if yazi.isupper() or yazi.islower():\n",
    "        return True\n",
    "    else:\n",
    "        return False"
   ]
  },
  {
   "cell_type": "code",
   "execution_count": 19,
   "metadata": {},
   "outputs": [
    {
     "data": {
      "text/plain": [
       "True"
      ]
     },
     "execution_count": 19,
     "metadata": {},
     "output_type": "execute_result"
    }
   ],
   "source": [
    "# ayni_mi(\"ahMEt\")\n",
    "# ayni_mi(\"ahmet\")\n",
    "ayni_mi(\"AHMET\")"
   ]
  },
  {
   "cell_type": "markdown",
   "metadata": {},
   "source": [
    "Soru 3\n",
    "\n",
    "Bir sayıyı alan ve tüm çarpanlarını listeleyen bir fonksiyon yazın.\n",
    "\n",
    "Örnekler \n",
    "\n",
    "carpanlar(12)  --> [1,2,3,4,6,12]\n",
    "\n",
    "carpanlar(4) --> [1,2,4]\n",
    "\n",
    "carpanlar(17) --> [1,17]"
   ]
  },
  {
   "cell_type": "code",
   "execution_count": 20,
   "metadata": {},
   "outputs": [],
   "source": [
    "def carpanlar(sayi):\n",
    "    liste = []\n",
    "    for i in range(1,sayi+1):\n",
    "        if sayi % i == 0:\n",
    "            liste.append(i)\n",
    "    return liste"
   ]
  },
  {
   "cell_type": "code",
   "execution_count": 26,
   "metadata": {},
   "outputs": [
    {
     "data": {
      "text/plain": [
       "[1, 2, 4, 8, 16, 32]"
      ]
     },
     "execution_count": 26,
     "metadata": {},
     "output_type": "execute_result"
    }
   ],
   "source": [
    "carpanlar(12)\n",
    "carpanlar(17)\n",
    "carpanlar(32)"
   ]
  },
  {
   "cell_type": "markdown",
   "metadata": {},
   "source": [
    "Soru 4\n",
    "\n",
    "Bir çiftçi sizden tüm tavuklarının bacak sayısını söylemeniz konusunda yardım istiyor.Çiftçide sırasıyla üç tür hayvan vardır.(Tavuk,İnek,Koyun).Çiftçi hayvanlarını saydı ve size tüm türlerin alt toplamını verdi.Tüm hayvanların toplam bacak sayısını döndüren bir fonksiyon uygulamanız gerekiiyor.\n",
    "\n",
    "Örnekler\n",
    "\n",
    "hayvanlar(2,3,5) --> 36\n",
    "\n",
    "hayvanlar(1,2,3) --> 22\n",
    "\n",
    "hayvanlar(5,2,8) --> 50\n",
    "\n",
    "hayvanlar(3,4,2)  --> ?\n",
    "\n"
   ]
  },
  {
   "cell_type": "code",
   "execution_count": 27,
   "metadata": {},
   "outputs": [],
   "source": [
    "def hayvanlar(tavuk,inek,koyun):\n",
    "    return ((tavuk * 2) + (inek+koyun) * 4)"
   ]
  },
  {
   "cell_type": "code",
   "execution_count": 34,
   "metadata": {},
   "outputs": [
    {
     "data": {
      "text/plain": [
       "30"
      ]
     },
     "execution_count": 34,
     "metadata": {},
     "output_type": "execute_result"
    }
   ],
   "source": [
    "# hayvanlar(2,3,5)\n",
    "# hayvanlar(5,2,8)\n",
    "hayvanlar(3,4,2)"
   ]
  },
  {
   "cell_type": "markdown",
   "metadata": {},
   "source": [
    "Soru 5\n",
    "\n",
    "Vural ve fatih yakın arkadaşlar.Listede yan yana duruyorlarsa fonksiyon True döndürmeli.Aralarında isim varsa False Döndürmeli.\n",
    "\n",
    "Örnekler\n",
    "\n",
    "arkadas([\"fatih\",\"vural\",\"emre\"]) --> True\n",
    "\n",
    "arkadas([\"fatih\",\"furkan\",\"vural\"]) --> False\n",
    "\n",
    "arkadas([\"ahmet\",\"vural\",\"fatih\",\"mehmet\"]) --> True\n"
   ]
  },
  {
   "cell_type": "code",
   "execution_count": 6,
   "metadata": {},
   "outputs": [],
   "source": [
    "def arkadas(liste):\n",
    "    if liste.index(\"vural\") == liste.index(\"fatih\") + 1:\n",
    "        return True\n",
    "    elif liste.index(\"vural\") == liste.index(\"fatih\") - 1:\n",
    "        return True\n",
    "    else:\n",
    "        return False"
   ]
  },
  {
   "cell_type": "code",
   "execution_count": 8,
   "metadata": {},
   "outputs": [
    {
     "data": {
      "text/plain": [
       "True"
      ]
     },
     "execution_count": 8,
     "metadata": {},
     "output_type": "execute_result"
    }
   ],
   "source": [
    "# arkadas([\"fatih\",\"vural\",\"emre\"])\n",
    "# arkadas([\"fatih\",\"süheyl\",\"vural\",\"emre\"])\n",
    "# arkadas([\"fatih\",\"süheyl\",\"vural\",\"emre\"])\n",
    "arkadas([\"vural\",\"fatih\",\"emre\"])"
   ]
  },
  {
   "cell_type": "markdown",
   "metadata": {},
   "source": [
    "Soru 6\n",
    "\n",
    "Bir string alan ve tüm sesli harflerin çıkarıldığı yeni bir string döndüren bir fonksiyon oluşturun..\n",
    "\n",
    "Örnekler \n",
    "\n",
    "sesli_kaldir(\"Hayatımda hiç diyet kola içen bir insan görmedim.\")\n",
    "\n",
    "--> \"Hytmd hç dyt kl çn br nsn grmdm.\"\n",
    "\n",
    "sesli_kaldir(\"Python problemi çözüyorum...\")\n",
    "\n",
    "--> ?"
   ]
  },
  {
   "cell_type": "code",
   "execution_count": 14,
   "metadata": {},
   "outputs": [],
   "source": [
    "def sesli_kaldir(metin):\n",
    "    yeniMetin = \"\"\n",
    "    sesliHarf = \"aeıioöuüAEIİOÖUÜ\"\n",
    "    for i in metin:\n",
    "        if i not in sesliHarf:\n",
    "            yeniMetin += i\n",
    "    return yeniMetin"
   ]
  },
  {
   "cell_type": "code",
   "execution_count": 17,
   "metadata": {},
   "outputs": [
    {
     "data": {
      "text/plain": [
       "'Pythn prblm çzyrm...'"
      ]
     },
     "execution_count": 17,
     "metadata": {},
     "output_type": "execute_result"
    }
   ],
   "source": [
    "# sesli_kaldir(\"Süheyl sesli harf kaldır.!\")\n",
    "sesli_kaldir(\"Python problemi çözüyorum...\")\n"
   ]
  },
  {
   "cell_type": "markdown",
   "metadata": {},
   "source": [
    "Soru 7 \n",
    "\n",
    "Tarihi alan ve doğru yüzyıla döndüren bir fonksiyon oluşturun.\n",
    "\n",
    "Örnekler\n",
    "\n",
    "yuzyil(1756) --> \"18.yüzyıl\"\n",
    "\n",
    "yuzyil(1555) --> \"16.yüzyıl\"\n",
    "\n",
    "yuzyil(1000) --> \"10.yüzyıl\"\n",
    "\n",
    "yuzyil(1001) --> \"11.yüzyıl\"\n",
    "\n",
    "yuzyil(1532) --> ?\n"
   ]
  },
  {
   "cell_type": "code",
   "execution_count": 18,
   "metadata": {},
   "outputs": [],
   "source": [
    "def yuzyil(yil):\n",
    "    tamKısım = yil // 100\n",
    "    if( yil % 100 > 0):\n",
    "        tamKısım += 1\n",
    "    return f\"{tamKısım}. yüzyıl\"\n"
   ]
  },
  {
   "cell_type": "code",
   "execution_count": 24,
   "metadata": {},
   "outputs": [
    {
     "data": {
      "text/plain": [
       "'16. yüzyıl'"
      ]
     },
     "execution_count": 24,
     "metadata": {},
     "output_type": "execute_result"
    }
   ],
   "source": [
    "yuzyil(1756)\n",
    "yuzyil(1555)\n",
    "yuzyil(1001)\n",
    "yuzyil(1532)"
   ]
  },
  {
   "cell_type": "markdown",
   "metadata": {},
   "source": [
    "Soru 8 \n",
    "\n",
    "Her elemanın kendi indeksi ile çarpıldığı listede tüm elemanların toplamını döndürün.Boş listeler için 0 döndürün.\n",
    "\n",
    "Örnekler\n",
    "\n",
    "index_carpici([1,2,3,4,5]) --> 40     ==> (1*0 + 2*1 + 3*2 + 4*3 + 5*4)\n",
    "\n",
    "index_carpici([-3,0,8,-6]) --> -2     ==> (-3*0 + 0*1 + 8*2 + -6*3) \n",
    "\n",
    "index_carpici([-2,4,10,7,-9]) --> ?\n",
    "\n"
   ]
  },
  {
   "cell_type": "code",
   "execution_count": 34,
   "metadata": {},
   "outputs": [],
   "source": [
    "def index_carpici(liste):\n",
    "    toplam = 0\n",
    "    for i in range(len(liste)):\n",
    "        toplam += liste[i] * i\n",
    "    return toplam"
   ]
  },
  {
   "cell_type": "code",
   "execution_count": 33,
   "metadata": {},
   "outputs": [
    {
     "data": {
      "text/plain": [
       "9"
      ]
     },
     "execution_count": 33,
     "metadata": {},
     "output_type": "execute_result"
    }
   ],
   "source": [
    "# index_carpici([1,2,3,4,5])\n",
    "# index_carpici([-3,0,8,-6])\n",
    "index_carpici([-2,4,10,7,-9])"
   ]
  },
  {
   "cell_type": "markdown",
   "metadata": {},
   "source": [
    "Soru 9\n",
    "\n",
    "Bir stringi alan ve içindeki harf ve sayıların sayısını hesaplayan bir fonksiyon yazın.Sonuçları sözlüğe döndürün.\n",
    "\n",
    "Örnekler\n",
    "\n",
    "say(\"Hello World\") --> {\"Harfler\" : 10, \"Sayılar\" : 0}\n",
    "\n",
    "say(\"H3ll0 Wor1d\") --> {\"Harfler\" : 7, \"Sayılar\" : 3}\n",
    "\n",
    "say(\"149990\") --> {\"Harfler\" : 0, \"Sayılar : 6\"}"
   ]
  },
  {
   "cell_type": "code",
   "execution_count": 50,
   "metadata": {},
   "outputs": [],
   "source": [
    "def say(yazi):\n",
    "    ara = yazi.lower()\n",
    "    harfler = set(\"abcçdefgğhıijklmnoöprsştuüvyzqwx\")\n",
    "    rakam = set(\"0123456789\")\n",
    "    sayılanHarf = 0\n",
    "    sayılanRakam = 0\n",
    "    for karakter in ara:\n",
    "        if karakter in harfler:\n",
    "            sayılanHarf += 1\n",
    "        elif karakter in rakam:\n",
    "            sayılanRakam += 1\n",
    "    return {\"Harfler\" : sayılanHarf, \"Sayılar\": sayılanRakam}"
   ]
  },
  {
   "cell_type": "code",
   "execution_count": 52,
   "metadata": {},
   "outputs": [
    {
     "data": {
      "text/plain": [
       "{'Harfler': 7, 'Sayılar': 3}"
      ]
     },
     "execution_count": 52,
     "metadata": {},
     "output_type": "execute_result"
    }
   ],
   "source": [
    "say(\"Hello World\")\n",
    "say(\"149990\")\n",
    "say(\"H3ll0 Wor1d\")"
   ]
  },
  {
   "cell_type": "markdown",
   "metadata": {},
   "source": [
    "Soru 10 \n",
    "\n",
    "Ay ve günleri (tam sayı) olarak alan ve aydaki gün sayısını döndüren bir fonksiyon oluşturun.*Artık yılın ne olduğunu bilmeniz gerekmektedir\n",
    "\n",
    "Örnekler\n",
    "\n",
    "gun(2,2018) --> 28\n",
    "\n",
    "gun(4,654) --> 30\n",
    "\n",
    "gun(2,200) --> 28\n",
    "\n",
    "gun(2,1737) --> ?"
   ]
  },
  {
   "cell_type": "code",
   "execution_count": 1,
   "metadata": {},
   "outputs": [],
   "source": [
    "def gun(ay, yıl):\n",
    "    gunler = {1:31,2:28,3:31,4:30,5:31,6:30,7:31,8:31,9:30,10:31,11:30,12:31}\n",
    "\n",
    "    if ay == 2:\n",
    "        if yıl % 4 == 0:\n",
    "            if yıl % 100 == 0:\n",
    "                if yıl % 400 == 0:\n",
    "                    return 29\n",
    "                return 28\n",
    "            return 29\n",
    "        return 28\n",
    "    return gunler[ay]"
   ]
  },
  {
   "cell_type": "code",
   "execution_count": 6,
   "metadata": {},
   "outputs": [
    {
     "data": {
      "text/plain": [
       "28"
      ]
     },
     "execution_count": 6,
     "metadata": {},
     "output_type": "execute_result"
    }
   ],
   "source": [
    "gun(2,2018)\n",
    "gun(2,200)\n",
    "gun(4,654)\n",
    "gun(2,1737)"
   ]
  },
  {
   "cell_type": "markdown",
   "metadata": {},
   "source": [
    "Soru 11 \n",
    "\n",
    "Boşluklara göre tam sayıları ayıran ve en büyük ve en küçük sayıları (string olarak) döndüren bir fonksiyon yazın.\n",
    "\n",
    "Örnekler\n",
    "\n",
    "buyuk_kucuk(\"1 2 3 4 5\") --> \"5 1\"\n",
    "\n",
    "buyuk_kucuk(\"1 2 -3 4 5\") --> \"5-3\"\n",
    "\n",
    "buyuk_kucuk(\"1 9 3 4 -5\") --> \"9-5\"\n",
    "\n",
    "buyuk_kucuk(\"13\") --> \"13 13\"\n",
    "\n",
    "buyuk_kucuk(\"3 2 4 6 -1 12\") --> ?"
   ]
  },
  {
   "cell_type": "code",
   "execution_count": 7,
   "metadata": {},
   "outputs": [],
   "source": [
    "def buyuk_kucuk(deger):\n",
    "    yeni = deger.split()\n",
    "    yeni = [int(i) for i in yeni]\n",
    "    buyuk = max(yeni)\n",
    "    kucuk = min(yeni)\n",
    "    return str(buyuk) + \" \" + str(kucuk)"
   ]
  },
  {
   "cell_type": "code",
   "execution_count": 10,
   "metadata": {},
   "outputs": [
    {
     "data": {
      "text/plain": [
       "'12 -1'"
      ]
     },
     "execution_count": 10,
     "metadata": {},
     "output_type": "execute_result"
    }
   ],
   "source": [
    "buyuk_kucuk(\"1 2 3 4 5\")\n",
    "buyuk_kucuk(\"1 9 3 4 -5\")\n",
    "buyuk_kucuk(\"3 2 4 6 -1 12\")"
   ]
  },
  {
   "cell_type": "markdown",
   "metadata": {},
   "source": [
    "Soru 12\n",
    "\n",
    "Parametre olarak bir veya dafa fazla kelimeyi alan ve beş veya daha fazla harfe sahip kelimeleri ters döndürecek şekilde bir fonksiyon yazın.String sadece harfler be boşluklardan oluşacak.Boşluk sadece birden fazla kelime olduğunda dahil edilecek.\n",
    "\n",
    "Örnekler\n",
    "\n",
    "ters(\"Ters\") --> \"Ters\"\n",
    "\n",
    "ters(\"Bu normal bir cümle.\") --> \"Bu lamron bir .elmüc\"\n",
    "\n",
    "ters(\"Köpek büyük.\")  --> \"kepöK .küyüb\"\n",
    "\n",
    "ters(\"İstanbulu dinliyorum. Gözlerim kapalı...\") -->  ?\n",
    "\n"
   ]
  },
  {
   "cell_type": "code",
   "execution_count": 17,
   "metadata": {},
   "outputs": [],
   "source": [
    "def ters(yazi):\n",
    "    kelimeler = yazi.split()\n",
    "    cevap = \"\"\n",
    "    for kelime in kelimeler:\n",
    "        if len(kelime) < 5 :\n",
    "            cevap += kelime + \" \"\n",
    "        else:\n",
    "            cevap += kelime[::-1] + \" \"\n",
    "    return cevap.strip()"
   ]
  },
  {
   "cell_type": "code",
   "execution_count": 19,
   "metadata": {},
   "outputs": [
    {
     "data": {
      "text/plain": [
       "'ulubnatsİ .muroyilnid mirelzöG ...ılapak'"
      ]
     },
     "execution_count": 19,
     "metadata": {},
     "output_type": "execute_result"
    }
   ],
   "source": [
    "# ters(\"Bu normal bir cümle.\")\n",
    "ters(\"İstanbulu dinliyorum. Gözlerim kapalı...\")\n"
   ]
  },
  {
   "cell_type": "markdown",
   "metadata": {},
   "source": [
    "Soru 13 \n",
    "\n",
    "Stringi alan ve orta karakteri döndüren bir fonksiyon oluşturun. Eğer kelimenin uzunluğu tek ise orta karakteri döndürün.Eğer kelimenin uzunluğu çift ise orta iki karakteri döndürün.\n",
    "\n",
    "Örnekler\n",
    "\n",
    "ortanca(\"test\") --> \"es\"\n",
    "\n",
    "ortanca(\"testing\") --> \"t\"\n",
    "\n",
    "ortanca(\"A\") --> \"A\"\n",
    "\n",
    "ortanca(\"Bir bahar akşamı\") --> ?"
   ]
  },
  {
   "cell_type": "code",
   "execution_count": 20,
   "metadata": {},
   "outputs": [],
   "source": [
    "def ortanca(yazi):\n",
    "    if len(yazi) % 2 == 0:\n",
    "        return yazi[len(yazi)//2 -1 : len(yazi)//2 + 1 ]\n",
    "    return yazi[len(yazi)//2]"
   ]
  },
  {
   "cell_type": "code",
   "execution_count": 25,
   "metadata": {},
   "outputs": [
    {
     "data": {
      "text/plain": [
       "'ar'"
      ]
     },
     "execution_count": 25,
     "metadata": {},
     "output_type": "execute_result"
    }
   ],
   "source": [
    "ortanca(\"test\")\n",
    "ortanca(\"testing\")\n",
    "ortanca(\"Bir bahar akşamı\")\n"
   ]
  },
  {
   "cell_type": "code",
   "execution_count": null,
   "metadata": {},
   "outputs": [],
   "source": []
  }
 ],
 "metadata": {
  "interpreter": {
   "hash": "4429270fe79baf265b12c04ffc28d94055f90b5711fd88618cc5ebaf6124d0f7"
  },
  "kernelspec": {
   "display_name": "Python 3.10.4 64-bit",
   "language": "python",
   "name": "python3"
  },
  "language_info": {
   "codemirror_mode": {
    "name": "ipython",
    "version": 3
   },
   "file_extension": ".py",
   "mimetype": "text/x-python",
   "name": "python",
   "nbconvert_exporter": "python",
   "pygments_lexer": "ipython3",
   "version": "3.10.4"
  },
  "orig_nbformat": 4
 },
 "nbformat": 4,
 "nbformat_minor": 2
}
