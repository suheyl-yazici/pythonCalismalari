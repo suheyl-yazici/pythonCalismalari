{
 "cells": [
  {
   "cell_type": "markdown",
   "metadata": {},
   "source": [
    "Soru 1\n",
    "\n",
    "Taban sayısını ve üstel sayıyı alan sonrasınra hesaplamayı döndüren bir fonksiyon yazın.\n",
    "\n",
    "Örnekler\n",
    "\n",
    "UsHesapla(5,5) --> 3125\n",
    "\n",
    "UsHesapla(2,3) --> 8\n",
    "\n"
   ]
  },
  {
   "cell_type": "code",
   "execution_count": 3,
   "metadata": {},
   "outputs": [],
   "source": [
    "def usHesapla(sayi,us):\n",
    "    return sayi**us"
   ]
  },
  {
   "cell_type": "code",
   "execution_count": 5,
   "metadata": {},
   "outputs": [
    {
     "data": {
      "text/plain": [
       "3125"
      ]
     },
     "execution_count": 5,
     "metadata": {},
     "output_type": "execute_result"
    }
   ],
   "source": [
    "usHesapla(2,3)\n",
    "usHesapla(5,5)"
   ]
  },
  {
   "cell_type": "markdown",
   "metadata": {},
   "source": [
    "Soru 2 \n",
    "\n",
    "Girdi sayısı sadece büyük harf veya sadece küçük harf içeriyorsa True döndüren bir fonksiyon yazın.\n",
    "\n",
    "Ornekler\n",
    "\n",
    "ayni_mi(\"selam\")  --> True\n",
    "\n",
    "ayni_mi(\"SELAM\")  --> True\n",
    "\n",
    "ayni_mi(\"Selam\")  --> False\n",
    "\n",
    "ayni_mi(\"seLaM\")  --> False"
   ]
  },
  {
   "cell_type": "code",
   "execution_count": 10,
   "metadata": {},
   "outputs": [],
   "source": [
    "def ayni_mi(yazi):\n",
    "    if yazi.isupper() or yazi.islower():\n",
    "        return True\n",
    "    else:\n",
    "        return False"
   ]
  },
  {
   "cell_type": "code",
   "execution_count": 19,
   "metadata": {},
   "outputs": [
    {
     "data": {
      "text/plain": [
       "True"
      ]
     },
     "execution_count": 19,
     "metadata": {},
     "output_type": "execute_result"
    }
   ],
   "source": [
    "# ayni_mi(\"ahMEt\")\n",
    "# ayni_mi(\"ahmet\")\n",
    "ayni_mi(\"AHMET\")"
   ]
  },
  {
   "cell_type": "markdown",
   "metadata": {},
   "source": [
    "Soru 3\n",
    "\n",
    "Bir sayıyı alan ve tüm çarpanlarını listeleyen bir fonksiyon yazın.\n",
    "\n",
    "Örnekler \n",
    "\n",
    "carpanlar(12)  --> [1,2,3,4,6,12]\n",
    "\n",
    "carpanlar(4) --> [1,2,4]\n",
    "\n",
    "carpanlar(17) --> [1,17]"
   ]
  },
  {
   "cell_type": "code",
   "execution_count": 20,
   "metadata": {},
   "outputs": [],
   "source": [
    "def carpanlar(sayi):\n",
    "    liste = []\n",
    "    for i in range(1,sayi+1):\n",
    "        if sayi % i == 0:\n",
    "            liste.append(i)\n",
    "    return liste"
   ]
  },
  {
   "cell_type": "code",
   "execution_count": 26,
   "metadata": {},
   "outputs": [
    {
     "data": {
      "text/plain": [
       "[1, 2, 4, 8, 16, 32]"
      ]
     },
     "execution_count": 26,
     "metadata": {},
     "output_type": "execute_result"
    }
   ],
   "source": [
    "carpanlar(12)\n",
    "carpanlar(17)\n",
    "carpanlar(32)"
   ]
  },
  {
   "cell_type": "markdown",
   "metadata": {},
   "source": [
    "Soru 4\n",
    "\n",
    "Bir çiftçi sizden tüm tavuklarının bacak sayısını söylemeniz konusunda yardım istiyor.Çiftçide sırasıyla üç tür hayvan vardır.(Tavuk,İnek,Koyun).Çiftçi hayvanlarını saydı ve size tüm türlerin alt toplamını verdi.Tüm hayvanların toplam bacak sayısını döndüren bir fonksiyon uygulamanız gerekiiyor.\n",
    "\n",
    "Örnekler\n",
    "\n",
    "hayvanlar(2,3,5) --> 36\n",
    "\n",
    "hayvanlar(1,2,3) --> 22\n",
    "\n",
    "hayvanlar(5,2,8) --> 50\n",
    "\n",
    "hayvanlar(3,4,2)  --> ?\n",
    "\n"
   ]
  },
  {
   "cell_type": "code",
   "execution_count": 27,
   "metadata": {},
   "outputs": [],
   "source": [
    "def hayvanlar(tavuk,inek,koyun):\n",
    "    return ((tavuk * 2) + (inek+koyun) * 4)"
   ]
  },
  {
   "cell_type": "code",
   "execution_count": 34,
   "metadata": {},
   "outputs": [
    {
     "data": {
      "text/plain": [
       "30"
      ]
     },
     "execution_count": 34,
     "metadata": {},
     "output_type": "execute_result"
    }
   ],
   "source": [
    "# hayvanlar(2,3,5)\n",
    "# hayvanlar(5,2,8)\n",
    "hayvanlar(3,4,2)"
   ]
  },
  {
   "cell_type": "markdown",
   "metadata": {},
   "source": [
    "Soru 5\n",
    "\n",
    "Vural ve fatih yakın arkadaşlar.Listede yan yana duruyorlarsa fonksiyon True döndürmeli.Aralarında isim varsa False Döndürmeli.\n",
    "\n",
    "Örnekler\n",
    "\n",
    "arkadas([\"fatih\",\"vural\",\"emre\"]) --> True\n",
    "\n",
    "arkadas([\"fatih\",\"furkan\",\"vural\"]) --> False\n",
    "\n",
    "arkadas([\"ahmet\",\"vural\",\"fatih\",\"mehmet\"]) --> True\n"
   ]
  },
  {
   "cell_type": "code",
   "execution_count": 6,
   "metadata": {},
   "outputs": [],
   "source": [
    "def arkadas(liste):\n",
    "    if liste.index(\"vural\") == liste.index(\"fatih\") + 1:\n",
    "        return True\n",
    "    elif liste.index(\"vural\") == liste.index(\"fatih\") - 1:\n",
    "        return True\n",
    "    else:\n",
    "        return False"
   ]
  },
  {
   "cell_type": "code",
   "execution_count": 8,
   "metadata": {},
   "outputs": [
    {
     "data": {
      "text/plain": [
       "True"
      ]
     },
     "execution_count": 8,
     "metadata": {},
     "output_type": "execute_result"
    }
   ],
   "source": [
    "# arkadas([\"fatih\",\"vural\",\"emre\"])\n",
    "# arkadas([\"fatih\",\"süheyl\",\"vural\",\"emre\"])\n",
    "# arkadas([\"fatih\",\"süheyl\",\"vural\",\"emre\"])\n",
    "arkadas([\"vural\",\"fatih\",\"emre\"])"
   ]
  },
  {
   "cell_type": "markdown",
   "metadata": {},
   "source": [
    "Soru 6\n",
    "\n",
    "Bir string alan ve tüm sesli harflerin çıkarıldığı yeni bir string döndüren bir fonksiyon oluşturun..\n",
    "\n",
    "Örnekler \n",
    "\n",
    "sesli_kaldir(\"Hayatımda hiç diyet kola içen bir insan görmedim.\")\n",
    "\n",
    "--> \"Hytmd hç dyt kl çn br nsn grmdm.\"\n",
    "\n",
    "sesli_kaldir(\"Python problemi çözüyorum...\")\n",
    "\n",
    "--> ?"
   ]
  },
  {
   "cell_type": "code",
   "execution_count": 14,
   "metadata": {},
   "outputs": [],
   "source": [
    "def sesli_kaldir(metin):\n",
    "    yeniMetin = \"\"\n",
    "    sesliHarf = \"aeıioöuüAEIİOÖUÜ\"\n",
    "    for i in metin:\n",
    "        if i not in sesliHarf:\n",
    "            yeniMetin += i\n",
    "    return yeniMetin"
   ]
  },
  {
   "cell_type": "code",
   "execution_count": 17,
   "metadata": {},
   "outputs": [
    {
     "data": {
      "text/plain": [
       "'Pythn prblm çzyrm...'"
      ]
     },
     "execution_count": 17,
     "metadata": {},
     "output_type": "execute_result"
    }
   ],
   "source": [
    "# sesli_kaldir(\"Süheyl sesli harf kaldır.!\")\n",
    "sesli_kaldir(\"Python problemi çözüyorum...\")\n"
   ]
  },
  {
   "cell_type": "markdown",
   "metadata": {},
   "source": [
    "Soru 7 \n",
    "\n",
    "Tarihi alan ve doğru yüzyıla döndüren bir fonksiyon oluşturun.\n",
    "\n",
    "Örnekler\n",
    "\n",
    "yuzyil(1756) --> \"18.yüzyıl\"\n",
    "\n",
    "yuzyil(1555) --> \"16.yüzyıl\"\n",
    "\n",
    "yuzyil(1000) --> \"10.yüzyıl\"\n",
    "\n",
    "yuzyil(1001) --> \"11.yüzyıl\"\n",
    "\n",
    "yuzyil(1532) --> ?\n"
   ]
  },
  {
   "cell_type": "code",
   "execution_count": 18,
   "metadata": {},
   "outputs": [],
   "source": [
    "def yuzyil(yil):\n",
    "    tamKısım = yil // 100\n",
    "    if( yil % 100 > 0):\n",
    "        tamKısım += 1\n",
    "    return f\"{tamKısım}. yüzyıl\"\n"
   ]
  },
  {
   "cell_type": "code",
   "execution_count": 24,
   "metadata": {},
   "outputs": [
    {
     "data": {
      "text/plain": [
       "'16. yüzyıl'"
      ]
     },
     "execution_count": 24,
     "metadata": {},
     "output_type": "execute_result"
    }
   ],
   "source": [
    "yuzyil(1756)\n",
    "yuzyil(1555)\n",
    "yuzyil(1001)\n",
    "yuzyil(1532)"
   ]
  },
  {
   "cell_type": "markdown",
   "metadata": {},
   "source": [
    "Soru 8 \n",
    "\n",
    "Her elemanın kendi indeksi ile çarpıldığı listede tüm elemanların toplamını döndürün.Boş listeler için 0 döndürün.\n",
    "\n",
    "Örnekler\n",
    "\n",
    "index_carpici([1,2,3,4,5]) --> 40     ==> (1*0 + 2*1 + 3*2 + 4*3 + 5*4)\n",
    "\n",
    "index_carpici([-3,0,8,-6]) --> -2     ==> (-3*0 + 0*1 + 8*2 + -6*3) \n",
    "\n",
    "index_carpici([-2,4,10,7,-9]) --> ?\n",
    "\n"
   ]
  },
  {
   "cell_type": "code",
   "execution_count": 34,
   "metadata": {},
   "outputs": [],
   "source": [
    "def index_carpici(liste):\n",
    "    toplam = 0\n",
    "    for i in range(len(liste)):\n",
    "        toplam += liste[i] * i\n",
    "    return toplam"
   ]
  },
  {
   "cell_type": "code",
   "execution_count": 33,
   "metadata": {},
   "outputs": [
    {
     "data": {
      "text/plain": [
       "9"
      ]
     },
     "execution_count": 33,
     "metadata": {},
     "output_type": "execute_result"
    }
   ],
   "source": [
    "# index_carpici([1,2,3,4,5])\n",
    "# index_carpici([-3,0,8,-6])\n",
    "index_carpici([-2,4,10,7,-9])"
   ]
  },
  {
   "cell_type": "markdown",
   "metadata": {},
   "source": [
    "Soru 9\n",
    "\n",
    "Bir stringi alan ve içindeki harf ve sayıların sayısını hesaplayan bir fonksiyon yazın.Sonuçları sözlüğe döndürün.\n",
    "\n",
    "Örnekler\n",
    "\n",
    "say(\"Hello World\") --> {\"Harfler\" : 10, \"Sayılar\" : 0}\n",
    "\n",
    "say(\"H3ll0 Wor1d\") --> {\"Harfler\" : 7, \"Sayılar\" : 3}\n",
    "\n",
    "say(\"149990\") --> {\"Harfler\" : 0, \"Sayılar : 6\"}"
   ]
  },
  {
   "cell_type": "code",
   "execution_count": 50,
   "metadata": {},
   "outputs": [],
   "source": [
    "def say(yazi):\n",
    "    ara = yazi.lower()\n",
    "    harfler = set(\"abcçdefgğhıijklmnoöprsştuüvyzqwx\")\n",
    "    rakam = set(\"0123456789\")\n",
    "    sayılanHarf = 0\n",
    "    sayılanRakam = 0\n",
    "    for karakter in ara:\n",
    "        if karakter in harfler:\n",
    "            sayılanHarf += 1\n",
    "        elif karakter in rakam:\n",
    "            sayılanRakam += 1\n",
    "    return {\"Harfler\" : sayılanHarf, \"Sayılar\": sayılanRakam}"
   ]
  },
  {
   "cell_type": "code",
   "execution_count": 52,
   "metadata": {},
   "outputs": [
    {
     "data": {
      "text/plain": [
       "{'Harfler': 7, 'Sayılar': 3}"
      ]
     },
     "execution_count": 52,
     "metadata": {},
     "output_type": "execute_result"
    }
   ],
   "source": [
    "say(\"Hello World\")\n",
    "say(\"149990\")\n",
    "say(\"H3ll0 Wor1d\")"
   ]
  },
  {
   "cell_type": "markdown",
   "metadata": {},
   "source": [
    "Soru 10 \n",
    "\n",
    "Ay ve günleri (tam sayı) olarak alan ve aydaki gün sayısını döndüren bir fonksiyon oluşturun.*Artık yılın ne olduğunu bilmeniz gerekmektedir\n",
    "\n",
    "Örnekler\n",
    "\n",
    "gun(2,2018) --> 28\n",
    "\n",
    "gun(4,654) --> 30\n",
    "\n",
    "gun(2,200) --> 28\n",
    "\n",
    "gun(2,1737) --> ?"
   ]
  },
  {
   "cell_type": "code",
   "execution_count": 1,
   "metadata": {},
   "outputs": [],
   "source": [
    "def gun(ay, yıl):\n",
    "    gunler = {1:31,2:28,3:31,4:30,5:31,6:30,7:31,8:31,9:30,10:31,11:30,12:31}\n",
    "\n",
    "    if ay == 2:\n",
    "        if yıl % 4 == 0:\n",
    "            if yıl % 100 == 0:\n",
    "                if yıl % 400 == 0:\n",
    "                    return 29\n",
    "                return 28\n",
    "            return 29\n",
    "        return 28\n",
    "    return gunler[ay]"
   ]
  },
  {
   "cell_type": "code",
   "execution_count": 6,
   "metadata": {},
   "outputs": [
    {
     "data": {
      "text/plain": [
       "28"
      ]
     },
     "execution_count": 6,
     "metadata": {},
     "output_type": "execute_result"
    }
   ],
   "source": [
    "gun(2,2018)\n",
    "gun(2,200)\n",
    "gun(4,654)\n",
    "gun(2,1737)"
   ]
  },
  {
   "cell_type": "markdown",
   "metadata": {},
   "source": [
    "Soru 11 \n",
    "\n",
    "Boşluklara göre tam sayıları ayıran ve en büyük ve en küçük sayıları (string olarak) döndüren bir fonksiyon yazın.\n",
    "\n",
    "Örnekler\n",
    "\n",
    "buyuk_kucuk(\"1 2 3 4 5\") --> \"5 1\"\n",
    "\n",
    "buyuk_kucuk(\"1 2 -3 4 5\") --> \"5-3\"\n",
    "\n",
    "buyuk_kucuk(\"1 9 3 4 -5\") --> \"9-5\"\n",
    "\n",
    "buyuk_kucuk(\"13\") --> \"13 13\"\n",
    "\n",
    "buyuk_kucuk(\"3 2 4 6 -1 12\") --> ?"
   ]
  },
  {
   "cell_type": "code",
   "execution_count": 7,
   "metadata": {},
   "outputs": [],
   "source": [
    "def buyuk_kucuk(deger):\n",
    "    yeni = deger.split()\n",
    "    yeni = [int(i) for i in yeni]\n",
    "    buyuk = max(yeni)\n",
    "    kucuk = min(yeni)\n",
    "    return str(buyuk) + \" \" + str(kucuk)"
   ]
  },
  {
   "cell_type": "code",
   "execution_count": 10,
   "metadata": {},
   "outputs": [
    {
     "data": {
      "text/plain": [
       "'12 -1'"
      ]
     },
     "execution_count": 10,
     "metadata": {},
     "output_type": "execute_result"
    }
   ],
   "source": [
    "buyuk_kucuk(\"1 2 3 4 5\")\n",
    "buyuk_kucuk(\"1 9 3 4 -5\")\n",
    "buyuk_kucuk(\"3 2 4 6 -1 12\")"
   ]
  },
  {
   "cell_type": "markdown",
   "metadata": {},
   "source": [
    "Soru 12\n",
    "\n",
    "Parametre olarak bir veya dafa fazla kelimeyi alan ve beş veya daha fazla harfe sahip kelimeleri ters döndürecek şekilde bir fonksiyon yazın.String sadece harfler be boşluklardan oluşacak.Boşluk sadece birden fazla kelime olduğunda dahil edilecek.\n",
    "\n",
    "Örnekler\n",
    "\n",
    "ters(\"Ters\") --> \"Ters\"\n",
    "\n",
    "ters(\"Bu normal bir cümle.\") --> \"Bu lamron bir .elmüc\"\n",
    "\n",
    "ters(\"Köpek büyük.\")  --> \"kepöK .küyüb\"\n",
    "\n",
    "ters(\"İstanbulu dinliyorum. Gözlerim kapalı...\") -->  ?\n",
    "\n"
   ]
  },
  {
   "cell_type": "code",
   "execution_count": 17,
   "metadata": {},
   "outputs": [],
   "source": [
    "def ters(yazi):\n",
    "    kelimeler = yazi.split()\n",
    "    cevap = \"\"\n",
    "    for kelime in kelimeler:\n",
    "        if len(kelime) < 5 :\n",
    "            cevap += kelime + \" \"\n",
    "        else:\n",
    "            cevap += kelime[::-1] + \" \"\n",
    "    return cevap.strip()"
   ]
  },
  {
   "cell_type": "code",
   "execution_count": 19,
   "metadata": {},
   "outputs": [
    {
     "data": {
      "text/plain": [
       "'ulubnatsİ .muroyilnid mirelzöG ...ılapak'"
      ]
     },
     "execution_count": 19,
     "metadata": {},
     "output_type": "execute_result"
    }
   ],
   "source": [
    "# ters(\"Bu normal bir cümle.\")\n",
    "ters(\"İstanbulu dinliyorum. Gözlerim kapalı...\")\n"
   ]
  },
  {
   "cell_type": "markdown",
   "metadata": {},
   "source": [
    "Soru 13 \n",
    "\n",
    "Stringi alan ve orta karakteri döndüren bir fonksiyon oluşturun. Eğer kelimenin uzunluğu tek ise orta karakteri döndürün.Eğer kelimenin uzunluğu çift ise orta iki karakteri döndürün.\n",
    "\n",
    "Örnekler\n",
    "\n",
    "ortanca(\"test\") --> \"es\"\n",
    "\n",
    "ortanca(\"testing\") --> \"t\"\n",
    "\n",
    "ortanca(\"A\") --> \"A\"\n",
    "\n",
    "ortanca(\"Bir bahar akşamı\") --> ?"
   ]
  },
  {
   "cell_type": "code",
   "execution_count": 20,
   "metadata": {},
   "outputs": [],
   "source": [
    "def ortanca(yazi):\n",
    "    if len(yazi) % 2 == 0:\n",
    "        return yazi[len(yazi)//2 -1 : len(yazi)//2 + 1 ]\n",
    "    return yazi[len(yazi)//2]"
   ]
  },
  {
   "cell_type": "code",
   "execution_count": 25,
   "metadata": {},
   "outputs": [
    {
     "data": {
      "text/plain": [
       "'ar'"
      ]
     },
     "execution_count": 25,
     "metadata": {},
     "output_type": "execute_result"
    }
   ],
   "source": [
    "ortanca(\"test\")\n",
    "ortanca(\"testing\")\n",
    "ortanca(\"Bir bahar akşamı\")\n"
   ]
  },
  {
   "cell_type": "markdown",
   "metadata": {},
   "source": [
    "Soru 14\n",
    "\n",
    "a sayısını alan ve x üstü alındığında b sayısına eşit olan kayıp x üstel sayısını bulan bir fonksiyon yazın.\n",
    "\n",
    "Örnekler\n",
    "us_bul(4, 1024) ➞ 5\n",
    "\n",
    "us_bul(2, 16) ➞ 4\n",
    "\n",
    "us_bul(9, 3486784401) ➞ 10"
   ]
  },
  {
   "cell_type": "code",
   "execution_count": 1,
   "metadata": {},
   "outputs": [],
   "source": [
    "def us_bul(a,b):\n",
    "    cevap = 1\n",
    "    while b > a:\n",
    "        b = b/a\n",
    "        cevap += 1\n",
    "    return cevap"
   ]
  },
  {
   "cell_type": "code",
   "execution_count": 2,
   "metadata": {},
   "outputs": [
    {
     "data": {
      "text/plain": [
       "4"
      ]
     },
     "execution_count": 2,
     "metadata": {},
     "output_type": "execute_result"
    }
   ],
   "source": [
    "us_bul(4, 1024)\n",
    "us_bul(2, 16)"
   ]
  },
  {
   "cell_type": "markdown",
   "metadata": {},
   "source": [
    "Soru 15\n",
    "\n",
    "Oy sayısı stringini sayılar listesine dönüştüren bir fonksiyon yazın. k bini temsil eder.\n",
    "\n",
    "Örnekler\n",
    "\n",
    "gercek_deger(\"6.8k 13.5k\") ➞ [6800, 13500]\n",
    "\n",
    "gercek_deger(\"5.5k 8.9k 32\") ➞ [5500, 8900, 32]\n",
    "\n",
    "gercek_deger(\"20.3k 3.8k 7.7k 992\") ➞ [20300, 3800, 7700, 992]\n",
    "\n",
    "Notlar:\n",
    "\n",
    "Oyları liste olarak döndürün."
   ]
  },
  {
   "cell_type": "code",
   "execution_count": 3,
   "metadata": {},
   "outputs": [],
   "source": [
    "def gercek_deger(oylar):\n",
    "    cevap = list()\n",
    "    degerler = oylar.split()\n",
    "    for i in degerler:\n",
    "        if \"k\" not in i:\n",
    "            cevap.append(int(i))\n",
    "        else:\n",
    "            gercek = i.replace(\"k\",\"00\").replace(\".\",\"\")\n",
    "            cevap.append(int(gercek))\n",
    "    return cevap"
   ]
  },
  {
   "cell_type": "code",
   "execution_count": 4,
   "metadata": {},
   "outputs": [
    {
     "data": {
      "text/plain": [
       "[6800, 13500]"
      ]
     },
     "execution_count": 4,
     "metadata": {},
     "output_type": "execute_result"
    }
   ],
   "source": [
    "gercek_deger(\"6.8k 13.5k\")"
   ]
  },
  {
   "cell_type": "markdown",
   "metadata": {},
   "source": [
    "Soru 16\n",
    "\n",
    "Fibonnacci sayıları şu şekilde oluşturulur:\n",
    "\n",
    "F(0) = 0\n",
    "\n",
    "F(1) = 1\n",
    "\n",
    "...\n",
    "\n",
    "F(n) = F(n-2) + F(n-1)\n",
    "\n",
    "n. Fibonnaci sayısını hesaplayan bir fonksiyon yazın.\n",
    "\n",
    "Örnekler\n",
    "\n",
    "fib(0) ➞ 0\n",
    "\n",
    "fib(1) ➞ 1\n",
    "\n",
    "fib(2) ➞ 1\n",
    "\n",
    "fib(8) ➞ 21\n",
    "\n",
    "fib(14) ➞ ?\n"
   ]
  },
  {
   "cell_type": "code",
   "execution_count": 7,
   "metadata": {},
   "outputs": [],
   "source": [
    "def fib(n):\n",
    "    if n == 0:\n",
    "        return 0\n",
    "    if n == 1 or n == 2:      \n",
    "        return 1\n",
    "    else:\n",
    "        cevap = fib(n-2) + fib(n-1)\n",
    "        return cevap"
   ]
  },
  {
   "cell_type": "code",
   "execution_count": 8,
   "metadata": {},
   "outputs": [
    {
     "data": {
      "text/plain": [
       "377"
      ]
     },
     "execution_count": 8,
     "metadata": {},
     "output_type": "execute_result"
    }
   ],
   "source": [
    "# fib(2)\n",
    "# fib(8)\n",
    "fib(14)"
   ]
  },
  {
   "cell_type": "markdown",
   "metadata": {},
   "source": [
    "Soru 17 \n",
    "\n",
    "Bir sayının apocalyptic sayısı olup olmadığını belirleyeceksiniz. 0’dan büyük bir n pozitif tam sayısı 2’nin üstü olarak alındığında bir veya daha fazla 666 içeriyorsa kıyamet sayısı olarak adlandırılır.\n",
    "\n",
    "n tam sayısı için aşağıdaki sonucu döndüren bir fonksiyon yazın:\n",
    "\n",
    "n apocalyptic sayısı değilse “Güvenli”.\n",
    "\n",
    "Eğer 2^n tek bir 666 içeriyorsa “Tek”.\n",
    "\n",
    "Eğer 2^n iki tane 666 içeriyorsa “Çift”.\n",
    "\n",
    "Eğer 2^n üç tane 666 içeriyorsa “Üç”.\n",
    "\n",
    "Örnekler\n",
    "\n",
    "is_apocalyptic(66) ➞ \"Güvenli\"\n",
    "# 2^66 = 73786976294838206464\n",
    "\n",
    "is_apocalyptic(157) ➞ \"Tek\"\n",
    "# 2^157 = 182687704|666|362864775460604089535377456991567872\n",
    "\n",
    "is_apocalyptic(220) ➞ \"Çift\"\n",
    "# 2^220 = 168499|666|66969149871|666|8844293872691710232152640 ...\n",
    "\n",
    "is_apocalyptic(931) ➞ \"Üçlü\"\n",
    "# 2^931 = 181520618710|666|8777829|666|135436890332191479738353753001777065257954029122510259245050254290156440857653562895251700406555730694879815558725330603736697259064676478076718090|666| ...\n",
    "\n",
    "Notlar:\n",
    "\n",
    "n sayısı 1 ila 100 arasında pozitif tam sayı olacak.\n",
    "\n",
    "Görülmelerin benzersiz olması gerekir; eşleşen rakamları tekrar kullanamazsınız (bkz. örnek 3; beş tane yan yana 6 olmasına rağmen bir tane olası eşleşme var).\n",
    "\n"
   ]
  },
  {
   "cell_type": "code",
   "execution_count": 9,
   "metadata": {},
   "outputs": [],
   "source": [
    "def apocalyptic(sayi):\n",
    "    tane = str(2**sayi)\n",
    "    if tane.count(\"666\") == 0:\n",
    "        return \"Güvenli\"\n",
    "    elif tane.count(\"666\") == 1:\n",
    "        return \"Tek\"\n",
    "    elif tane.count(\"666\") == 2:\n",
    "        return \"Cift\"\n",
    "    elif tane.count(\"666\") == 3:\n",
    "        return \"Üçlü\""
   ]
  },
  {
   "cell_type": "code",
   "execution_count": 11,
   "metadata": {},
   "outputs": [
    {
     "data": {
      "text/plain": [
       "'Cift'"
      ]
     },
     "execution_count": 11,
     "metadata": {},
     "output_type": "execute_result"
    }
   ],
   "source": [
    "apocalyptic(931)\n",
    "apocalyptic(220)"
   ]
  },
  {
   "cell_type": "markdown",
   "metadata": {},
   "source": [
    "Soru 18\n",
    "\n",
    "Bir stringde ikinci kere “zip” geçen indeksi veya en az iki kere geçmiyorsa -1 döndüren bir fonksiyon yazın. \n",
    "\n",
    "Örnekler\n",
    "\n",
    "zip(\"selam zip arıyorum zip \") ➞ 19\n",
    "\n",
    "zip(\"merhaba zip arıyorum\") ➞ -1\n",
    "\n",
    "Notlar:\n",
    "\n",
    "Büyük harfli “Zip” ile küçük harfli “zip” aynı şey değildir."
   ]
  },
  {
   "cell_type": "code",
   "execution_count": 21,
   "metadata": {},
   "outputs": [],
   "source": [
    "def zip(metin):\n",
    "    tekrar = metin.count(\"zip\")\n",
    "    if tekrar < 2:\n",
    "        return -1\n",
    "    else:\n",
    "        ilk = metin.find(\"zip\")\n",
    "        return metin.find(\"zip\",ilk +1)"
   ]
  },
  {
   "cell_type": "code",
   "execution_count": 22,
   "metadata": {},
   "outputs": [
    {
     "data": {
      "text/plain": [
       "19"
      ]
     },
     "execution_count": 22,
     "metadata": {},
     "output_type": "execute_result"
    }
   ],
   "source": [
    "zip(\"merhaba zip arıyorum\")\n",
    "zip(\"selam zip arıyorum zip \")"
   ]
  },
  {
   "cell_type": "markdown",
   "metadata": {},
   "source": [
    "Soru 19\n",
    "\n",
    "Bir stringi alan ve her kelimeyi aşağıdaki kurallara göre dönüştüren bir fonksiyon oluşturun:\n",
    "\n",
    "İlk ve son karakterleri aynı tutun.Ortadaki karakterleri - çizgi ile değiştirin.\n",
    "\n",
    "Örnekler\n",
    "\n",
    "saklı(\"herkese sevgiler\") ➞ \"h-----e s------r\"\n",
    "\n",
    "saklı(\"kırmızı ve mavi\") ➞ \"k-----ı ve m--i\"\n",
    "\n",
    "\n",
    "Notlar:\n",
    "\n",
    "İki ya da daha az harfe sahip kelimeler saklanmayacak."
   ]
  },
  {
   "cell_type": "code",
   "execution_count": 12,
   "metadata": {},
   "outputs": [],
   "source": [
    "def saklı(yazi):\n",
    "    liste = yazi.split(\" \")\n",
    "    yeniListe = []\n",
    "    tire = 0\n",
    "    for deger in liste:\n",
    "        if len(deger) > 2:\n",
    "            tire = len(deger) - 2\n",
    "        else:\n",
    "            tire = 0\n",
    "        yeniListe.append(deger[0] +\"-\"*tire + deger[-1])\n",
    "    return \" \".join(yeniListe)\n",
    "    \n",
    "\n"
   ]
  },
  {
   "cell_type": "code",
   "execution_count": 13,
   "metadata": {},
   "outputs": [
    {
     "data": {
      "text/plain": [
       "'h-----e s------r'"
      ]
     },
     "execution_count": 13,
     "metadata": {},
     "output_type": "execute_result"
    }
   ],
   "source": [
    "saklı(\"herkese sevgiler\")\n",
    "# saklı(\"kırmızı ve mavi\")"
   ]
  },
  {
   "cell_type": "markdown",
   "metadata": {},
   "source": [
    "Soru 20 \n",
    "\n",
    "Çok fazla alt listesi olan bir listede orijinal değere dönen bir fonksiyon yazın.\n",
    "\n",
    "Örnekler\n",
    "\n",
    "sadelestir([[[[[[[[[[[[3]]]]]]]]]]]]) ➞ 3\n",
    "\n",
    "sadelestir([[[[[[[True]]]]]]]) ➞ True\n",
    "\n",
    "sadelestir([[[[[[[[[[[[[[[[['Merhaba']]]]]]]]]]]]]]]]]) ➞ 'Merhaba'\n",
    "\n",
    "Notlar:Sadece bir elemanı almanız gerekiyor."
   ]
  },
  {
   "cell_type": "code",
   "execution_count": 30,
   "metadata": {},
   "outputs": [],
   "source": [
    "def sadelestir(metin):\n",
    "    if type(metin) == list:\n",
    "        return sadelestir(metin[0])\n",
    "    else:\n",
    "        return metin"
   ]
  },
  {
   "cell_type": "code",
   "execution_count": 31,
   "metadata": {},
   "outputs": [
    {
     "data": {
      "text/plain": [
       "'Merhaba'"
      ]
     },
     "execution_count": 31,
     "metadata": {},
     "output_type": "execute_result"
    }
   ],
   "source": [
    "sadelestir([[[[[[[[[[[[3]]]]]]]]]]]])\n",
    "sadelestir([[[[[[[True]]]]]]])\n",
    "sadelestir([[[[[[[[[[[[[[[[['Merhaba']]]]]]]]]]]]]]]]])"
   ]
  }
 ],
 "metadata": {
  "interpreter": {
   "hash": "4429270fe79baf265b12c04ffc28d94055f90b5711fd88618cc5ebaf6124d0f7"
  },
  "kernelspec": {
   "display_name": "Python 3.10.4 64-bit",
   "language": "python",
   "name": "python3"
  },
  "language_info": {
   "codemirror_mode": {
    "name": "ipython",
    "version": 3
   },
   "file_extension": ".py",
   "mimetype": "text/x-python",
   "name": "python",
   "nbconvert_exporter": "python",
   "pygments_lexer": "ipython3",
   "version": "3.10.4"
  },
  "orig_nbformat": 4
 },
 "nbformat": 4,
 "nbformat_minor": 2
}
