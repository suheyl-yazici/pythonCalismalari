{
 "cells": [
  {
   "cell_type": "markdown",
   "metadata": {},
   "source": [
    "Soru 1\n",
    "\n",
    " Semih ve Mehmet’in yarışan sümüklü böcekleri var. İkisinde de 3 tane var, yavaş (y), orta (o) ve hızlı (h). Semih’in sümüklü böcekleri Mehmet’in sümüklü böceklerinden daha güçlü olsa da Mehmet’in bir planı var. Planı:\n",
    "\n",
    "Raunt 1: [y, h] En yavaş böceği Semih’in en hızlı böceğine kurban et.\n",
    "\n",
    "Raunt 2: [o, y] Orta sümüklü böceğiyle Semih’in en yavaş böceğini yen.\n",
    "\n",
    "Raunt 3: [h, o] En hızlı böceğiyle Semih’in orta böceğini yen.\n",
    "\n",
    "Mehmet’in oyunu 2/3 oranında kazandığı durumda True çıktısı verecek şekilde Mehmet’in kazanıp kazamadığını belirleyen bir fonksiyon yazın.\n",
    "\n",
    "Fonksiyon girdileri:\n",
    "\n",
    "Liste 1: Mehmet için [y, o, h]\n",
    "\n",
    "Liste 2: Semih için [y, o, h]\n",
    "\n",
    "Örnekler\n",
    "mehmet_wins([3, 5, 10], [4, 7, 11]) ➞ True\n",
    "\n",
    "Karşılaşmalar (3, 11), (5, 4) ve (10, 7) olduğu için Mehmet 3’ünden 2’sini kazanır.\n",
    "\n",
    "mehmet_wins([6, 8, 9], [7, 12, 14]) ➞ False\n",
    "\n",
    "Karşılaşmalar (6, 14), (8, 7) ve (9, 12) olduğu için Semih 3’ünden 2’sini kazanır.\n",
    "\n",
    "mehmet_wins([1, 8, 20], [2, 9, 100]) ➞ True\n",
    "\n",
    "Notlar:\n",
    "Yarışan sümüklü böceğin hızı Semih’in yarışan sümüklü böceğinin hızını aşarsa Mehmet kazanır.\n",
    "\n",
    "Semih her zaman aşağıdaki sırada oynayacak: [h, y, o]\n"
   ]
  },
  {
   "cell_type": "code",
   "execution_count": 16,
   "metadata": {},
   "outputs": [],
   "source": [
    "def mehmet_wins(mehmet,semih):\n",
    "    mehmetKazandıklari = 0\n",
    "    if mehmet[0] > semih [2]: mehmetKazandıklari += 1\n",
    "    if mehmet[1] > semih [0]: mehmetKazandıklari += 1\n",
    "    if mehmet[2] > semih [1]: mehmetKazandıklari += 1\n",
    "    return mehmetKazandıklari >= 2\n"
   ]
  },
  {
   "cell_type": "code",
   "execution_count": 17,
   "metadata": {},
   "outputs": [
    {
     "data": {
      "text/plain": [
       "False"
      ]
     },
     "execution_count": 17,
     "metadata": {},
     "output_type": "execute_result"
    }
   ],
   "source": [
    "# mehmet_wins([3, 5, 10], [4, 7, 11])\n",
    "mehmet_wins([6, 8, 9], [7, 12, 14])"
   ]
  },
  {
   "cell_type": "markdown",
   "metadata": {},
   "source": [
    "Soru 2\n",
    "\n",
    "Bir üretici için çalışıyorsunuz ve sizden ürün satışından elde edilen toplam kârı hesaplamanızı istedi. Birim başına maliyet, birim başına satış ve başlangıç envanterini veren bir sözlük aldınız. En yakın lira değerine yuvarlayarak elde edilen toplam kârı döndürün. Tüm envanterin satıldığını varsayın.\n",
    "\n",
    "Örnekler\n",
    "\n",
    "kazanc({\n",
    "  \"maliyet\": 32.67,\n",
    "  \"satış\": 45.00,\n",
    "  \"envanter\": 1200\n",
    "}) ➞ 14796\n",
    "\n",
    "kazanc({\n",
    "  \"maliyet\": 225.89,\n",
    "  \"satış\": 550.00,\n",
    "  \"envanter\": 100\n",
    "}) ➞ 32411\n",
    "\n",
    "kazanc({\n",
    "  \"maliyet\": 2.77,\n",
    "  \"satış\": 7.95,\n",
    "  \"envanter\": 8500\n",
    "}) ➞ 44030\n",
    "\n",
    "Notlar:\n",
    "\n",
    "Kâr = Toplam Satış - Toplam Maliyet"
   ]
  },
  {
   "cell_type": "code",
   "execution_count": 18,
   "metadata": {},
   "outputs": [],
   "source": [
    "def kazanc(bilgi):\n",
    "    maliyet = bilgi[\"maliyet\"]\n",
    "    satıs = bilgi[\"satış\"]\n",
    "    envanter = bilgi[\"envanter\"]\n",
    "    return round((satıs*envanter) - (maliyet*envanter))"
   ]
  },
  {
   "cell_type": "code",
   "execution_count": 19,
   "metadata": {},
   "outputs": [
    {
     "data": {
      "text/plain": [
       "44030"
      ]
     },
     "execution_count": 19,
     "metadata": {},
     "output_type": "execute_result"
    }
   ],
   "source": [
    "# kazanc({\n",
    "#   \"maliyet\": 32.67,\n",
    "#   \"satış\": 45.00,\n",
    "#   \"envanter\": 1200\n",
    "# })\n",
    "\n",
    "kazanc({\n",
    "  \"maliyet\": 2.77,\n",
    "  \"satış\": 7.95,\n",
    "  \"envanter\": 8500\n",
    "})"
   ]
  },
  {
   "cell_type": "markdown",
   "metadata": {},
   "source": [
    "Soru 3\n",
    "\n",
    "Her girdi listesine iki tanesi hariç her rakam en az bir kere tekrarlıyor.\n",
    "\n",
    "İki benzersiz sayıyı döndüren bir fonksiyon yazın.\n",
    "\n",
    "Örnekler\n",
    "\n",
    "tekrarlanmayan([1, 9, 8, 8, 7, 6, 1, 6]) ➞ [9, 7]\n",
    "\n",
    "tekrarlanmayan([5, 5, 2, 4, 4, 4, 9, 9, 9, 1]) ➞ [2, 1]\n",
    "\n",
    "tekrarlanmayan([9, 5, 6, 8, 7, 7, 1, 1, 1, 1, 1, 9, 8]) ➞ [5, 6]\n",
    "\n",
    "Notlar:\n",
    "\n",
    "Çıktıda aynı sıralamayı tutun.\n",
    "\n"
   ]
  },
  {
   "cell_type": "code",
   "execution_count": 20,
   "metadata": {},
   "outputs": [],
   "source": [
    "def tekrarlanmayan(girdi):\n",
    "    sonuc = []\n",
    "    for i in range(len(girdi)):\n",
    "        if girdi.count(girdi[i]) == 1:\n",
    "            sonuc.append(girdi[i])\n",
    "    return sonuc"
   ]
  },
  {
   "cell_type": "code",
   "execution_count": 21,
   "metadata": {},
   "outputs": [
    {
     "data": {
      "text/plain": [
       "[5, 6]"
      ]
     },
     "execution_count": 21,
     "metadata": {},
     "output_type": "execute_result"
    }
   ],
   "source": [
    "# tekrarlanmayan([1, 9, 8, 8, 7, 6, 1, 6])\n",
    "tekrarlanmayan([9, 5, 6, 8, 7, 7, 1, 1, 1, 1, 1, 9, 8])"
   ]
  },
  {
   "cell_type": "markdown",
   "metadata": {},
   "source": [
    "Soru 4 \n",
    "\n",
    "Masa tenisi oyunu her zaman Ping! ve sonrasında gelen Pong! sesinden oluşur. Bu nedenle eğer son ses olarak Pong! sesini duyarsanız 2. Oyuncunun kazandığını anlarsınız (Oyuncu 1 vuruşa karşılık veremez).\n",
    "\n",
    "Ping! listesi için her öğenin arasında Pong! yerleştiren bir fonksiyon yazın. Aynı zamanda:\n",
    "\n",
    "Kazanma True’ya eşitse listeyi Pong! ile bitirin.\n",
    "Kazanma False’a eşitse Ping! ile bitirin.\n",
    "\n",
    "Örnekler\n",
    "\n",
    "ping_pong([\"Ping!\", \"Ping!\", \"Ping!\"], True) ➞ [\"Ping!\", \"Pong!\", \"Ping!\", \"Pong!\", \"Ping!\", \"Pong!\"]\n",
    "\n",
    "ping_pong([\"Ping!\", \"Ping!\"], False) ➞ [\"Ping!\", \"Pong!\", \"Ping!\"]\n",
    "\n",
    "ping_pong([\"Ping!\"], True) ➞ [\"Ping!\", \"Pong!\"]\n",
    "\n",
    "Notlar:\n",
    "Her zaman topu döndürmelisiniz (Ponglar sizin).\n",
    "1. Oyuncu servis kullanıyor ve Ping! sesi çıkarıyor.\n",
    "Listeyle dönün."
   ]
  },
  {
   "cell_type": "code",
   "execution_count": 22,
   "metadata": {},
   "outputs": [],
   "source": [
    "def ping_pong(liste,kazanma):\n",
    "    sonuc = [\"Ping!\",\"Pong!\"] * len(liste)\n",
    "    if kazanma:\n",
    "        return sonuc\n",
    "    else:\n",
    "        return sonuc[:-1]"
   ]
  },
  {
   "cell_type": "code",
   "execution_count": 23,
   "metadata": {},
   "outputs": [
    {
     "data": {
      "text/plain": [
       "['Ping!', 'Pong!', 'Ping!']"
      ]
     },
     "execution_count": 23,
     "metadata": {},
     "output_type": "execute_result"
    }
   ],
   "source": [
    "ping_pong([\"Ping!\", \"Ping!\", \"Ping!\"], True)\n",
    "ping_pong([\"Ping!\", \"Ping!\"], False)"
   ]
  },
  {
   "cell_type": "markdown",
   "metadata": {},
   "source": [
    "Soru 5 \n",
    "\n",
    "Bir stringi alan ve yeni stringi birbirini izleyen aynı harfleri çıkaran yeni bir stringi üreten bir fonksiyon oluşturun.\n",
    "\n",
    "Örnekler\n",
    "\n",
    "kısalt(\"seeeelaaam\") ➞ \"selam\"\n",
    "\n",
    "kısalt(\"kkkkkeeeediii\") ➞ \"kedi\"\n",
    "\n",
    "kısalt(\"aaarrraba\") ➞ \"araba\""
   ]
  },
  {
   "cell_type": "code",
   "execution_count": 53,
   "metadata": {},
   "outputs": [],
   "source": [
    "def kısalt(metin):\n",
    "    yeniMetin = \"\"\n",
    "    karakterler = []\n",
    "    for i in metin:\n",
    "        karakterler.append(i)\n",
    "    k = 0\n",
    "    for i in karakterler:\n",
    "        if k == len(karakterler) -1:\n",
    "            yeniMetin += i\n",
    "            break\n",
    "        if i != karakterler[k+1]:\n",
    "            yeniMetin += i\n",
    "        k += 1\n",
    "    return yeniMetin\n",
    "\n",
    "        "
   ]
  },
  {
   "cell_type": "code",
   "execution_count": 54,
   "metadata": {},
   "outputs": [
    {
     "data": {
      "text/plain": [
       "'kedi'"
      ]
     },
     "execution_count": 54,
     "metadata": {},
     "output_type": "execute_result"
    }
   ],
   "source": [
    "# kısalt(\"i\")\n",
    "# kısalt(\"seeeelaaam\")\n",
    "kısalt(\"kkkkkeeeediii\")\n"
   ]
  },
  {
   "cell_type": "markdown",
   "metadata": {},
   "source": [
    "Soru 6 \n",
    "\n",
    "Sekiz tane 1 ve/veya sıfırdan oluşan bir liste verilecek. 8 bit ikili sayıyı alan ve onlu sisteme dönüştüren bir fonksiyon yazın.\n",
    "\n",
    "Örnekler\n",
    "\n",
    "ikilikten_onluga([1, 1, 1, 1, 1, 1, 1, 1]) ➞ 255\n",
    "\n",
    "ikilikten_onluga([0, 0, 0, 0, 0, 0, 0, 0]) ➞ 0\n",
    "\n",
    "ikilikten_onluga([1, 0, 1, 1, 1, 1, 0, 0]) ➞ 188"
   ]
  },
  {
   "cell_type": "code",
   "execution_count": 1,
   "metadata": {},
   "outputs": [],
   "source": [
    "def ikilikten_onluga(ikilik):\n",
    "    ikilik = ikilik[::-1]\n",
    "    ondalık = 0\n",
    "    for i in range(len(ikilik)):\n",
    "        ondalık += ikilik[i] * 2**i\n",
    "    return ondalık"
   ]
  },
  {
   "cell_type": "code",
   "execution_count": 5,
   "metadata": {},
   "outputs": [
    {
     "data": {
      "text/plain": [
       "255"
      ]
     },
     "execution_count": 5,
     "metadata": {},
     "output_type": "execute_result"
    }
   ],
   "source": [
    "# ikilikten_onluga([1, 0, 1, 1, 1, 1, 0, 0])\n",
    "ikilikten_onluga([1, 1, 1, 1, 1, 1, 1, 1])"
   ]
  },
  {
   "cell_type": "markdown",
   "metadata": {},
   "source": [
    "Soru 7\n",
    "\n",
    "Sayılar listesini alan ve listede 7 sayısının olduğu durumlarda “Boom!” döndüren bir fonksiyon yazın. Diğer durumlarda “listede 7 yok” döndürün.\n",
    "\n",
    "Örnekler\n",
    "\n",
    "evreka([1, 2, 3, 4, 5, 6, 7]) ➞ \"Boom!\"\n",
    "\n",
    "evreka([8, 6, 33, 100]) ➞ \"listede 7 yok\"\n",
    "\n",
    "evreka([2, 55, 60, 97, 86]) ➞ \"Boom!\""
   ]
  },
  {
   "cell_type": "code",
   "execution_count": 10,
   "metadata": {},
   "outputs": [],
   "source": [
    "def evreka(liste):\n",
    "    for i in liste:\n",
    "        if \"7\" in str(i):\n",
    "            return \"Boom!\"\n",
    "    return \"listede 7 yok\""
   ]
  },
  {
   "cell_type": "code",
   "execution_count": 14,
   "metadata": {},
   "outputs": [
    {
     "data": {
      "text/plain": [
       "'Boom!'"
      ]
     },
     "execution_count": 14,
     "metadata": {},
     "output_type": "execute_result"
    }
   ],
   "source": [
    "# evreka([1, 2, 3, 4, 5, 6, 7])\n",
    "# evreka([8, 6, 33, 100])\n",
    "evreka([2, 55, 60, 97, 86])"
   ]
  },
  {
   "cell_type": "markdown",
   "metadata": {},
   "source": [
    "Soru 8\n",
    "\n",
    "Malzeme listesi ve seçilen malzemeyi girdi olarak alın. Seçili malzemelerin çevresinde ekmek olacak şekilde listeyi tekrar döndüren bir fonksiyon yazın.\n",
    "\n",
    "Örnekler\n",
    "\n",
    "sandviç(['ton', 'salam', 'domates'], 'salam') ➞ ['ton', 'ekmek', ‘salam', 'ekmek', 'domates']\n",
    "\n",
    "sandviç(['peynir', 'marul'], 'peynir') ➞ ['ekmek', 'peynir', 'ekmek', 'marul']\n",
    "\n",
    "sandviç(['salam', 'salam'], 'salam') ➞ ['ekmek', 'salam', 'ekmek', 'ekmek', 'salam', 'ekmek']"
   ]
  },
  {
   "cell_type": "code",
   "execution_count": 18,
   "metadata": {},
   "outputs": [],
   "source": [
    "def sandviç(malzemeler,secilen):\n",
    "    cevap = []\n",
    "    for malzeme in malzemeler:\n",
    "        if malzeme == secilen:\n",
    "            cevap.append(\"ekmek\")\n",
    "            cevap.append(secilen)\n",
    "            cevap.append(\"ekmek\")\n",
    "        else:\n",
    "            cevap.append(malzeme)\n",
    "    return cevap"
   ]
  },
  {
   "cell_type": "code",
   "execution_count": 21,
   "metadata": {},
   "outputs": [
    {
     "data": {
      "text/plain": [
       "['ekmek', 'salam', 'ekmek', 'ekmek', 'salam', 'ekmek']"
      ]
     },
     "execution_count": 21,
     "metadata": {},
     "output_type": "execute_result"
    }
   ],
   "source": [
    "sandviç(['ton', 'salam', 'domates'], 'salam')\n",
    "sandviç(['peynir', 'marul'], 'peynir')\n",
    "sandviç(['salam', 'salam'], 'salam')"
   ]
  },
  {
   "cell_type": "markdown",
   "metadata": {},
   "source": [
    "Soru 9 \n",
    "\n",
    "Belirli bir aralıkta (aralık sınırları dahil) bir sayının kaç kere olduğunu sayan bir fonksiyon yazın. Fonksiyon şu şekilde görünecek:\n",
    "\n",
    "kac_tane(başlangıç, bitiş, sayı) ➞ sayının kullanılma sayısı\n",
    "\n",
    "Örnekler\n",
    "\n",
    "kac_tane(51, 55, 5) ➞ 6 ==> [51, 52, 53, 54, 55] : 5 sayısı 6 kere geçiyor\n",
    "\n",
    "kac_tane(1, 8, 9) ➞ 0\n",
    "\n",
    "kac_tane(-8, -1, 8) ➞ 1\n",
    "\n",
    "kac_tane(71, 77, 2) ➞ 1\n",
    "\n",
    "Notlar:\n",
    "Aralıklar negatif olabilir\n",
    "başlangıç <= bitiş\n",
    "\n"
   ]
  },
  {
   "cell_type": "code",
   "execution_count": 27,
   "metadata": {},
   "outputs": [],
   "source": [
    "def kac_tane(baslangic,bitis,sayi):\n",
    "    liste = []\n",
    "    for i in range(baslangic,bitis+1):\n",
    "        liste.append(str(i))\n",
    "    cevap = 0\n",
    "    for i in range(len(liste)):\n",
    "        cevap += liste[i].count(str(sayi))\n",
    "    return cevap"
   ]
  },
  {
   "cell_type": "code",
   "execution_count": 28,
   "metadata": {},
   "outputs": [
    {
     "data": {
      "text/plain": [
       "6"
      ]
     },
     "execution_count": 28,
     "metadata": {},
     "output_type": "execute_result"
    }
   ],
   "source": [
    "kac_tane(1, 8, 9)\n",
    "# kac_tane(-8, -1, 8)\n",
    "# kac_tane(71, 77, 2)\n",
    "kac_tane(51, 55, 5)"
   ]
  },
  {
   "cell_type": "markdown",
   "metadata": {},
   "source": [
    "Soru 10 \n",
    "\n",
    "Girdi olarak 12 saatlik formatta verilen stringi 24 saatlik formata, eğer 24 saatlik verilmişse 12 saate çeviren bir fonksiyon yazınız.\n",
    "\n",
    "saat_cevir(\"12:00 am\") ➞ \"0:00\"\n",
    "\n",
    "saat_cevir(\"6:20 pm\") ➞ \"18:20\"\n",
    "\n",
    "saat_cevir(\"21:00\") ➞ \"9:00 pm\"\n",
    "\n",
    "saat_cevir(\"5:05\") ➞ \"5:05 am\"\n",
    "\n",
    "\n",
    "*12 saatlik format pm ve am içerip içermediğine göre kontrol edilecek."
   ]
  },
  {
   "cell_type": "code",
   "execution_count": 1,
   "metadata": {},
   "outputs": [],
   "source": [
    "def saat_cevir(saat):\n",
    "    if len(saat) > 5:\n",
    "        sd, ek = saat.split()\n",
    "        if ek == \"pm\":\n",
    "            s,d = sd.split(\":\")\n",
    "            s = str(int(s) + 12)\n",
    "            return s + \":\" + d\n",
    "        elif ek == \"am\":\n",
    "            if sd == \"12:00\":\n",
    "                return \"0:00\"\n",
    "            return sd\n",
    "    s,d = saat.split(\":\")\n",
    "    if int(s) <= 12:\n",
    "        return saat + \" am\"\n",
    "    s = str(int(s) - 12)\n",
    "    return s + \":\" + d + \" pm\"\n",
    "                "
   ]
  },
  {
   "cell_type": "code",
   "execution_count": 5,
   "metadata": {},
   "outputs": [
    {
     "data": {
      "text/plain": [
       "'9:00 pm'"
      ]
     },
     "execution_count": 5,
     "metadata": {},
     "output_type": "execute_result"
    }
   ],
   "source": [
    "saat_cevir(\"12:00 am\")\n",
    "saat_cevir(\"6:20 pm\")\n",
    "saat_cevir(\"5:05\")\n",
    "saat_cevir(\"21:00\") "
   ]
  },
  {
   "cell_type": "markdown",
   "metadata": {},
   "source": [
    "Soru 11 \n",
    "\n",
    "x, y ve z sayıları verildiğinde dik açılı bir üçgen olup olmadığını belirleyin.\n",
    "\n",
    "Örnekler\n",
    "\n",
    "dik_açılı(3, 4, 5) ➞ True     #! Bu durum klasik bir dik üçgen örneğidir.\n",
    "\n",
    "dik_açılı(145, 105, 100) ➞ True    #! Bu daha az bilinen bir örnektir.\n",
    "\n",
    "dik_açılı(70, 130, 110) ➞ False    #! Bu bir dik üçgen değildir."
   ]
  },
  {
   "cell_type": "code",
   "execution_count": 6,
   "metadata": {},
   "outputs": [],
   "source": [
    "def dik_acılı(x,y,z):\n",
    "    if x**2 + y**2 == z**2 or x**2 + z**2 == y**2 or y**2 + z**2 == x**2:\n",
    "        return True\n",
    "    return False\n",
    "        "
   ]
  },
  {
   "cell_type": "code",
   "execution_count": 11,
   "metadata": {},
   "outputs": [
    {
     "data": {
      "text/plain": [
       "True"
      ]
     },
     "execution_count": 11,
     "metadata": {},
     "output_type": "execute_result"
    }
   ],
   "source": [
    "dik_acılı(3, 4, 5)\n",
    "dik_acılı(145, 105, 100)\n",
    "dik_acılı(70, 130, 110)\n",
    "dik_acılı(7, 24, 25)"
   ]
  },
  {
   "cell_type": "markdown",
   "metadata": {},
   "source": [
    "Soru 12 \n",
    "\n",
    "Telefon numarası doğru formata sahipse True, yanlış formata sahipse False çıktısına dönen ve string girişini kabul eden bir fonksiyon oluşturun. 0-9 arasındaki herhangi bir rakamın (uygun yerlerde) geçerli bir telefon numarası oluşturacağını varsayın. Geçerli bir telefon numarası şu şekilde görünmektedir: \n",
    "\n",
    "(123) 456-7890\n",
    "\n",
    "Örnekler\n",
    "\n",
    "dogru_format_mı(\"(123) 456-7890\") ➞ True\n",
    "\n",
    "dogru_format_mı(\"1111)555 2345\") ➞ False\n",
    "\n",
    "dogru_format_mı(\"098) 123 4567\") ➞ False\n",
    "\n",
    "Notlar:\n",
    "Parantezi kapattıktan sonra boşluk eklemeyi unutmayın.\n",
    "\n"
   ]
  },
  {
   "cell_type": "code",
   "execution_count": 18,
   "metadata": {},
   "outputs": [],
   "source": [
    "def dogru_format(telefon):\n",
    "    tel1 = telefon[1:4] + telefon[6:9] + telefon[10:]\n",
    "    tel2 = telefon[0] + telefon[4]\n",
    "    tel3 = telefon[5]\n",
    "    tel4 = telefon[9]\n",
    "    if tel1.isdigit() and tel2 == \"()\" and tel3 == \" \" and tel4 == \"-\":\n",
    "        return True\n",
    "    return False"
   ]
  },
  {
   "cell_type": "code",
   "execution_count": 19,
   "metadata": {},
   "outputs": [
    {
     "data": {
      "text/plain": [
       "False"
      ]
     },
     "execution_count": 19,
     "metadata": {},
     "output_type": "execute_result"
    }
   ],
   "source": [
    "dogru_format(\"(123) 456-7890\")\n",
    "dogru_format(\"1111)555 2345\")\n",
    "dogru_format(\"098) 123 4567\")"
   ]
  },
  {
   "cell_type": "markdown",
   "metadata": {},
   "source": [
    "Soru 13\n",
    "\n",
    "Perrin dizisindeki her sayı bir sayının kendisinden iki önceki ve iki sonraki konumunun toplamı olarak oluşturulur. İlk üç sayının (3, 0, 2) olduğu bir durumda dizi şu şekilde genişletilir:\n",
    "\n",
    "P(0) P(1) P(2) P(3) P(4) P(5) P(6) P(7) ... P(n)\n",
    "\n",
    "3, 0, 2, 3, 2, 5, 5, 7, ...\n",
    "\n",
    "n değeri verildiğinde Perrin sayısı P(n) değerini döndürün.\n",
    "\n",
    "Örnekler\n",
    "\n",
    "perrin(1) ➞ 0\n",
    "\n",
    "perrin(8) ➞ 10\n",
    "\n",
    "perrin(26) ➞ 1497"
   ]
  },
  {
   "cell_type": "code",
   "execution_count": 29,
   "metadata": {},
   "outputs": [],
   "source": [
    "def perrin(n):\n",
    "    per = [3,0,2]\n",
    "    if n == 0 or n == 1 or n == 2:\n",
    "        return per[n]\n",
    "    for i in range(3,n+1):\n",
    "        per.append(per[i-2] + per[i-3])\n",
    "    return per[n]"
   ]
  },
  {
   "cell_type": "code",
   "execution_count": 28,
   "metadata": {},
   "outputs": [
    {
     "data": {
      "text/plain": [
       "1497"
      ]
     },
     "execution_count": 28,
     "metadata": {},
     "output_type": "execute_result"
    }
   ],
   "source": [
    "perrin(2)\n",
    "perrin(8)\n",
    "perrin(26)"
   ]
  },
  {
   "cell_type": "markdown",
   "metadata": {},
   "source": [
    "Soru 14\n",
    "\n",
    "Camel Case (veya camelCase) kullanımı, ilk kelimenin küçük harfli ve diğer tüm kelimelerin ilk harflerinin ise büyük harfli olarak kullanıldığı durumdur. Kelimelerin arasında boşluk olmadığına dikkat edin.\n",
    "\n",
    "Diziyi alan ve camelCase’e döndüren bir fonksiyon oluşturun.\n",
    "\n",
    "Örnekler\n",
    "camelCasing(\"Hello World\") ➞ \"helloWorld\"\n",
    "\n",
    "camelCasing(\"snake_case\") ➞ \"snakeCase\"\n",
    "\n",
    "camelCasing(\"low high_HIGH\") ➞ \"lowHighHigh\"\n",
    "\n",
    "Notlar:\n",
    "Tüm boşlukları ve alt çizgileri kaldırmanız gerekir.\n",
    "Girdi olarak sayı olmayacak."
   ]
  },
  {
   "cell_type": "code",
   "execution_count": 1,
   "metadata": {},
   "outputs": [],
   "source": [
    "def camelCasing(yazi):\n",
    "    yazi = yazi.replace(\"_\",\" \")\n",
    "    kelimeler = yazi.split(\" \")\n",
    "    kelimeler[0] = kelimeler[0].lower()\n",
    "    for i in range(1,len(kelimeler)):\n",
    "        kelimeler[i] = kelimeler[i][0].upper() + kelimeler[i][1:]\n",
    "    return \"\".join(kelimeler)"
   ]
  },
  {
   "cell_type": "code",
   "execution_count": 4,
   "metadata": {},
   "outputs": [
    {
     "data": {
      "text/plain": [
       "'lowHighHIGH'"
      ]
     },
     "execution_count": 4,
     "metadata": {},
     "output_type": "execute_result"
    }
   ],
   "source": [
    "camelCasing(\"Hello World\")\n",
    "camelCasing(\"snake_case\")\n",
    "camelCasing(\"low high_HIGH\")"
   ]
  },
  {
   "cell_type": "markdown",
   "metadata": {},
   "source": [
    "Soru 15 \n",
    "\n",
    "h yüksekliğine göre Yılbaşı ağacı oluşturan bir fonksiyon yazın.\n",
    "\n",
    "Örnekler\n",
    "agac(1) ➞ [\n",
    "  \"#\"\n",
    "]\n",
    "\n",
    "agac(2) ➞ [\n",
    "  \" # \",\n",
    "  \"###\"\n",
    "]\n",
    "\n",
    "agac(5) ➞ [\n",
    "  \"    #    \",\n",
    "  \"   ###   \",\n",
    "  \"  #####  \",\n",
    "  \" ####### \",\n",
    "  \"#########\"\n",
    "]\n",
    "\n",
    "agac(0) ➞ []\n",
    "\n",
    "Not:\n",
    "\n",
    "*Liste elemanları yan yana gözükebilir."
   ]
  },
  {
   "cell_type": "code",
   "execution_count": 5,
   "metadata": {},
   "outputs": [],
   "source": [
    "def agac(n):\n",
    "    cevap = []\n",
    "    genıslik = 2*n-1\n",
    "    for i in range(1,n+1):\n",
    "        kare = \"#\"*(i*2-1)\n",
    "        cevap.append(kare.center(genıslik))\n",
    "    return cevap"
   ]
  },
  {
   "cell_type": "code",
   "execution_count": 7,
   "metadata": {},
   "outputs": [
    {
     "data": {
      "text/plain": [
       "['           #           ',\n",
       " '          ###          ',\n",
       " '         #####         ',\n",
       " '        #######        ',\n",
       " '       #########       ',\n",
       " '      ###########      ',\n",
       " '     #############     ',\n",
       " '    ###############    ',\n",
       " '   #################   ',\n",
       " '  ###################  ',\n",
       " ' ##################### ',\n",
       " '#######################']"
      ]
     },
     "execution_count": 7,
     "metadata": {},
     "output_type": "execute_result"
    }
   ],
   "source": [
    "agac(5)\n",
    "agac(12)"
   ]
  },
  {
   "cell_type": "markdown",
   "metadata": {},
   "source": [
    "Soru 16\n",
    "\n",
    "Sansürlü bir string ve sansürlü sesli harflerin verildiği durumda orijinal sansürsüz diziyi döndürün.\n",
    "\n",
    "Örnek\n",
    "\n",
    "sansür(\"abcd\", \"\") ➞ \"abcd\"\n",
    "\n",
    "sansür(\"*r*b*m* p*rk *tt*m\", \"aaaıaei\") ➞ \"arabamı park ettim\"\n",
    "\n",
    "Notlar:\n",
    "Sesli harfler doğru sırada verilmiştir.\n",
    "Sesli harf sayısı, sansürlü dizideki * karakter sayısıyla eşleşir."
   ]
  },
  {
   "cell_type": "code",
   "execution_count": 1,
   "metadata": {},
   "outputs": [],
   "source": [
    "def sansür(sansürlü,sesli):\n",
    "    k = 0\n",
    "    cevap = \"\"\n",
    "    for i in sansürlü:\n",
    "        if i == \"*\":\n",
    "            cevap += sesli[k]\n",
    "            k += 1\n",
    "        else:\n",
    "            cevap += i\n",
    "    return cevap"
   ]
  },
  {
   "cell_type": "code",
   "execution_count": 3,
   "metadata": {},
   "outputs": [
    {
     "data": {
      "text/plain": [
       "'arabamı park ettim'"
      ]
     },
     "execution_count": 3,
     "metadata": {},
     "output_type": "execute_result"
    }
   ],
   "source": [
    "sansür(\"abcd\", \"\") \n",
    "sansür(\"*r*b*m* p*rk *tt*m\", \"aaaıaei\")"
   ]
  },
  {
   "cell_type": "markdown",
   "metadata": {},
   "source": [
    "Soru 17\n",
    "\n",
    "Pasta grafiği, her kategorinin sıklığının toplam sıklıkta tek bir sıklık yüzdesi olarak derece genliğinde bir dilim (veya dairesel alan) ile temsil edildiği veri setini temsil edilen dairesel bir grafiktir. Alanların derecelerini aşağıdaki adımlarla elde edebilirsiniz:\n",
    "\n",
    "Toplam frekansları hesaplayın.\n",
    "Toplam frekansı her kategorinin frekansına bölerek yüzdeleri hesaplayın.\n",
    "Her yüzdeyi 360 ile çarparak dereceye dönüştürün.\n",
    "Anahtarlar(dict.key) veri kategorilerini (harflerle temsil edilen) ve değerler de veri frekansları olan sözlük verilerine sahipsiniz. Aynı sözlük değerlerinin frekanslar yerine derecelere dönüştürülen değerleriyle pasta grafiğini döndüren bir haritayı içeren fonksiyon yazın. Son değerleri en yakın ondalığa yuvarlayın.\n",
    "\n",
    "Pasta Grafiği\n",
    "\n",
    "Örnekler\n",
    "\n",
    "pasta_grafigi({ \"a\": 1, \"b\":2 }) ➞ { \"a\": 120, \"b\": 240 }\n",
    "\n",
    "pasta_grafigi({ \"a\": 30, \"b\": 15, \"c\": 55 }) ➞ { \"a\": 108, \"b\": 54, \"c\": 198 }\n",
    "\n",
    "pasta_grafigi({ \"a\": 8, \"b\": 21, \"c\": 12, \"d\": 5, \"e\": 4 }) ➞ { \"a\": 57,6, \"b\": 151,2, \"c\": 86,4, \"d\": 36, \"e\": 28,8 }\n"
   ]
  },
  {
   "cell_type": "code",
   "execution_count": 12,
   "metadata": {},
   "outputs": [],
   "source": [
    "def pasta_grafigi(sözlük):\n",
    "    toplam = 0\n",
    "    for i in sözlük:\n",
    "        toplam += sözlük[i]\n",
    "    for i in sözlük:\n",
    "        sözlük[i] /= toplam\n",
    "        sözlük[i] = round(sözlük[i]*360,1)\n",
    "    return sözlük"
   ]
  },
  {
   "cell_type": "code",
   "execution_count": 13,
   "metadata": {},
   "outputs": [
    {
     "data": {
      "text/plain": [
       "{'a': 57.6, 'b': 151.2, 'c': 86.4, 'd': 36.0, 'e': 28.8}"
      ]
     },
     "execution_count": 13,
     "metadata": {},
     "output_type": "execute_result"
    }
   ],
   "source": [
    "pasta_grafigi({ \"a\": 1, \"b\":2 })\n",
    "pasta_grafigi({ \"a\": 30, \"b\": 15, \"c\": 55 })\n",
    "pasta_grafigi({ \"a\": 8, \"b\": 21, \"c\": 12, \"d\": 5, \"e\": 4 })"
   ]
  },
  {
   "cell_type": "markdown",
   "metadata": {},
   "source": [
    "Soru 18\n",
    "\n",
    "Girdi olarak string alan, her harfin türkçe alfabesindeki sırasını bulup topladıktan sonra çıkan sonuç çift ise True, tek ise False döndüren bir fonksiyon yazınız.\n",
    "\n",
    "Örnek\n",
    "\n",
    "kelime_çift_mi(\"Python\")  ➞ False #! 20 + 28 + 24 + 10 + 18 + 17 = 117 (Tek)"
   ]
  },
  {
   "cell_type": "code",
   "execution_count": 1,
   "metadata": {},
   "outputs": [],
   "source": [
    "def kelime_çift_mi(kelime):\n",
    "    harfler = \"abcçdefgğhıijklmnoöprsştuüvyz\"\n",
    "    toplam = 0\n",
    "    for harf in kelime.lower():\n",
    "        if harf in harfler:\n",
    "            toplam += harfler.index(harf) + 1\n",
    "    return toplam % 2 == 0"
   ]
  },
  {
   "cell_type": "code",
   "execution_count": 3,
   "metadata": {},
   "outputs": [
    {
     "data": {
      "text/plain": [
       "True"
      ]
     },
     "execution_count": 3,
     "metadata": {},
     "output_type": "execute_result"
    }
   ],
   "source": [
    "kelime_çift_mi(\"Python\")\n",
    "kelime_çift_mi(\"BilgisayaR\")"
   ]
  },
  {
   "cell_type": "markdown",
   "metadata": {},
   "source": [
    "Soru 19 \n",
    "\n",
    "Sudoku, standart biçimde oluşturulmuş 9×9 boyutlarında bir diyagram üzerinde çözülen ve her satırda, her sütunda ve her 3×3 boyutluk karede, 1’den 9’a kadar olan rakamların birer kez yer alması gerektiği temeline dayanan bir zeka oyunu çeşididir.\n",
    "\n",
    "Sizden 2 boyutlu bir 3x3 sudokuyu inceleyip sudoku olup olmadığı inceleyen bir fonksiyon yazmanız bekleniyor. \n",
    "\n",
    "* Tüm rakamlar olacak\n",
    "* Rakam tekrarı olmayacak\n",
    "\n",
    "sudoku_mu([[1, 3, 2], [9, 7, 8], [4, 5, 6]]) ➞ True\n",
    "\n",
    "sudoku_mu([[1, 1, 3], [6, 5, 4], [8, 7, 9]]) ➞ False\n",
    "\n",
    "sudoku_mu([[0, 1, 2], [6, 4, 5], [9, 8, 7]]) ➞ False\n",
    "\n",
    "sudoku_mu([[8, 9, 2], [5, 6, 1], [3, 7, 4]]) ➞ True"
   ]
  },
  {
   "cell_type": "code",
   "execution_count": 4,
   "metadata": {},
   "outputs": [],
   "source": [
    "def sudoku_mu(sudoku):\n",
    "    toplam = 0\n",
    "    for kutu in sudoku:\n",
    "        for eleman in kutu:\n",
    "            if eleman < 1 or eleman > 9:\n",
    "                return False\n",
    "            toplam += eleman\n",
    "    return toplam == 45\n"
   ]
  },
  {
   "cell_type": "code",
   "execution_count": 7,
   "metadata": {},
   "outputs": [
    {
     "data": {
      "text/plain": [
       "True"
      ]
     },
     "execution_count": 7,
     "metadata": {},
     "output_type": "execute_result"
    }
   ],
   "source": [
    "sudoku_mu([[1, 3, 2], [9, 7, 8], [4, 5, 6]])\n",
    "sudoku_mu([[0, 1, 2], [6, 4, 5], [9, 8, 7]])\n",
    "sudoku_mu([[8, 9, 2], [5, 6, 1], [3, 7, 4]])"
   ]
  },
  {
   "cell_type": "markdown",
   "metadata": {},
   "source": [
    "Soru 20 \n",
    "\n",
    "Satrançta, vezirler herhangi bir karede  yatay, dikey veya çapraz olarak hareket edebilirler.\n",
    "\n",
    "Vezirinizin ve rakibinizin vezirinin yerini göz önüne alındığında, rakibinizin vezirini yakalayıp yakalayamayacağınızı belirleyin. Konumunuz ve rakiplerinizin konumu sırasıyla listenin birinci ve ikinci unsurlarıdır.\n",
    "\n",
    "Örnek\n",
    "\n",
    "vezir([\"A1\", \"H8\"]) ➞ True   --># Çapraz hareket edebilir\n",
    "\n",
    "vezir([\"A1\", \"C2\"]) ➞ False  --># A1'den C2'ye ulaşamaz.\n",
    "\n",
    "vezir([\"G3\", \"E5\"]) ➞ True"
   ]
  },
  {
   "cell_type": "code",
   "execution_count": 14,
   "metadata": {},
   "outputs": [],
   "source": [
    "def vezir(oyuncular):\n",
    "    harfler = \"ABCDEFGH\"\n",
    "    p1 = oyuncular[0]\n",
    "    p2 = oyuncular[1]\n",
    "    if p1[0] == p2[0] or p1[1] == p2[1]:\n",
    "        return True\n",
    "    poz1 = harfler.index(p1[0])\n",
    "    poz2 = harfler.index(p2[0])\n",
    "    yatay = abs(poz1 - poz2)\n",
    "    dikey = abs(int(p1[1]) - int(p2[1]))\n",
    "    return yatay == dikey"
   ]
  },
  {
   "cell_type": "code",
   "execution_count": 15,
   "metadata": {},
   "outputs": [
    {
     "data": {
      "text/plain": [
       "True"
      ]
     },
     "execution_count": 15,
     "metadata": {},
     "output_type": "execute_result"
    }
   ],
   "source": [
    "vezir([\"A1\", \"H8\"])\n",
    "vezir([\"A1\", \"C2\"]) \n",
    "vezir([\"G3\", \"E5\"])"
   ]
  }
 ],
 "metadata": {
  "interpreter": {
   "hash": "4429270fe79baf265b12c04ffc28d94055f90b5711fd88618cc5ebaf6124d0f7"
  },
  "kernelspec": {
   "display_name": "Python 3.10.4 64-bit",
   "language": "python",
   "name": "python3"
  },
  "language_info": {
   "codemirror_mode": {
    "name": "ipython",
    "version": 3
   },
   "file_extension": ".py",
   "mimetype": "text/x-python",
   "name": "python",
   "nbconvert_exporter": "python",
   "pygments_lexer": "ipython3",
   "version": "3.10.4"
  },
  "orig_nbformat": 4
 },
 "nbformat": 4,
 "nbformat_minor": 2
}
