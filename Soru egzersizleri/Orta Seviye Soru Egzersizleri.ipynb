{
 "cells": [
  {
   "cell_type": "markdown",
   "metadata": {},
   "source": [
    "Soru 1\n",
    "\n",
    " Semih ve Mehmet’in yarışan sümüklü böcekleri var. İkisinde de 3 tane var, yavaş (y), orta (o) ve hızlı (h). Semih’in sümüklü böcekleri Mehmet’in sümüklü böceklerinden daha güçlü olsa da Mehmet’in bir planı var. Planı:\n",
    "\n",
    "Raunt 1: [y, h] En yavaş böceği Semih’in en hızlı böceğine kurban et.\n",
    "\n",
    "Raunt 2: [o, y] Orta sümüklü böceğiyle Semih’in en yavaş böceğini yen.\n",
    "\n",
    "Raunt 3: [h, o] En hızlı böceğiyle Semih’in orta böceğini yen.\n",
    "\n",
    "Mehmet’in oyunu 2/3 oranında kazandığı durumda True çıktısı verecek şekilde Mehmet’in kazanıp kazamadığını belirleyen bir fonksiyon yazın.\n",
    "\n",
    "Fonksiyon girdileri:\n",
    "\n",
    "Liste 1: Mehmet için [y, o, h]\n",
    "\n",
    "Liste 2: Semih için [y, o, h]\n",
    "\n",
    "Örnekler\n",
    "mehmet_wins([3, 5, 10], [4, 7, 11]) ➞ True\n",
    "\n",
    "Karşılaşmalar (3, 11), (5, 4) ve (10, 7) olduğu için Mehmet 3’ünden 2’sini kazanır.\n",
    "\n",
    "mehmet_wins([6, 8, 9], [7, 12, 14]) ➞ False\n",
    "\n",
    "Karşılaşmalar (6, 14), (8, 7) ve (9, 12) olduğu için Semih 3’ünden 2’sini kazanır.\n",
    "\n",
    "mehmet_wins([1, 8, 20], [2, 9, 100]) ➞ True\n",
    "\n",
    "Notlar:\n",
    "Yarışan sümüklü böceğin hızı Semih’in yarışan sümüklü böceğinin hızını aşarsa Mehmet kazanır.\n",
    "\n",
    "Semih her zaman aşağıdaki sırada oynayacak: [h, y, o]\n"
   ]
  },
  {
   "cell_type": "code",
   "execution_count": 16,
   "metadata": {},
   "outputs": [],
   "source": [
    "def mehmet_wins(mehmet,semih):\n",
    "    mehmetKazandıklari = 0\n",
    "    if mehmet[0] > semih [2]: mehmetKazandıklari += 1\n",
    "    if mehmet[1] > semih [0]: mehmetKazandıklari += 1\n",
    "    if mehmet[2] > semih [1]: mehmetKazandıklari += 1\n",
    "    return mehmetKazandıklari >= 2\n"
   ]
  },
  {
   "cell_type": "code",
   "execution_count": 17,
   "metadata": {},
   "outputs": [
    {
     "data": {
      "text/plain": [
       "False"
      ]
     },
     "execution_count": 17,
     "metadata": {},
     "output_type": "execute_result"
    }
   ],
   "source": [
    "# mehmet_wins([3, 5, 10], [4, 7, 11])\n",
    "mehmet_wins([6, 8, 9], [7, 12, 14])"
   ]
  },
  {
   "cell_type": "markdown",
   "metadata": {},
   "source": [
    "Soru 2\n",
    "\n",
    "Bir üretici için çalışıyorsunuz ve sizden ürün satışından elde edilen toplam kârı hesaplamanızı istedi. Birim başına maliyet, birim başına satış ve başlangıç envanterini veren bir sözlük aldınız. En yakın lira değerine yuvarlayarak elde edilen toplam kârı döndürün. Tüm envanterin satıldığını varsayın.\n",
    "\n",
    "Örnekler\n",
    "\n",
    "kazanc({\n",
    "  \"maliyet\": 32.67,\n",
    "  \"satış\": 45.00,\n",
    "  \"envanter\": 1200\n",
    "}) ➞ 14796\n",
    "\n",
    "kazanc({\n",
    "  \"maliyet\": 225.89,\n",
    "  \"satış\": 550.00,\n",
    "  \"envanter\": 100\n",
    "}) ➞ 32411\n",
    "\n",
    "kazanc({\n",
    "  \"maliyet\": 2.77,\n",
    "  \"satış\": 7.95,\n",
    "  \"envanter\": 8500\n",
    "}) ➞ 44030\n",
    "\n",
    "Notlar:\n",
    "\n",
    "Kâr = Toplam Satış - Toplam Maliyet"
   ]
  },
  {
   "cell_type": "code",
   "execution_count": 18,
   "metadata": {},
   "outputs": [],
   "source": [
    "def kazanc(bilgi):\n",
    "    maliyet = bilgi[\"maliyet\"]\n",
    "    satıs = bilgi[\"satış\"]\n",
    "    envanter = bilgi[\"envanter\"]\n",
    "    return round((satıs*envanter) - (maliyet*envanter))"
   ]
  },
  {
   "cell_type": "code",
   "execution_count": 19,
   "metadata": {},
   "outputs": [
    {
     "data": {
      "text/plain": [
       "44030"
      ]
     },
     "execution_count": 19,
     "metadata": {},
     "output_type": "execute_result"
    }
   ],
   "source": [
    "# kazanc({\n",
    "#   \"maliyet\": 32.67,\n",
    "#   \"satış\": 45.00,\n",
    "#   \"envanter\": 1200\n",
    "# })\n",
    "\n",
    "kazanc({\n",
    "  \"maliyet\": 2.77,\n",
    "  \"satış\": 7.95,\n",
    "  \"envanter\": 8500\n",
    "})"
   ]
  },
  {
   "cell_type": "markdown",
   "metadata": {},
   "source": [
    "Soru 3\n",
    "\n",
    "Her girdi listesine iki tanesi hariç her rakam en az bir kere tekrarlıyor.\n",
    "\n",
    "İki benzersiz sayıyı döndüren bir fonksiyon yazın.\n",
    "\n",
    "Örnekler\n",
    "\n",
    "tekrarlanmayan([1, 9, 8, 8, 7, 6, 1, 6]) ➞ [9, 7]\n",
    "\n",
    "tekrarlanmayan([5, 5, 2, 4, 4, 4, 9, 9, 9, 1]) ➞ [2, 1]\n",
    "\n",
    "tekrarlanmayan([9, 5, 6, 8, 7, 7, 1, 1, 1, 1, 1, 9, 8]) ➞ [5, 6]\n",
    "\n",
    "Notlar:\n",
    "\n",
    "Çıktıda aynı sıralamayı tutun.\n",
    "\n"
   ]
  },
  {
   "cell_type": "code",
   "execution_count": 20,
   "metadata": {},
   "outputs": [],
   "source": [
    "def tekrarlanmayan(girdi):\n",
    "    sonuc = []\n",
    "    for i in range(len(girdi)):\n",
    "        if girdi.count(girdi[i]) == 1:\n",
    "            sonuc.append(girdi[i])\n",
    "    return sonuc"
   ]
  },
  {
   "cell_type": "code",
   "execution_count": 21,
   "metadata": {},
   "outputs": [
    {
     "data": {
      "text/plain": [
       "[5, 6]"
      ]
     },
     "execution_count": 21,
     "metadata": {},
     "output_type": "execute_result"
    }
   ],
   "source": [
    "# tekrarlanmayan([1, 9, 8, 8, 7, 6, 1, 6])\n",
    "tekrarlanmayan([9, 5, 6, 8, 7, 7, 1, 1, 1, 1, 1, 9, 8])"
   ]
  },
  {
   "cell_type": "markdown",
   "metadata": {},
   "source": [
    "Soru 4 \n",
    "\n",
    "Masa tenisi oyunu her zaman Ping! ve sonrasında gelen Pong! sesinden oluşur. Bu nedenle eğer son ses olarak Pong! sesini duyarsanız 2. Oyuncunun kazandığını anlarsınız (Oyuncu 1 vuruşa karşılık veremez).\n",
    "\n",
    "Ping! listesi için her öğenin arasında Pong! yerleştiren bir fonksiyon yazın. Aynı zamanda:\n",
    "\n",
    "Kazanma True’ya eşitse listeyi Pong! ile bitirin.\n",
    "Kazanma False’a eşitse Ping! ile bitirin.\n",
    "\n",
    "Örnekler\n",
    "\n",
    "ping_pong([\"Ping!\", \"Ping!\", \"Ping!\"], True) ➞ [\"Ping!\", \"Pong!\", \"Ping!\", \"Pong!\", \"Ping!\", \"Pong!\"]\n",
    "\n",
    "ping_pong([\"Ping!\", \"Ping!\"], False) ➞ [\"Ping!\", \"Pong!\", \"Ping!\"]\n",
    "\n",
    "ping_pong([\"Ping!\"], True) ➞ [\"Ping!\", \"Pong!\"]\n",
    "\n",
    "Notlar:\n",
    "Her zaman topu döndürmelisiniz (Ponglar sizin).\n",
    "1. Oyuncu servis kullanıyor ve Ping! sesi çıkarıyor.\n",
    "Listeyle dönün."
   ]
  },
  {
   "cell_type": "code",
   "execution_count": 22,
   "metadata": {},
   "outputs": [],
   "source": [
    "def ping_pong(liste,kazanma):\n",
    "    sonuc = [\"Ping!\",\"Pong!\"] * len(liste)\n",
    "    if kazanma:\n",
    "        return sonuc\n",
    "    else:\n",
    "        return sonuc[:-1]"
   ]
  },
  {
   "cell_type": "code",
   "execution_count": 23,
   "metadata": {},
   "outputs": [
    {
     "data": {
      "text/plain": [
       "['Ping!', 'Pong!', 'Ping!']"
      ]
     },
     "execution_count": 23,
     "metadata": {},
     "output_type": "execute_result"
    }
   ],
   "source": [
    "ping_pong([\"Ping!\", \"Ping!\", \"Ping!\"], True)\n",
    "ping_pong([\"Ping!\", \"Ping!\"], False)"
   ]
  },
  {
   "cell_type": "markdown",
   "metadata": {},
   "source": [
    "Soru 5 \n",
    "\n",
    "Bir stringi alan ve yeni stringi birbirini izleyen aynı harfleri çıkaran yeni bir stringi üreten bir fonksiyon oluşturun.\n",
    "\n",
    "Örnekler\n",
    "\n",
    "kısalt(\"seeeelaaam\") ➞ \"selam\"\n",
    "\n",
    "kısalt(\"kkkkkeeeediii\") ➞ \"kedi\"\n",
    "\n",
    "kısalt(\"aaarrraba\") ➞ \"araba\""
   ]
  },
  {
   "cell_type": "code",
   "execution_count": 53,
   "metadata": {},
   "outputs": [],
   "source": [
    "def kısalt(metin):\n",
    "    yeniMetin = \"\"\n",
    "    karakterler = []\n",
    "    for i in metin:\n",
    "        karakterler.append(i)\n",
    "    k = 0\n",
    "    for i in karakterler:\n",
    "        if k == len(karakterler) -1:\n",
    "            yeniMetin += i\n",
    "            break\n",
    "        if i != karakterler[k+1]:\n",
    "            yeniMetin += i\n",
    "        k += 1\n",
    "    return yeniMetin\n",
    "\n",
    "        "
   ]
  },
  {
   "cell_type": "code",
   "execution_count": 54,
   "metadata": {},
   "outputs": [
    {
     "data": {
      "text/plain": [
       "'kedi'"
      ]
     },
     "execution_count": 54,
     "metadata": {},
     "output_type": "execute_result"
    }
   ],
   "source": [
    "# kısalt(\"i\")\n",
    "# kısalt(\"seeeelaaam\")\n",
    "kısalt(\"kkkkkeeeediii\")\n"
   ]
  },
  {
   "cell_type": "markdown",
   "metadata": {},
   "source": [
    "Soru 6 \n",
    "\n",
    "Sekiz tane 1 ve/veya sıfırdan oluşan bir liste verilecek. 8 bit ikili sayıyı alan ve onlu sisteme dönüştüren bir fonksiyon yazın.\n",
    "\n",
    "Örnekler\n",
    "\n",
    "ikilikten_onluga([1, 1, 1, 1, 1, 1, 1, 1]) ➞ 255\n",
    "\n",
    "ikilikten_onluga([0, 0, 0, 0, 0, 0, 0, 0]) ➞ 0\n",
    "\n",
    "ikilikten_onluga([1, 0, 1, 1, 1, 1, 0, 0]) ➞ 188"
   ]
  },
  {
   "cell_type": "code",
   "execution_count": 1,
   "metadata": {},
   "outputs": [],
   "source": [
    "def ikilikten_onluga(ikilik):\n",
    "    ikilik = ikilik[::-1]\n",
    "    ondalık = 0\n",
    "    for i in range(len(ikilik)):\n",
    "        ondalık += ikilik[i] * 2**i\n",
    "    return ondalık"
   ]
  },
  {
   "cell_type": "code",
   "execution_count": 5,
   "metadata": {},
   "outputs": [
    {
     "data": {
      "text/plain": [
       "255"
      ]
     },
     "execution_count": 5,
     "metadata": {},
     "output_type": "execute_result"
    }
   ],
   "source": [
    "# ikilikten_onluga([1, 0, 1, 1, 1, 1, 0, 0])\n",
    "ikilikten_onluga([1, 1, 1, 1, 1, 1, 1, 1])"
   ]
  },
  {
   "cell_type": "markdown",
   "metadata": {},
   "source": [
    "Soru 7\n",
    "\n",
    "Sayılar listesini alan ve listede 7 sayısının olduğu durumlarda “Boom!” döndüren bir fonksiyon yazın. Diğer durumlarda “listede 7 yok” döndürün.\n",
    "\n",
    "Örnekler\n",
    "\n",
    "evreka([1, 2, 3, 4, 5, 6, 7]) ➞ \"Boom!\"\n",
    "\n",
    "evreka([8, 6, 33, 100]) ➞ \"listede 7 yok\"\n",
    "\n",
    "evreka([2, 55, 60, 97, 86]) ➞ \"Boom!\""
   ]
  },
  {
   "cell_type": "code",
   "execution_count": 10,
   "metadata": {},
   "outputs": [],
   "source": [
    "def evreka(liste):\n",
    "    for i in liste:\n",
    "        if \"7\" in str(i):\n",
    "            return \"Boom!\"\n",
    "    return \"listede 7 yok\""
   ]
  },
  {
   "cell_type": "code",
   "execution_count": 14,
   "metadata": {},
   "outputs": [
    {
     "data": {
      "text/plain": [
       "'Boom!'"
      ]
     },
     "execution_count": 14,
     "metadata": {},
     "output_type": "execute_result"
    }
   ],
   "source": [
    "# evreka([1, 2, 3, 4, 5, 6, 7])\n",
    "# evreka([8, 6, 33, 100])\n",
    "evreka([2, 55, 60, 97, 86])"
   ]
  },
  {
   "cell_type": "markdown",
   "metadata": {},
   "source": [
    "Soru 8\n",
    "\n",
    "Malzeme listesi ve seçilen malzemeyi girdi olarak alın. Seçili malzemelerin çevresinde ekmek olacak şekilde listeyi tekrar döndüren bir fonksiyon yazın.\n",
    "\n",
    "Örnekler\n",
    "\n",
    "sandviç(['ton', 'salam', 'domates'], 'salam') ➞ ['ton', 'ekmek', ‘salam', 'ekmek', 'domates']\n",
    "\n",
    "sandviç(['peynir', 'marul'], 'peynir') ➞ ['ekmek', 'peynir', 'ekmek', 'marul']\n",
    "\n",
    "sandviç(['salam', 'salam'], 'salam') ➞ ['ekmek', 'salam', 'ekmek', 'ekmek', 'salam', 'ekmek']"
   ]
  },
  {
   "cell_type": "code",
   "execution_count": 18,
   "metadata": {},
   "outputs": [],
   "source": [
    "def sandviç(malzemeler,secilen):\n",
    "    cevap = []\n",
    "    for malzeme in malzemeler:\n",
    "        if malzeme == secilen:\n",
    "            cevap.append(\"ekmek\")\n",
    "            cevap.append(secilen)\n",
    "            cevap.append(\"ekmek\")\n",
    "        else:\n",
    "            cevap.append(malzeme)\n",
    "    return cevap"
   ]
  },
  {
   "cell_type": "code",
   "execution_count": 21,
   "metadata": {},
   "outputs": [
    {
     "data": {
      "text/plain": [
       "['ekmek', 'salam', 'ekmek', 'ekmek', 'salam', 'ekmek']"
      ]
     },
     "execution_count": 21,
     "metadata": {},
     "output_type": "execute_result"
    }
   ],
   "source": [
    "sandviç(['ton', 'salam', 'domates'], 'salam')\n",
    "sandviç(['peynir', 'marul'], 'peynir')\n",
    "sandviç(['salam', 'salam'], 'salam')"
   ]
  },
  {
   "cell_type": "markdown",
   "metadata": {},
   "source": [
    "Soru 9 \n",
    "\n",
    "Belirli bir aralıkta (aralık sınırları dahil) bir sayının kaç kere olduğunu sayan bir fonksiyon yazın. Fonksiyon şu şekilde görünecek:\n",
    "\n",
    "kac_tane(başlangıç, bitiş, sayı) ➞ sayının kullanılma sayısı\n",
    "\n",
    "Örnekler\n",
    "\n",
    "kac_tane(51, 55, 5) ➞ 6 ==> [51, 52, 53, 54, 55] : 5 sayısı 6 kere geçiyor\n",
    "\n",
    "kac_tane(1, 8, 9) ➞ 0\n",
    "\n",
    "kac_tane(-8, -1, 8) ➞ 1\n",
    "\n",
    "kac_tane(71, 77, 2) ➞ 1\n",
    "\n",
    "Notlar:\n",
    "Aralıklar negatif olabilir\n",
    "başlangıç <= bitiş\n",
    "\n"
   ]
  },
  {
   "cell_type": "code",
   "execution_count": 27,
   "metadata": {},
   "outputs": [],
   "source": [
    "def kac_tane(baslangic,bitis,sayi):\n",
    "    liste = []\n",
    "    for i in range(baslangic,bitis+1):\n",
    "        liste.append(str(i))\n",
    "    cevap = 0\n",
    "    for i in range(len(liste)):\n",
    "        cevap += liste[i].count(str(sayi))\n",
    "    return cevap"
   ]
  },
  {
   "cell_type": "code",
   "execution_count": 28,
   "metadata": {},
   "outputs": [
    {
     "data": {
      "text/plain": [
       "6"
      ]
     },
     "execution_count": 28,
     "metadata": {},
     "output_type": "execute_result"
    }
   ],
   "source": [
    "kac_tane(1, 8, 9)\n",
    "# kac_tane(-8, -1, 8)\n",
    "# kac_tane(71, 77, 2)\n",
    "kac_tane(51, 55, 5)"
   ]
  },
  {
   "cell_type": "code",
   "execution_count": null,
   "metadata": {},
   "outputs": [],
   "source": []
  }
 ],
 "metadata": {
  "interpreter": {
   "hash": "4429270fe79baf265b12c04ffc28d94055f90b5711fd88618cc5ebaf6124d0f7"
  },
  "kernelspec": {
   "display_name": "Python 3.10.4 64-bit",
   "language": "python",
   "name": "python3"
  },
  "language_info": {
   "codemirror_mode": {
    "name": "ipython",
    "version": 3
   },
   "file_extension": ".py",
   "mimetype": "text/x-python",
   "name": "python",
   "nbconvert_exporter": "python",
   "pygments_lexer": "ipython3",
   "version": "3.10.4"
  },
  "orig_nbformat": 4
 },
 "nbformat": 4,
 "nbformat_minor": 2
}
