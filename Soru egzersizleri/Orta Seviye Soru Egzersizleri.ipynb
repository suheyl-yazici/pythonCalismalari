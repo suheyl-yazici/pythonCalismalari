{
 "cells": [
  {
   "cell_type": "markdown",
   "metadata": {},
   "source": [
    "Soru 1\n",
    "\n",
    " Semih ve Mehmet’in yarışan sümüklü böcekleri var. İkisinde de 3 tane var, yavaş (y), orta (o) ve hızlı (h). Semih’in sümüklü böcekleri Mehmet’in sümüklü böceklerinden daha güçlü olsa da Mehmet’in bir planı var. Planı:\n",
    "\n",
    "Raunt 1: [y, h] En yavaş böceği Semih’in en hızlı böceğine kurban et.\n",
    "\n",
    "Raunt 2: [o, y] Orta sümüklü böceğiyle Semih’in en yavaş böceğini yen.\n",
    "\n",
    "Raunt 3: [h, o] En hızlı böceğiyle Semih’in orta böceğini yen.\n",
    "\n",
    "Mehmet’in oyunu 2/3 oranında kazandığı durumda True çıktısı verecek şekilde Mehmet’in kazanıp kazamadığını belirleyen bir fonksiyon yazın.\n",
    "\n",
    "Fonksiyon girdileri:\n",
    "\n",
    "Liste 1: Mehmet için [y, o, h]\n",
    "\n",
    "Liste 2: Semih için [y, o, h]\n",
    "\n",
    "Örnekler\n",
    "mehmet_wins([3, 5, 10], [4, 7, 11]) ➞ True\n",
    "\n",
    "Karşılaşmalar (3, 11), (5, 4) ve (10, 7) olduğu için Mehmet 3’ünden 2’sini kazanır.\n",
    "\n",
    "mehmet_wins([6, 8, 9], [7, 12, 14]) ➞ False\n",
    "\n",
    "Karşılaşmalar (6, 14), (8, 7) ve (9, 12) olduğu için Semih 3’ünden 2’sini kazanır.\n",
    "\n",
    "mehmet_wins([1, 8, 20], [2, 9, 100]) ➞ True\n",
    "\n",
    "Notlar:\n",
    "Yarışan sümüklü böceğin hızı Semih’in yarışan sümüklü böceğinin hızını aşarsa Mehmet kazanır.\n",
    "\n",
    "Semih her zaman aşağıdaki sırada oynayacak: [h, y, o]\n"
   ]
  }
 ],
 "metadata": {
  "language_info": {
   "name": "python"
  },
  "orig_nbformat": 4
 },
 "nbformat": 4,
 "nbformat_minor": 2
}
