{
 "cells": [
  {
   "cell_type": "markdown",
   "metadata": {},
   "source": [
    "# 1. Fonksiyonlar"
   ]
  },
  {
   "cell_type": "markdown",
   "metadata": {},
   "source": [
    "## 1.1 void fonksiyon"
   ]
  },
  {
   "cell_type": "code",
   "execution_count": 1,
   "metadata": {},
   "outputs": [
    {
     "name": "stdout",
     "output_type": "stream",
     "text": [
      "Hoşgeldin\n",
      "Hoşgeldin\n",
      "Hoşgeldin\n",
      "Hoşgeldin\n",
      "Hoşgeldin\n",
      "Hoşgeldin\n"
     ]
    }
   ],
   "source": [
    "\"\"\"\n",
    "isim = input(\"İsminizi öğrenebilir miyim? \")\n",
    "print(f\"Hoşgeldin {isim}\")\n",
    "\n",
    "isim = input(\"İsminizi öğrenebilir miyim? \")\n",
    "print(f\"Hoşgeldin {isim}\")\n",
    "\n",
    "isim = input(\"İsminizi öğrenebilir miyim? \")\n",
    "print(f\"Hoşgeldin {isim}\")\n",
    "\n",
    "isim = input(\"İsminizi öğrenebilir miyim? \")\n",
    "print(f\"Hoşgeldin {isim}\")\n",
    "\n",
    "isim = input(\"İsminizi öğrenebilir miyim? \")\n",
    "print(f\"Hoşgeldin {isim}\")\n",
    "\n",
    "isim = input(\"İsminizi öğrenebilir miyim? \")\n",
    "print(f\"Hoşgeldin {isim}\")\n",
    "\"\"\"\n",
    "\n",
    "def hosgeldin():\n",
    "    print(\"Hoşgeldin\")\n",
    "   \n",
    "hosgeldin()\n",
    "hosgeldin()\n",
    "hosgeldin()\n",
    "hosgeldin()\n",
    "hosgeldin()\n",
    "hosgeldin()"
   ]
  },
  {
   "cell_type": "code",
   "execution_count": 10,
   "metadata": {},
   "outputs": [
    {
     "name": "stdout",
     "output_type": "stream",
     "text": [
      "Hoşgeldin  Ceyhun\n",
      "Hoşgeldin  Ali\n",
      "İsminizi öğrenebilir miyim? Mert\n",
      "Hoşgeldin  Mert\n"
     ]
    }
   ],
   "source": [
    "def hosgeldin(ad):\n",
    "    print(\"Hoşgeldin \",ad)\n",
    "    \n",
    "hosgeldin(\"Ceyhun\")\n",
    "hosgeldin(\"Ali\")\n",
    "isim = input(\"İsminizi öğrenebilir miyim? \")\n",
    "hosgeldin(isim)"
   ]
  },
  {
   "cell_type": "code",
   "execution_count": 2,
   "metadata": {},
   "outputs": [
    {
     "name": "stdout",
     "output_type": "stream",
     "text": [
      "Hoşgeldin  süheyl yzc\n"
     ]
    }
   ],
   "source": [
    "def hosgeldin(ad,soyad):\n",
    "    print(\"Hoşgeldin \",ad,soyad)\n",
    "    \n",
    "isim = input(\"İsminizi öğrenebilir miyim? \")\n",
    "soyisim = input(\"Soyadınızı öğrenebilir miyim? \")\n",
    "\n",
    "hosgeldin(isim,soyisim)"
   ]
  },
  {
   "cell_type": "code",
   "execution_count": 24,
   "metadata": {},
   "outputs": [
    {
     "name": "stdout",
     "output_type": "stream",
     "text": [
      "İsminizi öğrenebilir miyim? Ceyhun\n",
      "Soyadınızı öğrenebilir miyim? Özdemir\n",
      "Hoşgeldin  Ceyhun Özdemir\n"
     ]
    }
   ],
   "source": [
    "def hosgeldin(ad = \"Yazılmadı\",soyad = \"Yazılmadı\"):\n",
    "    print(\"Hoşgeldin \",ad,soyad)\n",
    "    \n",
    "isim = input(\"İsminizi öğrenebilir miyim? \")\n",
    "soyisim = input(\"Soyadınızı öğrenebilir miyim? \")\n",
    "\n",
    "hosgeldin(isim,soyisim)"
   ]
  },
  {
   "cell_type": "code",
   "execution_count": 19,
   "metadata": {},
   "outputs": [
    {
     "name": "stdout",
     "output_type": "stream",
     "text": [
      "Hoşgeldin  Ceyhun Özdemir\n"
     ]
    }
   ],
   "source": [
    "selam = hosgeldin\n",
    "selam(\"Ceyhun\",\"Özdemir\")"
   ]
  },
  {
   "cell_type": "markdown",
   "metadata": {},
   "source": [
    "## 1.2 Argümanlar *args"
   ]
  },
  {
   "cell_type": "code",
   "execution_count": 22,
   "metadata": {},
   "outputs": [
    {
     "name": "stdout",
     "output_type": "stream",
     "text": [
      "Çalışan için girilen bilgiler şunlardır: \n",
      "Mert\n",
      "Yılmaz\n",
      "1990\n",
      "İstanbul\n",
      "Mert\n",
      "Yılmaz\n",
      "1990\n",
      "İstanbul\n"
     ]
    }
   ],
   "source": [
    "def calisan(*bilgiler):\n",
    "    print(\"Çalışan için girilen bilgiler şunlardır: \")\n",
    "    for i in bilgiler:\n",
    "        print(i)\n",
    "\n",
    "calisan(\"Mert\",\"Yılmaz\",\"1990\",\"İstanbul\",\"Mert\",\"Yılmaz\",\"1990\",\"İstanbul\")"
   ]
  },
  {
   "cell_type": "markdown",
   "metadata": {},
   "source": [
    "## 1.3 Keyword Argümanları **kwargs"
   ]
  },
  {
   "cell_type": "code",
   "execution_count": 26,
   "metadata": {},
   "outputs": [
    {
     "name": "stdout",
     "output_type": "stream",
     "text": [
      "Soyadı : Korkmaz\n",
      "Adı : Ali\n",
      "Doğum Tarihi : 1995\n",
      "Şehir : İstanbul\n"
     ]
    }
   ],
   "source": [
    "def calisan(**bilgiler):\n",
    "    print(\"Soyadı :\",bilgiler[\"soyad\"])\n",
    "    print(\"Adı :\",bilgiler[\"ad\"])\n",
    "    print(\"Doğum Tarihi :\",bilgiler[\"dogum_tarihi\"])\n",
    "    print(\"Şehir :\",bilgiler[\"sehir\"])\n",
    "\n",
    "calisan(ad=\"Ali\",soyad=\"Korkmaz\",dogum_tarihi=1995,sehir=\"İstanbul\")"
   ]
  },
  {
   "cell_type": "markdown",
   "metadata": {},
   "source": [
    "## 1.4 return"
   ]
  },
  {
   "cell_type": "code",
   "execution_count": 30,
   "metadata": {},
   "outputs": [
    {
     "name": "stdout",
     "output_type": "stream",
     "text": [
      "7\n"
     ]
    }
   ],
   "source": [
    "def topla(x,y):\n",
    "    toplam = x+y\n",
    "    \n",
    "    return toplam\n",
    "    \n",
    "sonuc = topla(3,4)\n",
    "print(sonuc)"
   ]
  },
  {
   "cell_type": "markdown",
   "metadata": {},
   "source": [
    "## 1.5 pass"
   ]
  },
  {
   "cell_type": "code",
   "execution_count": null,
   "metadata": {},
   "outputs": [],
   "source": [
    "def fonksiyon():\n",
    "    pass"
   ]
  },
  {
   "cell_type": "markdown",
   "metadata": {},
   "source": [
    "## 1.6 Lambda"
   ]
  },
  {
   "cell_type": "code",
   "execution_count": 45,
   "metadata": {},
   "outputs": [
    {
     "data": {
      "text/plain": [
       "36"
      ]
     },
     "execution_count": 45,
     "metadata": {},
     "output_type": "execute_result"
    }
   ],
   "source": [
    "#def topla(x,y):\n",
    "#    return x+y\n",
    "\n",
    "topla = lambda x,y : x + y\n",
    "topla(4,5)\n",
    "\n",
    "carp = lambda x,y,z : x * y * z\n",
    "carp(2,3,6)"
   ]
  },
  {
   "cell_type": "markdown",
   "metadata": {},
   "source": [
    "# 2. Modüller\n"
   ]
  },
  {
   "cell_type": "markdown",
   "metadata": {},
   "source": [
    "## 2.1 Python'ın İçindeki Modüller"
   ]
  },
  {
   "cell_type": "code",
   "execution_count": 3,
   "metadata": {},
   "outputs": [
    {
     "data": {
      "text/plain": [
       "4.0"
      ]
     },
     "execution_count": 3,
     "metadata": {},
     "output_type": "execute_result"
    }
   ],
   "source": [
    "import math\n",
    "#dir(math)\n",
    "#help(math)\n",
    "\n",
    "math.sqrt(16)\n",
    "\n",
    "def karekök(x):\n",
    "    return x**(0.5)\n",
    "karekök(16)"
   ]
  },
  {
   "cell_type": "code",
   "execution_count": 53,
   "metadata": {},
   "outputs": [
    {
     "data": {
      "text/plain": [
       "4.0"
      ]
     },
     "execution_count": 53,
     "metadata": {},
     "output_type": "execute_result"
    }
   ],
   "source": [
    "import math as matematik\n",
    "matematik.sqrt(16)"
   ]
  },
  {
   "cell_type": "code",
   "execution_count": 4,
   "metadata": {},
   "outputs": [
    {
     "data": {
      "text/plain": [
       "120"
      ]
     },
     "execution_count": 4,
     "metadata": {},
     "output_type": "execute_result"
    }
   ],
   "source": [
    "from math import sqrt,factorial\n",
    "factorial(5)"
   ]
  },
  {
   "cell_type": "code",
   "execution_count": 56,
   "metadata": {},
   "outputs": [
    {
     "data": {
      "text/plain": [
       "24"
      ]
     },
     "execution_count": 56,
     "metadata": {},
     "output_type": "execute_result"
    }
   ],
   "source": [
    "from math import factorial as faktöriyel\n",
    "faktöriyel(4)"
   ]
  },
  {
   "cell_type": "markdown",
   "metadata": {},
   "source": [
    "## 2.2 Kendi Yazdığım Modül"
   ]
  },
  {
   "cell_type": "markdown",
   "metadata": {},
   "source": [
    "1- Modülümü python/lib klasörüne atacağım\n",
    "\n",
    "2- Aynı klasörde olacak\n"
   ]
  },
  {
   "cell_type": "code",
   "execution_count": null,
   "metadata": {},
   "outputs": [],
   "source": []
  },
  {
   "cell_type": "markdown",
   "metadata": {},
   "source": [
    "# 3. Hatalar"
   ]
  },
  {
   "cell_type": "markdown",
   "metadata": {},
   "source": [
    "## 3.1 try, except, else, finally "
   ]
  },
  {
   "cell_type": "code",
   "execution_count": 19,
   "metadata": {},
   "outputs": [
    {
     "name": "stdout",
     "output_type": "stream",
     "text": [
      "-1\n",
      "Devam\n"
     ]
    }
   ],
   "source": [
    "try:\n",
    "    print(x)\n",
    "except NameError:\n",
    "    print(\"NameError hatası aldım\")\n",
    "except ValueError:\n",
    "    print(\"ValueError hatası aldım\")\n",
    "except:\n",
    "    print(\"tanımadığım bir hata aldım\")\n",
    "\n",
    "print(\"Devam\")"
   ]
  },
  {
   "cell_type": "code",
   "execution_count": 18,
   "metadata": {},
   "outputs": [
    {
     "name": "stdout",
     "output_type": "stream",
     "text": [
      "-1\n",
      "Her şey yolunda\n"
     ]
    }
   ],
   "source": [
    "try:\n",
    "    print(x)\n",
    "except NameError:\n",
    "    print(\"NameError hatası aldım\")\n",
    "except ValueError:\n",
    "    print(\"ValueError hatası aldım\")\n",
    "except:\n",
    "    print(\"tanımadığım bir hata aldım\")\n",
    "else:\n",
    "    print(\"Her şey yolunda\")"
   ]
  },
  {
   "cell_type": "code",
   "execution_count": 17,
   "metadata": {},
   "outputs": [
    {
     "name": "stdout",
     "output_type": "stream",
     "text": [
      "-1\n",
      "Her şey yolunda\n",
      "Ne olursa ol devam et\n"
     ]
    }
   ],
   "source": [
    "try:\n",
    "    print(x)\n",
    "except NameError:\n",
    "    print(\"NameError hatası aldım\")\n",
    "except ValueError:\n",
    "    print(\"ValueError hatası aldım\")\n",
    "except:\n",
    "    print(\"tanımadığım bir hata aldım\")\n",
    "else:\n",
    "    print(\"Her şey yolunda\")\n",
    "finally:\n",
    "    print(\"Ne olursa ol devam et\")"
   ]
  },
  {
   "cell_type": "markdown",
   "metadata": {},
   "source": [
    "## 3.2 Hata Türleri"
   ]
  },
  {
   "cell_type": "markdown",
   "metadata": {},
   "source": [
    "https://docs.python.org/3/library/exceptions.html"
   ]
  },
  {
   "cell_type": "markdown",
   "metadata": {},
   "source": [
    "## 3.3 raise"
   ]
  },
  {
   "cell_type": "code",
   "execution_count": 20,
   "metadata": {},
   "outputs": [
    {
     "ename": "ValueError",
     "evalue": "x sıfırdan küçük",
     "output_type": "error",
     "traceback": [
      "\u001b[1;31m---------------------------------------------------------------------------\u001b[0m",
      "\u001b[1;31mValueError\u001b[0m                                Traceback (most recent call last)",
      "\u001b[1;32mc:\\Users\\Suhely\\Desktop\\BackEnd\\Python\\Python tekrar\\7-Gunde-Python-0-dan-100-e-PYT101\\03. Gün (Fonksiyonlar, Modüller & Hatalar)\\Fonksiyonlar, Modüller & Hatalar.ipynb Cell 35'\u001b[0m in \u001b[0;36m<cell line: 3>\u001b[1;34m()\u001b[0m\n\u001b[0;32m      <a href='vscode-notebook-cell:/c%3A/Users/Suhely/Desktop/BackEnd/Python/Python%20tekrar/7-Gunde-Python-0-dan-100-e-PYT101/03.%20G%C3%BCn%20%28Fonksiyonlar%2C%20Mod%C3%BCller%20%26%20Hatalar%29/Fonksiyonlar%2C%20Mod%C3%BCller%20%26%20Hatalar.ipynb#ch0000035?line=0'>1</a>\u001b[0m x \u001b[39m=\u001b[39m \u001b[39m-\u001b[39m\u001b[39m1\u001b[39m\n\u001b[0;32m      <a href='vscode-notebook-cell:/c%3A/Users/Suhely/Desktop/BackEnd/Python/Python%20tekrar/7-Gunde-Python-0-dan-100-e-PYT101/03.%20G%C3%BCn%20%28Fonksiyonlar%2C%20Mod%C3%BCller%20%26%20Hatalar%29/Fonksiyonlar%2C%20Mod%C3%BCller%20%26%20Hatalar.ipynb#ch0000035?line=2'>3</a>\u001b[0m \u001b[39mif\u001b[39;00m x \u001b[39m<\u001b[39m \u001b[39m0\u001b[39m:\n\u001b[1;32m----> <a href='vscode-notebook-cell:/c%3A/Users/Suhely/Desktop/BackEnd/Python/Python%20tekrar/7-Gunde-Python-0-dan-100-e-PYT101/03.%20G%C3%BCn%20%28Fonksiyonlar%2C%20Mod%C3%BCller%20%26%20Hatalar%29/Fonksiyonlar%2C%20Mod%C3%BCller%20%26%20Hatalar.ipynb#ch0000035?line=3'>4</a>\u001b[0m     \u001b[39mraise\u001b[39;00m \u001b[39mValueError\u001b[39;00m(\u001b[39m\"\u001b[39m\u001b[39mx sıfırdan küçük\u001b[39m\u001b[39m\"\u001b[39m)\n",
      "\u001b[1;31mValueError\u001b[0m: x sıfırdan küçük"
     ]
    }
   ],
   "source": [
    "x = -1\n",
    "\n",
    "if x < 0:\n",
    "    raise ValueError(\"x sıfırdan küçük\")"
   ]
  },
  {
   "cell_type": "code",
   "execution_count": 5,
   "metadata": {},
   "outputs": [
    {
     "ename": "NameError",
     "evalue": "name 'TypeErrssor' is not defined",
     "output_type": "error",
     "traceback": [
      "\u001b[0;31m---------------------------------------------------------------------------\u001b[0m",
      "\u001b[0;31mTypeError\u001b[0m                                 Traceback (most recent call last)",
      "\u001b[0;32m<ipython-input-5-1541e038f65e>\u001b[0m in \u001b[0;36m<module>\u001b[0;34m\u001b[0m\n\u001b[1;32m      2\u001b[0m \u001b[0;32mtry\u001b[0m\u001b[0;34m:\u001b[0m\u001b[0;34m\u001b[0m\u001b[0;34m\u001b[0m\u001b[0m\n\u001b[0;32m----> 3\u001b[0;31m     \u001b[0;32mfor\u001b[0m \u001b[0mi\u001b[0m \u001b[0;32min\u001b[0m \u001b[0msayı\u001b[0m\u001b[0;34m:\u001b[0m\u001b[0;34m\u001b[0m\u001b[0;34m\u001b[0m\u001b[0m\n\u001b[0m\u001b[1;32m      4\u001b[0m         \u001b[0mprint\u001b[0m\u001b[0;34m(\u001b[0m\u001b[0mi\u001b[0m\u001b[0;34m)\u001b[0m\u001b[0;34m\u001b[0m\u001b[0;34m\u001b[0m\u001b[0m\n",
      "\u001b[0;31mTypeError\u001b[0m: 'int' object is not iterable",
      "\nDuring handling of the above exception, another exception occurred:\n",
      "\u001b[0;31mNameError\u001b[0m                                 Traceback (most recent call last)",
      "\u001b[0;32m<ipython-input-5-1541e038f65e>\u001b[0m in \u001b[0;36m<module>\u001b[0;34m\u001b[0m\n\u001b[1;32m      3\u001b[0m     \u001b[0;32mfor\u001b[0m \u001b[0mi\u001b[0m \u001b[0;32min\u001b[0m \u001b[0msayı\u001b[0m\u001b[0;34m:\u001b[0m\u001b[0;34m\u001b[0m\u001b[0;34m\u001b[0m\u001b[0m\n\u001b[1;32m      4\u001b[0m         \u001b[0mprint\u001b[0m\u001b[0;34m(\u001b[0m\u001b[0mi\u001b[0m\u001b[0;34m)\u001b[0m\u001b[0;34m\u001b[0m\u001b[0;34m\u001b[0m\u001b[0m\n\u001b[0;32m----> 5\u001b[0;31m \u001b[0;32mexcept\u001b[0m \u001b[0mTypeErrssor\u001b[0m\u001b[0;34m:\u001b[0m\u001b[0;34m\u001b[0m\u001b[0;34m\u001b[0m\u001b[0m\n\u001b[0m\u001b[1;32m      6\u001b[0m     \u001b[0mprint\u001b[0m\u001b[0;34m(\u001b[0m\u001b[0;34m\"Bir hata ile karşılaşıldı.\"\u001b[0m\u001b[0;34m)\u001b[0m\u001b[0;34m\u001b[0m\u001b[0;34m\u001b[0m\u001b[0m\n",
      "\u001b[0;31mNameError\u001b[0m: name 'TypeErrssor' is not defined"
     ]
    }
   ],
   "source": [
    "sayı = 3\n",
    "try:\n",
    "    for i in sayı:\n",
    "        print(i)\n",
    "except TypeErrssor:\n",
    "    print(\"Bir hata ile karşılaşıldı.\")"
   ]
  }
 ],
 "metadata": {
  "interpreter": {
   "hash": "4429270fe79baf265b12c04ffc28d94055f90b5711fd88618cc5ebaf6124d0f7"
  },
  "kernelspec": {
   "display_name": "Python 3.10.4 64-bit",
   "language": "python",
   "name": "python3"
  },
  "language_info": {
   "codemirror_mode": {
    "name": "ipython",
    "version": 3
   },
   "file_extension": ".py",
   "mimetype": "text/x-python",
   "name": "python",
   "nbconvert_exporter": "python",
   "pygments_lexer": "ipython3",
   "version": "3.10.4"
  }
 },
 "nbformat": 4,
 "nbformat_minor": 2
}
