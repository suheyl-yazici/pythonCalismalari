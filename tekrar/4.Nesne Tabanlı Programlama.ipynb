{
 "cells": [
  {
   "cell_type": "markdown",
   "metadata": {},
   "source": [
    "# 1. Nesne Tabanlı Programlama"
   ]
  },
  {
   "cell_type": "markdown",
   "metadata": {},
   "source": [
    "## 1.1 Sınıf (class) ve Nesne (object)"
   ]
  },
  {
   "cell_type": "code",
   "execution_count": 10,
   "metadata": {},
   "outputs": [
    {
     "name": "stdout",
     "output_type": "stream",
     "text": [
      "kitap1\n",
      "Paulo Coelho\n",
      "184\n",
      "Küçük Prens\n",
      "Simyacı\n"
     ]
    }
   ],
   "source": [
    "print(\"kitap1\")\n",
    "#print(kitap1)\n",
    "\n",
    "class kitap():\n",
    "    pass\n",
    "\n",
    "kitap1 = kitap()\n",
    "#print(kitap1)\n",
    "\n",
    "liste = list()\n",
    "sayı = int()\n",
    "küme = set()\n",
    "\n",
    "kitap1.ad = \"Simyacı\"\n",
    "kitap1.yazar = \"Paulo Coelho\"\n",
    "kitap1.raf = \"B23\"\n",
    "kitap1.sayfa = 184\n",
    "kitap1.yayinevi = \"Can Yayınları\"\n",
    "\n",
    "print(kitap1.yazar)\n",
    "print(kitap1.sayfa)\n",
    "\n",
    "kitap2 = kitap()\n",
    "\n",
    "kitap2.ad = \"Küçük Prens\"\n",
    "kitap2.yazar = \"Antoine De Sain Exupery\"\n",
    "kitap2.yayinevi= \"Can Çocuk Yayınları\"\n",
    "\n",
    "print(kitap2.ad)\n",
    "print(kitap1.ad)"
   ]
  },
  {
   "cell_type": "markdown",
   "metadata": {},
   "source": [
    "## 1.2 __init__ ve self"
   ]
  },
  {
   "cell_type": "code",
   "execution_count": 15,
   "metadata": {},
   "outputs": [
    {
     "name": "stdout",
     "output_type": "stream",
     "text": [
      "184\n"
     ]
    }
   ],
   "source": [
    "class kitap():\n",
    "    def __init__(self,ad,yazar,raf,sayfa,yayinevi):   #initiliaze \n",
    "        self.ad = ad\n",
    "        self.yazar = yazar\n",
    "        self.raf = raf\n",
    "        self.sayfa = sayfa\n",
    "        self.yayinevi = yayinevi\n",
    "        \n",
    "kitap1 = kitap(\"Simyacı\",\"Paulo Coelho\",\"B23\",184,\"Can Yayınları\")\n",
    "print(kitap1.sayfa)\n"
   ]
  },
  {
   "cell_type": "code",
   "execution_count": 21,
   "metadata": {},
   "outputs": [
    {
     "name": "stdout",
     "output_type": "stream",
     "text": [
      "init fonksiyonu çalıştı\n",
      "Küçük Prens\n",
      "Girilmedi\n"
     ]
    }
   ],
   "source": [
    "class kitap():\n",
    "    def __init__(self,ad = \"Girilmedi\",yazar = \"Girilmedi\",raf = \"Girilmedi\",sayfa = \"Girilmedi\",yayinevi = \"Girilmedi\"):   #initiliaze \n",
    "        print(\"init fonksiyonu çalıştı\")\n",
    "        self.ad = ad\n",
    "        self.yazar = yazar\n",
    "        self.raf = raf\n",
    "        self.sayfa = sayfa\n",
    "        self.yayinevi = yayinevi\n",
    "        \n",
    "kitap2 = kitap(\"Küçük Prens\",\"Antoine De Sain Exupery\",yayinevi = \"Can Çocuk Yayınları\")\n",
    "print(kitap2.ad)\n",
    "print(kitap2.raf)\n"
   ]
  },
  {
   "cell_type": "markdown",
   "metadata": {},
   "source": [
    "## 1.3 Metodlar (class'ın içine yazılan fonksiyonlar) "
   ]
  },
  {
   "cell_type": "code",
   "execution_count": 35,
   "metadata": {},
   "outputs": [
    {
     "name": "stdout",
     "output_type": "stream",
     "text": [
      "Kitabın Adı: Simyacı \n",
      "Kitabın Yazarı: Paulo Coelho \n",
      "Kitabın Rafı: B23 \n",
      "Kitabın Sayfası: 184 \n",
      "Kitabın Yayınevi: Can Yayınları \n",
      "\n",
      "Kitabın Adı: Simyacı \n",
      "Kitabın Yazarı: Paulo Coelho \n",
      "Kitabın Rafı: B23 \n",
      "Kitabın Sayfası: 200 \n",
      "Kitabın Yayınevi: Can Yayınları \n",
      "\n",
      "Kitabın Adı: Küçük Prens \n",
      "Kitabın Yazarı: Antoine De Sain Exupery \n",
      "Kitabın Rafı: Girilmedi \n",
      "Kitabın Sayfası: Girilmedi \n",
      "Kitabın Yayınevi: Can Çocuk Yayınları \n",
      "\n"
     ]
    }
   ],
   "source": [
    "class kitap():\n",
    "    def __init__(self,ad = \"Girilmedi\",yazar = \"Girilmedi\",raf = \"Girilmedi\",sayfa = \"Girilmedi\",yayinevi = \"Girilmedi\"):   #initiliaze \n",
    "        self.ad = ad\n",
    "        self.yazar = yazar\n",
    "        self.raf = raf\n",
    "        self.sayfa = sayfa\n",
    "        self.yayinevi = yayinevi\n",
    "        \n",
    "    def bilgileriGoster(self):\n",
    "        return print(\"Kitabın Adı: {} \\nKitabın Yazarı: {} \\nKitabın Rafı: {} \\nKitabın Sayfası: {} \\nKitabın Yayınevi: {} \\n\".format(self.ad,self.yazar,self.raf,self.sayfa,self.yayinevi))\n",
    "\n",
    "    def sayfaArttır(self,deger):\n",
    "        self.sayfa += deger # self.sayfa = self.sayfa + deger\n",
    "        \n",
    "kitap1 = kitap(\"Simyacı\",\"Paulo Coelho\",\"B23\",184,\"Can Yayınları\")\n",
    "kitap1.bilgileriGoster()\n",
    "kitap1.sayfaArttır(16)\n",
    "kitap1.bilgileriGoster()\n",
    "\n",
    "kitap2 = kitap(\"Küçük Prens\",\"Antoine De Sain Exupery\",yayinevi = \"Can Çocuk Yayınları\")\n",
    "kitap2.bilgileriGoster()\n",
    "\n",
    "liste= [23,3,3,2]\n",
    "liste.append(2)"
   ]
  },
  {
   "cell_type": "markdown",
   "metadata": {},
   "source": [
    "## 1.4 class variables & instance variables"
   ]
  },
  {
   "cell_type": "code",
   "execution_count": 89,
   "metadata": {},
   "outputs": [],
   "source": [
    "class kitap():\n",
    "    kutuphaneninAdi = \"Üniversite Kütüphanesi\"\n",
    "    def __init__(self,ad = \"Girilmedi\",yazar = \"Girilmedi\",raf = \"Girilmedi\",sayfa = \"Girilmedi\",yayinevi = \"Girilmedi\"):   #initiliaze \n",
    "        self.ad = ad\n",
    "        self.yazar = yazar\n",
    "        self.raf = raf\n",
    "        self.sayfa = sayfa\n",
    "        self.yayinevi = yayinevi\n",
    "        \n",
    "    def bilgileriGoster(self):\n",
    "        return print(\"Kitabın Adı: {} \\nKitabın Yazarı: {} \\nKitabın Rafı: {} \\nKitabın Sayfası: {} \\nKitabın Yayınevi: {} \\n\".format(self.ad,self.yazar,self.raf,self.sayfa,self.yayinevi))\n",
    "\n",
    "    def sayfaArttır(self,deger):\n",
    "        self.sayfa += deger # self.sayfa = self.sayfa + deger\n",
    "\n",
    "\n",
    "kitap1 = kitap(\"Simyacı\",\"Paulo Coelho\",\"B23\",184,\"Can Yayınları\")\n",
    "kitap2 = kitap(\"Küçük Prens\",\"Antoine De Sain Exupery\",yayinevi = \"Can Çocuk Yayınları\")"
   ]
  },
  {
   "cell_type": "code",
   "execution_count": 2,
   "metadata": {},
   "outputs": [
    {
     "ename": "NameError",
     "evalue": "name 'kitap' is not defined",
     "output_type": "error",
     "traceback": [
      "\u001b[1;31m---------------------------------------------------------------------------\u001b[0m",
      "\u001b[1;31mNameError\u001b[0m                                 Traceback (most recent call last)",
      "\u001b[1;32mc:\\Users\\Suhely\\Desktop\\BackEnd\\Python\\Python tekrar\\7-Gunde-Python-0-dan-100-e-PYT101\\04. Gün (Nesne Tabanlı Programlama)\\Nesne Tabanlı Programlama.ipynb Cell 11'\u001b[0m in \u001b[0;36m<cell line: 1>\u001b[1;34m()\u001b[0m\n\u001b[1;32m----> <a href='vscode-notebook-cell:/c%3A/Users/Suhely/Desktop/BackEnd/Python/Python%20tekrar/7-Gunde-Python-0-dan-100-e-PYT101/04.%20G%C3%BCn%20%28Nesne%20Tabanl%C4%B1%20Programlama%29/Nesne%20Tabanl%C4%B1%20Programlama.ipynb#ch0000010?line=0'>1</a>\u001b[0m kitap\u001b[39m.\u001b[39mkutuphaneninAdi\n\u001b[0;32m      <a href='vscode-notebook-cell:/c%3A/Users/Suhely/Desktop/BackEnd/Python/Python%20tekrar/7-Gunde-Python-0-dan-100-e-PYT101/04.%20G%C3%BCn%20%28Nesne%20Tabanl%C4%B1%20Programlama%29/Nesne%20Tabanl%C4%B1%20Programlama.ipynb#ch0000010?line=1'>2</a>\u001b[0m kitap1\u001b[39m.\u001b[39mkutuphaneninAdi\n\u001b[0;32m      <a href='vscode-notebook-cell:/c%3A/Users/Suhely/Desktop/BackEnd/Python/Python%20tekrar/7-Gunde-Python-0-dan-100-e-PYT101/04.%20G%C3%BCn%20%28Nesne%20Tabanl%C4%B1%20Programlama%29/Nesne%20Tabanl%C4%B1%20Programlama.ipynb#ch0000010?line=2'>3</a>\u001b[0m kitap2\u001b[39m.\u001b[39mkutuphaneninAdi\n",
      "\u001b[1;31mNameError\u001b[0m: name 'kitap' is not defined"
     ]
    }
   ],
   "source": [
    "kitap.kutuphaneninAdi\n",
    "kitap1.kutuphaneninAdi\n",
    "kitap2.kutuphaneninAdi\n",
    "\n",
    "#kitap.ad\n",
    "kitap1.ad\n",
    "kitap2.ad\n",
    "\n",
    "kitap.kutuphaneninAdi = \"İTÜ Kütüphanesi\"\n",
    "kitap.kutuphaneninAdi\n",
    "kitap1.kutuphaneninAdi\n",
    "kitap2.kutuphaneninAdi\n",
    "\n",
    "kitap1.kutuphaneninAdi = \"İstanbul Üniversitesi Kütüphanesi\"\n",
    "kitap.kutuphaneninAdi\n",
    "kitap1.kutuphaneninAdi\n",
    "kitap2.kutuphaneninAdi"
   ]
  },
  {
   "cell_type": "code",
   "execution_count": null,
   "metadata": {},
   "outputs": [],
   "source": []
  },
  {
   "cell_type": "code",
   "execution_count": 114,
   "metadata": {},
   "outputs": [],
   "source": [
    "class kitap():\n",
    "    kutuphaneninAdi = \"Üniversite Kütüphanesi\"\n",
    "    kitapSayisi = 0\n",
    "    kitapID = 1000\n",
    "    def __init__(self,ad = \"Girilmedi\",yazar = \"Girilmedi\",raf = \"Girilmedi\",sayfa = \"Girilmedi\",yayinevi = \"Girilmedi\"):   #initiliaze \n",
    "        self.ad = ad\n",
    "        self.yazar = yazar\n",
    "        self.raf = raf\n",
    "        self.sayfa = sayfa\n",
    "        self.yayinevi = yayinevi\n",
    "        kitap.kitapSayisi += 1\n",
    "        self.kitapID += 10\n",
    "        kitap.kitapID = self.kitapID\n",
    "        \n",
    "    def bilgileriGoster(self):\n",
    "        return print(\"Kitabın Adı: {} \\nKitabın Yazarı: {} \\nKitabın Rafı: {} \\nKitabın Sayfası: {} \\nKitabın Yayınevi: {} \\n\".format(self.ad,self.yazar,self.raf,self.sayfa,self.yayinevi))\n",
    "\n",
    "    def sayfaArttır(self,deger):\n",
    "        self.sayfa += deger # self.sayfa = self.sayfa + deger\n",
    "\n",
    "\n",
    "kitap1 = kitap(\"Simyacı\",\"Paulo Coelho\",\"B23\",184,\"Can Yayınları\")\n",
    "kitap2 = kitap(\"Küçük Prens\",\"Antoine De Sain Exupery\",yayinevi = \"Can Çocuk Yayınları\")"
   ]
  },
  {
   "cell_type": "code",
   "execution_count": 116,
   "metadata": {},
   "outputs": [
    {
     "data": {
      "text/plain": [
       "1020"
      ]
     },
     "execution_count": 116,
     "metadata": {},
     "output_type": "execute_result"
    }
   ],
   "source": [
    "kitap.kitapSayisi\n",
    "kitap1.kitapSayisi\n",
    "kitap2.kitapSayisi\n",
    "\n",
    "kitap1.kitapID\n",
    "kitap2.kitapID"
   ]
  },
  {
   "cell_type": "markdown",
   "metadata": {},
   "source": [
    "## 1.5 class methods, instance methods & static methods"
   ]
  },
  {
   "cell_type": "code",
   "execution_count": 5,
   "metadata": {},
   "outputs": [],
   "source": [
    "class kitap():\n",
    "    kutuphaneninAdi = \"Üniversite Kütüphanesi\"\n",
    "    kitapSayisi = 0\n",
    "    kitapID = 1000\n",
    "    def __init__(self,ad = \"Girilmedi\",yazar = \"Girilmedi\",raf = \"Girilmedi\",sayfa = \"Girilmedi\",yayinevi = \"Girilmedi\"):   #initiliaze \n",
    "        self.ad = ad\n",
    "        self.yazar = yazar\n",
    "        self.raf = raf\n",
    "        self.sayfa = sayfa\n",
    "        self.yayinevi = yayinevi\n",
    "        kitap.kitapSayisi += 1\n",
    "        self.kitapID += 10\n",
    "        kitap.kitapID = self.kitapID\n",
    "    #instance method    \n",
    "    def bilgileriGoster(self):\n",
    "        return print(\"Kitabın Adı: {} \\nKitabın Yazarı: {} \\nKitabın Rafı: {} \\nKitabın Sayfası: {} \\nKitabın Yayınevi: {} \\n\".format(self.ad,self.yazar,self.raf,self.sayfa,self.yayinevi))\n",
    "    #instance method \n",
    "    def sayfaArttır(self,deger):\n",
    "        self.sayfa += deger # self.sayfa = self.sayfa + deger\n",
    "    #class method\n",
    "    @classmethod\n",
    "    def kitapSayısınıSoyle(cls):\n",
    "        return kitap.kitapSayisi\n",
    "    #class method\n",
    "    @classmethod\n",
    "    def stringİleOluştur(cls,metin):\n",
    "        ad,yazar = metin.split(\" \")\n",
    "        return cls(ad,yazar)\n",
    "    #static method\n",
    "    @staticmethod\n",
    "    def kutuphaneAdiniSoyle():\n",
    "        return kitap.kutuphaneninAdi\n",
    "\n",
    "\n",
    "kitap1 = kitap(\"Simyacı\",\"Paulo Coelho\",\"B23\",184,\"Can Yayınları\")\n",
    "kitap2 = kitap(\"Küçük Prens\",\"Antoine De Sain Exupery\",yayinevi = \"Can Çocuk Yayınları\")"
   ]
  },
  {
   "cell_type": "code",
   "execution_count": 6,
   "metadata": {},
   "outputs": [
    {
     "data": {
      "text/plain": [
       "'Üniversite Kütüphanesi'"
      ]
     },
     "execution_count": 6,
     "metadata": {},
     "output_type": "execute_result"
    }
   ],
   "source": [
    "#kitap1.bilgileriGoster() # = kitap.bilgileriGoster(kitap1)\n",
    "#kitap.bilgileriGoster()\n",
    "#kitap.bilgileriGoster(kitap2)\n",
    "\n",
    "#kitap.kitapSayısınıSoyle()\n",
    "#kitap1.kitapSayısınıSoyle()\n",
    "\n",
    "#kitap3 = kitap.stringİleOluştur(\"SaatleriAyarlamaEnstitüsü AhmetHamdiTanpınar\")\n",
    "#kitap3.bilgileriGoster()\n",
    "#kitap(\"SaatleriAyarlamaEnstitüsü AhmetHamdiTanpınar\")\n",
    "\n",
    "kitap.kutuphaneAdiniSoyle()"
   ]
  },
  {
   "cell_type": "markdown",
   "metadata": {},
   "source": [
    "## 1.6 Kalıtım (Inheritance)"
   ]
  },
  {
   "cell_type": "code",
   "execution_count": 157,
   "metadata": {},
   "outputs": [],
   "source": [
    "class kitap():\n",
    "    kutuphaneninAdi = \"Üniversite Kütüphanesi\"\n",
    "    kitapSayisi = 0\n",
    "    kitapID = 1000\n",
    "    def __init__(self,ad = \"Girilmedi\",yazar = \"Girilmedi\",raf = \"Girilmedi\",sayfa = \"Girilmedi\",yayinevi = \"Girilmedi\"):   #initiliaze \n",
    "        self.ad = ad\n",
    "        self.yazar = yazar\n",
    "        self.raf = raf\n",
    "        self.sayfa = sayfa\n",
    "        self.yayinevi = yayinevi\n",
    "        kitap.kitapSayisi += 1\n",
    "        self.kitapID += 10\n",
    "        kitap.kitapID = self.kitapID\n",
    "    #instance method    \n",
    "    def bilgileriGoster(self):\n",
    "        return print(\"Kitabın Adı: {} \\nKitabın Yazarı: {} \\nKitabın Rafı: {} \\nKitabın Sayfası: {} \\nKitabın Yayınevi: {} \\n\".format(self.ad,self.yazar,self.raf,self.sayfa,self.yayinevi))\n",
    "    #instance method \n",
    "    def sayfaArttır(self,deger):\n",
    "        self.sayfa += deger # self.sayfa = self.sayfa + deger\n",
    "    #class method\n",
    "    @classmethod\n",
    "    def kitapSayısınıSoyle(cls):\n",
    "        return kitap.kitapSayisi\n",
    "    #class method\n",
    "    @classmethod\n",
    "    def stringİleOluştur(cls,metin):\n",
    "        ad,yazar = metin.split(\" \")\n",
    "        return cls(ad,yazar)\n",
    "    #static method\n",
    "    @staticmethod\n",
    "    def kutuphaneAdiniSoyle():\n",
    "        return kitap.kutuphaneninAdi\n",
    "\n"
   ]
  },
  {
   "cell_type": "code",
   "execution_count": 166,
   "metadata": {},
   "outputs": [],
   "source": [
    "class yerelKitaplar(kitap):\n",
    "    pass\n",
    "\n",
    "class yabancıKitaplar(kitap):\n",
    "    pass"
   ]
  },
  {
   "cell_type": "code",
   "execution_count": 168,
   "metadata": {},
   "outputs": [
    {
     "name": "stdout",
     "output_type": "stream",
     "text": [
      "Kitabın Adı: Saatleri Ayarlama Enstitüsü \n",
      "Kitabın Yazarı: Ahmet Hamdi Tanpınar \n",
      "Kitabın Rafı: Girilmedi \n",
      "Kitabın Sayfası: Girilmedi \n",
      "Kitabın Yayınevi: Girilmedi \n",
      "\n",
      "Kitabın Adı: Simyacı \n",
      "Kitabın Yazarı: Paulo Coelho \n",
      "Kitabın Rafı: B23 \n",
      "Kitabın Sayfası: 184 \n",
      "Kitabın Yayınevi: Can Yayınları \n",
      "\n",
      "Kitabın Adı: Küçük Prens \n",
      "Kitabın Yazarı: Antoine De Sain Exupery \n",
      "Kitabın Rafı: Girilmedi \n",
      "Kitabın Sayfası: Girilmedi \n",
      "Kitabın Yayınevi: Can Çocuk Yayınları \n",
      "\n"
     ]
    }
   ],
   "source": [
    "yerelKitap1 = yerelKitaplar(\"Saatleri Ayarlama Enstitüsü\",\"Ahmet Hamdi Tanpınar\")\n",
    "yerelKitap1.bilgileriGoster()\n",
    "\n",
    "yabancıKitap1 = yabancıKitaplar(\"Simyacı\",\"Paulo Coelho\",\"B23\",184,\"Can Yayınları\")\n",
    "yabancıKitap1.bilgileriGoster()\n",
    "yabancıKitap1 = yabancıKitaplar(\"Küçük Prens\",\"Antoine De Sain Exupery\",yayinevi = \"Can Çocuk Yayınları\")\n",
    "yabancıKitap1.bilgileriGoster()"
   ]
  },
  {
   "cell_type": "markdown",
   "metadata": {},
   "source": [
    "### 1.6.1 overriding"
   ]
  },
  {
   "cell_type": "code",
   "execution_count": 174,
   "metadata": {},
   "outputs": [
    {
     "name": "stdout",
     "output_type": "stream",
     "text": [
      "Kitabın Adı: Simyacı \n",
      "Kitabın Yazarı: Paulo Coelho \n",
      "Kitabın Rafı: B23 \n",
      "Kitabın Sayfası: 184 \n",
      "Kitabın Yayınevi: Can Yayınları \n",
      "Kitabın Çevirmeni: Özdemir İnce\n",
      "------\n",
      "Kitabın Adı: Simyacı \n",
      "Kitabın Yazarı: Paulo Coelho \n",
      "Kitabın Rafı: B23 \n",
      "Kitabın Sayfası: 184 \n",
      "Kitabın Yayınevi: Can Yayınları \n",
      "Kitabın Çevirmeni: Özdemir Kısa\n"
     ]
    }
   ],
   "source": [
    "class yabancıKitaplar(kitap):\n",
    "    def __init__(self,ad = \"Girilmedi\",yazar = \"Girilmedi\",raf = \"Girilmedi\",sayfa = \"Girilmedi\",yayinevi = \"Girilmedi\",cevirmen = \"Girilmedi\"):  \n",
    "        self.ad = ad\n",
    "        self.yazar = yazar\n",
    "        self.raf = raf\n",
    "        self.sayfa = sayfa\n",
    "        self.yayinevi = yayinevi\n",
    "        self.cevirmen = cevirmen\n",
    "    def bilgileriGoster(self):\n",
    "        return print(\"Kitabın Adı: {} \\nKitabın Yazarı: {} \\nKitabın Rafı: {} \\nKitabın Sayfası: {} \\nKitabın Yayınevi: {} \\nKitabın Çevirmeni: {}\".format(self.ad,self.yazar,self.raf,self.sayfa,self.yayinevi,self.cevirmen))\n",
    "\n",
    "    def cevirmenDegistir(self,yeniCevirmen):\n",
    "        self.cevirmen = yeniCevirmen\n",
    "        \n",
    "yabancıKitap1 = yabancıKitaplar(\"Simyacı\",\"Paulo Coelho\",\"B23\",184,\"Can Yayınları\",\"Özdemir İnce\")\n",
    "yabancıKitap1.bilgileriGoster()\n",
    "print(\"------\")\n",
    "yabancıKitap1.cevirmenDegistir(\"Özdemir Kısa\")\n",
    "yabancıKitap1.bilgileriGoster()\n",
    "\n"
   ]
  },
  {
   "cell_type": "markdown",
   "metadata": {},
   "source": [
    "### 1.6.2 super().__init__"
   ]
  },
  {
   "cell_type": "code",
   "execution_count": 176,
   "metadata": {},
   "outputs": [
    {
     "name": "stdout",
     "output_type": "stream",
     "text": [
      "Kitabın Adı: Simyacı \n",
      "Kitabın Yazarı: Paulo Coelho \n",
      "Kitabın Rafı: B23 \n",
      "Kitabın Sayfası: 184 \n",
      "Kitabın Yayınevi: Can Yayınları \n",
      "Kitabın Çevirmeni: Özdemir İnce\n",
      "------\n",
      "Kitabın Adı: Simyacı \n",
      "Kitabın Yazarı: Paulo Coelho \n",
      "Kitabın Rafı: B23 \n",
      "Kitabın Sayfası: 184 \n",
      "Kitabın Yayınevi: Can Yayınları \n",
      "Kitabın Çevirmeni: Özdemir Kısa\n"
     ]
    }
   ],
   "source": [
    "class yabancıKitaplar(kitap):\n",
    "    def __init__(self,ad = \"Girilmedi\",yazar = \"Girilmedi\",raf = \"Girilmedi\",sayfa = \"Girilmedi\",yayinevi = \"Girilmedi\",cevirmen = \"Girilmedi\"):  \n",
    "        super().__init__(ad,yazar,raf,sayfa,yayinevi)\n",
    "        self.cevirmen = cevirmen\n",
    "    def bilgileriGoster(self):\n",
    "        return print(\"Kitabın Adı: {} \\nKitabın Yazarı: {} \\nKitabın Rafı: {} \\nKitabın Sayfası: {} \\nKitabın Yayınevi: {} \\nKitabın Çevirmeni: {}\".format(self.ad,self.yazar,self.raf,self.sayfa,self.yayinevi,self.cevirmen))\n",
    "\n",
    "    def cevirmenDegistir(self,yeniCevirmen):\n",
    "        self.cevirmen = yeniCevirmen\n",
    "        \n",
    "yabancıKitap1 = yabancıKitaplar(\"Simyacı\",\"Paulo Coelho\",\"B23\",184,\"Can Yayınları\",\"Özdemir İnce\")\n",
    "yabancıKitap1.bilgileriGoster()\n",
    "print(\"------\")\n",
    "yabancıKitap1.cevirmenDegistir(\"Özdemir Kısa\")\n",
    "yabancıKitap1.bilgileriGoster()"
   ]
  },
  {
   "cell_type": "markdown",
   "metadata": {},
   "source": [
    "## 1.7 Dunder (Magic, Special) Methods"
   ]
  },
  {
   "cell_type": "code",
   "execution_count": 197,
   "metadata": {},
   "outputs": [],
   "source": [
    "liste = [23,3,4,5]\n",
    "#type(liste)\n",
    "#dir(list)"
   ]
  },
  {
   "cell_type": "markdown",
   "metadata": {},
   "source": [
    "### 1.7.1 __str__"
   ]
  },
  {
   "cell_type": "code",
   "execution_count": 204,
   "metadata": {},
   "outputs": [],
   "source": [
    "class kitap():\n",
    "    kutuphaneninAdi = \"Üniversite Kütüphanesi\"\n",
    "    kitapSayisi = 0\n",
    "    kitapID = 1000\n",
    "    def __init__(self,ad = \"Girilmedi\",yazar = \"Girilmedi\",raf = \"Girilmedi\",sayfa = \"Girilmedi\",yayinevi = \"Girilmedi\"):   #initiliaze \n",
    "        self.ad = ad\n",
    "        self.yazar = yazar\n",
    "        self.raf = raf\n",
    "        self.sayfa = sayfa\n",
    "        self.yayinevi = yayinevi\n",
    "        kitap.kitapSayisi += 1\n",
    "        self.kitapID += 10\n",
    "        kitap.kitapID = self.kitapID\n",
    "    #instance method    \n",
    "    def __str__(self):\n",
    "        return \"Kitabın Adı: {} \\nKitabın Yazarı: {} \\nKitabın Rafı: {} \\nKitabın Sayfası: {} \\nKitabın Yayınevi: {} \\n\".format(self.ad,self.yazar,self.raf,self.sayfa,self.yayinevi)\n",
    "    #instance method \n",
    "    def sayfaArttır(self,deger):\n",
    "        self.sayfa += deger # self.sayfa = self.sayfa + deger\n",
    "    #class method\n",
    "    @classmethod\n",
    "    def kitapSayısınıSoyle(cls):\n",
    "        return kitap.kitapSayisi\n",
    "    #class method\n",
    "    @classmethod\n",
    "    def stringİleOluştur(cls,metin):\n",
    "        ad,yazar = metin.split(\" \")\n",
    "        return cls(ad,yazar)\n",
    "    #static method\n",
    "    @staticmethod\n",
    "    def kutuphaneAdiniSoyle():\n",
    "        return kitap.kutuphaneninAdi\n",
    "\n",
    "kitap1 = kitap(\"Simyacı\",\"Paulo Coelho\",\"B23\",184,\"Can Yayınları\")\n",
    "kitap2 = kitap(\"Küçük Prens\",\"Antoine De Sain Exupery\",yayinevi = \"Can Çocuk Yayınları\")"
   ]
  },
  {
   "cell_type": "code",
   "execution_count": 205,
   "metadata": {},
   "outputs": [
    {
     "name": "stdout",
     "output_type": "stream",
     "text": [
      "Kitabın Adı: Simyacı \n",
      "Kitabın Yazarı: Paulo Coelho \n",
      "Kitabın Rafı: B23 \n",
      "Kitabın Sayfası: 184 \n",
      "Kitabın Yayınevi: Can Yayınları \n",
      "\n"
     ]
    }
   ],
   "source": [
    "print(kitap1)\n"
   ]
  },
  {
   "cell_type": "markdown",
   "metadata": {},
   "source": [
    "### 1.7.2 len"
   ]
  },
  {
   "cell_type": "code",
   "execution_count": 206,
   "metadata": {},
   "outputs": [
    {
     "data": {
      "text/plain": [
       "3"
      ]
     },
     "execution_count": 206,
     "metadata": {},
     "output_type": "execute_result"
    }
   ],
   "source": [
    "liste = [2,3,4]\n",
    "len(liste)"
   ]
  },
  {
   "cell_type": "code",
   "execution_count": 207,
   "metadata": {},
   "outputs": [],
   "source": [
    "class kitap():\n",
    "    kutuphaneninAdi = \"Üniversite Kütüphanesi\"\n",
    "    kitapSayisi = 0\n",
    "    kitapID = 1000\n",
    "    def __init__(self,ad = \"Girilmedi\",yazar = \"Girilmedi\",raf = \"Girilmedi\",sayfa = \"Girilmedi\",yayinevi = \"Girilmedi\"):   #initiliaze \n",
    "        self.ad = ad\n",
    "        self.yazar = yazar\n",
    "        self.raf = raf\n",
    "        self.sayfa = sayfa\n",
    "        self.yayinevi = yayinevi\n",
    "        kitap.kitapSayisi += 1\n",
    "        self.kitapID += 10\n",
    "        kitap.kitapID = self.kitapID\n",
    "    #instance method    \n",
    "    def __str__(self):\n",
    "        return \"Kitabın Adı: {} \\nKitabın Yazarı: {} \\nKitabın Rafı: {} \\nKitabın Sayfası: {} \\nKitabın Yayınevi: {} \\n\".format(self.ad,self.yazar,self.raf,self.sayfa,self.yayinevi)\n",
    "    #instance method \n",
    "    def sayfaArttır(self,deger):\n",
    "        self.sayfa += deger # self.sayfa = self.sayfa + deger\n",
    "    #class method\n",
    "    @classmethod\n",
    "    def kitapSayısınıSoyle(cls):\n",
    "        return kitap.kitapSayisi\n",
    "    #class method\n",
    "    @classmethod\n",
    "    def stringİleOluştur(cls,metin):\n",
    "        ad,yazar = metin.split(\" \")\n",
    "        return cls(ad,yazar)\n",
    "    #static method\n",
    "    @staticmethod\n",
    "    def kutuphaneAdiniSoyle():\n",
    "        return kitap.kutuphaneninAdi\n",
    "    def __len__(self):\n",
    "        return self.sayfa\n",
    "\n",
    "kitap1 = kitap(\"Simyacı\",\"Paulo Coelho\",\"B23\",184,\"Can Yayınları\")\n",
    "kitap2 = kitap(\"Küçük Prens\",\"Antoine De Sain Exupery\",yayinevi = \"Can Çocuk Yayınları\")"
   ]
  },
  {
   "cell_type": "code",
   "execution_count": 208,
   "metadata": {},
   "outputs": [
    {
     "data": {
      "text/plain": [
       "184"
      ]
     },
     "execution_count": 208,
     "metadata": {},
     "output_type": "execute_result"
    }
   ],
   "source": [
    "len(kitap1)"
   ]
  },
  {
   "cell_type": "markdown",
   "metadata": {},
   "source": [
    "### 1.7.3 add"
   ]
  },
  {
   "cell_type": "code",
   "execution_count": 209,
   "metadata": {},
   "outputs": [],
   "source": [
    "class kitap():\n",
    "    kutuphaneninAdi = \"Üniversite Kütüphanesi\"\n",
    "    kitapSayisi = 0\n",
    "    kitapID = 1000\n",
    "    def __init__(self,ad = \"Girilmedi\",yazar = \"Girilmedi\",raf = \"Girilmedi\",sayfa = \"Girilmedi\",yayinevi = \"Girilmedi\"):   #initiliaze \n",
    "        self.ad = ad\n",
    "        self.yazar = yazar\n",
    "        self.raf = raf\n",
    "        self.sayfa = sayfa\n",
    "        self.yayinevi = yayinevi\n",
    "        kitap.kitapSayisi += 1\n",
    "        self.kitapID += 10\n",
    "        kitap.kitapID = self.kitapID\n",
    "    #instance method    \n",
    "    def __str__(self):\n",
    "        return \"Kitabın Adı: {} \\nKitabın Yazarı: {} \\nKitabın Rafı: {} \\nKitabın Sayfası: {} \\nKitabın Yayınevi: {} \\n\".format(self.ad,self.yazar,self.raf,self.sayfa,self.yayinevi)\n",
    "    #instance method \n",
    "    def sayfaArttır(self,deger):\n",
    "        self.sayfa += deger # self.sayfa = self.sayfa + deger\n",
    "    #class method\n",
    "    @classmethod\n",
    "    def kitapSayısınıSoyle(cls):\n",
    "        return kitap.kitapSayisi\n",
    "    #class method\n",
    "    @classmethod\n",
    "    def stringİleOluştur(cls,metin):\n",
    "        ad,yazar = metin.split(\" \")\n",
    "        return cls(ad,yazar)\n",
    "    #static method\n",
    "    @staticmethod\n",
    "    def kutuphaneAdiniSoyle():\n",
    "        return kitap.kutuphaneninAdi\n",
    "    def __len__(self):\n",
    "        return self.sayfa\n",
    "    def __add__(self,other):\n",
    "        return self.ad + other.ad\n",
    "\n",
    "kitap1 = kitap(\"Simyacı\",\"Paulo Coelho\",\"B23\",184,\"Can Yayınları\")\n",
    "kitap2 = kitap(\"Küçük Prens\",\"Antoine De Sain Exupery\",yayinevi = \"Can Çocuk Yayınları\")"
   ]
  },
  {
   "cell_type": "code",
   "execution_count": 210,
   "metadata": {},
   "outputs": [
    {
     "name": "stdout",
     "output_type": "stream",
     "text": [
      "SimyacıKüçük Prens\n"
     ]
    }
   ],
   "source": [
    "print(kitap1 + kitap2)"
   ]
  },
  {
   "cell_type": "markdown",
   "metadata": {},
   "source": [
    "### 1.7.4 mul"
   ]
  },
  {
   "cell_type": "code",
   "execution_count": 211,
   "metadata": {},
   "outputs": [],
   "source": [
    "class kitap():\n",
    "    kutuphaneninAdi = \"Üniversite Kütüphanesi\"\n",
    "    kitapSayisi = 0\n",
    "    kitapID = 1000\n",
    "    def __init__(self,ad = \"Girilmedi\",yazar = \"Girilmedi\",raf = \"Girilmedi\",sayfa = \"Girilmedi\",yayinevi = \"Girilmedi\"):   #initiliaze \n",
    "        self.ad = ad\n",
    "        self.yazar = yazar\n",
    "        self.raf = raf\n",
    "        self.sayfa = sayfa\n",
    "        self.yayinevi = yayinevi\n",
    "        kitap.kitapSayisi += 1\n",
    "        self.kitapID += 10\n",
    "        kitap.kitapID = self.kitapID\n",
    "    #instance method    \n",
    "    def __str__(self):\n",
    "        return \"Kitabın Adı: {} \\nKitabın Yazarı: {} \\nKitabın Rafı: {} \\nKitabın Sayfası: {} \\nKitabın Yayınevi: {} \\n\".format(self.ad,self.yazar,self.raf,self.sayfa,self.yayinevi)\n",
    "    #instance method \n",
    "    def sayfaArttır(self,deger):\n",
    "        self.sayfa += deger # self.sayfa = self.sayfa + deger\n",
    "    #class method\n",
    "    @classmethod\n",
    "    def kitapSayısınıSoyle(cls):\n",
    "        return kitap.kitapSayisi\n",
    "    #class method\n",
    "    @classmethod\n",
    "    def stringİleOluştur(cls,metin):\n",
    "        ad,yazar = metin.split(\" \")\n",
    "        return cls(ad,yazar)\n",
    "    #static method\n",
    "    @staticmethod\n",
    "    def kutuphaneAdiniSoyle():\n",
    "        return kitap.kutuphaneninAdi\n",
    "    def __len__(self):\n",
    "        return self.sayfa\n",
    "    def __add__(self,other):\n",
    "        return self.ad + other.ad\n",
    "    def __mul__(self,other):\n",
    "        return self.yazar + \"-\" +other.yazar\n",
    "\n",
    "kitap1 = kitap(\"Simyacı\",\"Paulo Coelho\",\"B23\",184,\"Can Yayınları\")\n",
    "kitap2 = kitap(\"Küçük Prens\",\"Antoine De Sain Exupery\",yayinevi = \"Can Çocuk Yayınları\")"
   ]
  },
  {
   "cell_type": "code",
   "execution_count": 212,
   "metadata": {},
   "outputs": [
    {
     "name": "stdout",
     "output_type": "stream",
     "text": [
      "Paulo Coelho-Antoine De Sain Exupery\n"
     ]
    }
   ],
   "source": [
    "print(kitap1 * kitap2)"
   ]
  }
 ],
 "metadata": {
  "interpreter": {
   "hash": "4429270fe79baf265b12c04ffc28d94055f90b5711fd88618cc5ebaf6124d0f7"
  },
  "kernelspec": {
   "display_name": "Python 3.10.4 64-bit",
   "language": "python",
   "name": "python3"
  },
  "language_info": {
   "codemirror_mode": {
    "name": "ipython",
    "version": 3
   },
   "file_extension": ".py",
   "mimetype": "text/x-python",
   "name": "python",
   "nbconvert_exporter": "python",
   "pygments_lexer": "ipython3",
   "version": "3.10.4"
  }
 },
 "nbformat": 4,
 "nbformat_minor": 4
}
