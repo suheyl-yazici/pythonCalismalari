{
 "cells": [
  {
   "cell_type": "markdown",
   "metadata": {},
   "source": [
    "# 1. Iterator"
   ]
  },
  {
   "cell_type": "markdown",
   "metadata": {},
   "source": [
    "## 1.1 Nedir?"
   ]
  },
  {
   "cell_type": "markdown",
   "metadata": {},
   "source": [
    "__iter__ \n",
    "__next__"
   ]
  },
  {
   "cell_type": "code",
   "execution_count": 4,
   "metadata": {},
   "outputs": [
    {
     "name": "stdout",
     "output_type": "stream",
     "text": [
      "2\n",
      "5\n",
      "1\n",
      "50\n",
      "0\n",
      "P\n",
      "y\n",
      "t\n",
      "h\n",
      "o\n",
      "n\n"
     ]
    }
   ],
   "source": [
    "liste = [2,5,1,50,0]\n",
    "for i in liste:\n",
    "    print(i)\n",
    "    \n",
    "metin = \"Python\"\n",
    "for i in metin:\n",
    "    print(i)\n",
    "    \n",
    "sayi = 431\n",
    "\n",
    "# for i in sayi:\n",
    "#     print(i)"
   ]
  },
  {
   "cell_type": "code",
   "execution_count": 10,
   "metadata": {},
   "outputs": [
    {
     "ename": "StopIteration",
     "evalue": "",
     "output_type": "error",
     "traceback": [
      "\u001b[1;31m---------------------------------------------------------------------------\u001b[0m",
      "\u001b[1;31mStopIteration\u001b[0m                             Traceback (most recent call last)",
      "\u001b[1;32mc:\\Users\\Suhely\\Desktop\\BackEnd\\Python\\Python tekrar\\7-Gunde-Python-0-dan-100-e-PYT101\\05. Gün (Iterator, Generator & Decorator)\\Iterator, Generator & Decorator.ipynb Cell 5'\u001b[0m in \u001b[0;36m<cell line: 12>\u001b[1;34m()\u001b[0m\n\u001b[0;32m     <a href='vscode-notebook-cell:/c%3A/Users/Suhely/Desktop/BackEnd/Python/Python%20tekrar/7-Gunde-Python-0-dan-100-e-PYT101/05.%20G%C3%BCn%20%28Iterator%2C%20Generator%20%26%20Decorator%29/Iterator%2C%20Generator%20%26%20Decorator.ipynb#ch0000004?line=9'>10</a>\u001b[0m \u001b[39mnext\u001b[39m(iterator)\n\u001b[0;32m     <a href='vscode-notebook-cell:/c%3A/Users/Suhely/Desktop/BackEnd/Python/Python%20tekrar/7-Gunde-Python-0-dan-100-e-PYT101/05.%20G%C3%BCn%20%28Iterator%2C%20Generator%20%26%20Decorator%29/Iterator%2C%20Generator%20%26%20Decorator.ipynb#ch0000004?line=10'>11</a>\u001b[0m \u001b[39mnext\u001b[39m(iterator)\n\u001b[1;32m---> <a href='vscode-notebook-cell:/c%3A/Users/Suhely/Desktop/BackEnd/Python/Python%20tekrar/7-Gunde-Python-0-dan-100-e-PYT101/05.%20G%C3%BCn%20%28Iterator%2C%20Generator%20%26%20Decorator%29/Iterator%2C%20Generator%20%26%20Decorator.ipynb#ch0000004?line=11'>12</a>\u001b[0m \u001b[39mnext\u001b[39;49m(iterator)\n",
      "\u001b[1;31mStopIteration\u001b[0m: "
     ]
    }
   ],
   "source": [
    "#dir(list)\n",
    "#dir(str)\n",
    "#dir(int)\n",
    "\n",
    "liste = [4,5,1,3,4]\n",
    "iterator = iter(liste)\n",
    "next(iterator)\n",
    "next(iterator)\n",
    "next(iterator)\n",
    "next(iterator)\n",
    "next(iterator)\n",
    "next(iterator)"
   ]
  },
  {
   "cell_type": "markdown",
   "metadata": {},
   "source": [
    "## 1.2 For, while ve iterator ilişkisi"
   ]
  },
  {
   "cell_type": "code",
   "execution_count": 26,
   "metadata": {},
   "outputs": [
    {
     "name": "stdout",
     "output_type": "stream",
     "text": [
      "343\n",
      "51\n",
      "2\n",
      "51\n",
      "2\n",
      "--------\n",
      "343\n",
      "51\n",
      "2\n",
      "51\n",
      "2\n"
     ]
    }
   ],
   "source": [
    "liste = [343,51,2,51,2]\n",
    "\n",
    "for i in liste:\n",
    "    print(i)\n",
    "    \n",
    "print(\"--------\")\n",
    "\n",
    "iterator1 = iter(liste)\n",
    "\n",
    "while True:\n",
    "    try:\n",
    "        i = next(iterator1)\n",
    "        print(i)\n",
    "    except StopIteration:\n",
    "        break"
   ]
  },
  {
   "cell_type": "markdown",
   "metadata": {},
   "source": [
    "## 1.3 Kendi Class'ımızda Kullanabilmek"
   ]
  },
  {
   "cell_type": "code",
   "execution_count": 34,
   "metadata": {},
   "outputs": [],
   "source": [
    "class rafdakiKitaplar():\n",
    "    def __init__(self,kitaplar,raf):\n",
    "        self.kitaplar = kitaplar\n",
    "        self.raf = raf\n",
    "        self.index = -1\n",
    "        \n",
    "    def __iter__(self):\n",
    "        return self\n",
    "    \n",
    "    def __next__(self):\n",
    "        self.index += 1\n",
    "        if (self.index < len(self.kitaplar)):\n",
    "            return self.kitaplar[self.index]\n",
    "        else:\n",
    "            self.index = -1\n",
    "            raise StopIteration"
   ]
  },
  {
   "cell_type": "code",
   "execution_count": 35,
   "metadata": {},
   "outputs": [],
   "source": [
    "kitaplar1 = rafdakiKitaplar([\"Simyacı\",\"Küçük Prens\",\"Saatleri Ayarlama Enstitüsü\",\"Mai ve Siyah\"],\"F43\")"
   ]
  },
  {
   "cell_type": "code",
   "execution_count": 36,
   "metadata": {},
   "outputs": [
    {
     "name": "stdout",
     "output_type": "stream",
     "text": [
      "Simyacı\n",
      "Küçük Prens\n",
      "Saatleri Ayarlama Enstitüsü\n",
      "Mai ve Siyah\n"
     ]
    }
   ],
   "source": [
    "for i in kitaplar1:\n",
    "    print(i)"
   ]
  },
  {
   "cell_type": "markdown",
   "metadata": {},
   "source": [
    "# 2. Generator"
   ]
  },
  {
   "cell_type": "markdown",
   "metadata": {},
   "source": [
    "## 2.1 Nedir?"
   ]
  },
  {
   "cell_type": "code",
   "execution_count": 49,
   "metadata": {},
   "outputs": [
    {
     "name": "stdout",
     "output_type": "stream",
     "text": [
      "[1, 8, 27, 64, 125, 216, 343, 512, 729]\n",
      "1\n",
      "8\n",
      "27\n",
      "64\n"
     ]
    }
   ],
   "source": [
    "#for i in range(3,10,2):\n",
    "#    print(i)\n",
    "\n",
    "#print(range(1,10))\n",
    "\n",
    "def küpAl():\n",
    "    cevap = []\n",
    "    for i in range(1,10):\n",
    "        cevap.append(i**3)\n",
    "    return cevap\n",
    "\n",
    "print(küpAl())\n",
    "\n",
    "def küpAl():\n",
    "    for i in range(1,10):\n",
    "        yield i ** 3\n",
    "        \n",
    "generator = küpAl()\n",
    "iterator = iter(generator)\n",
    "print(next(iterator))\n",
    "print(next(iterator))\n",
    "print(next(iterator))\n",
    "print(next(iterator))\n"
   ]
  },
  {
   "cell_type": "markdown",
   "metadata": {},
   "source": [
    "## 2.2 Generator'lerde List Comprehension"
   ]
  },
  {
   "cell_type": "code",
   "execution_count": 51,
   "metadata": {},
   "outputs": [
    {
     "name": "stdout",
     "output_type": "stream",
     "text": [
      "[1, 8, 27, 64, 125, 216, 343, 512, 729]\n"
     ]
    }
   ],
   "source": [
    "liste = [i**3 for i in range(1,10)]\n",
    "print(liste)\n"
   ]
  },
  {
   "cell_type": "code",
   "execution_count": 11,
   "metadata": {},
   "outputs": [
    {
     "name": "stdout",
     "output_type": "stream",
     "text": [
      "1\n",
      "8\n",
      "27\n",
      "64\n",
      "125\n",
      "216\n"
     ]
    }
   ],
   "source": [
    "generator1 = (i**3 for i in range(1,10))\n",
    "iterator1 = iter(generator1)\n",
    "print(next(iterator1))\n",
    "print(next(iterator1))\n",
    "print(next(iterator1))\n",
    "print(next(iterator1))\n",
    "print(next(iterator1))\n",
    "print(next(iterator1))"
   ]
  },
  {
   "cell_type": "markdown",
   "metadata": {},
   "source": [
    "# 3. Decorator"
   ]
  },
  {
   "cell_type": "markdown",
   "metadata": {},
   "source": [
    "## 3.1 İç İçe Fonksiyonlar"
   ]
  },
  {
   "cell_type": "code",
   "execution_count": 56,
   "metadata": {},
   "outputs": [
    {
     "name": "stdout",
     "output_type": "stream",
     "text": [
      "Birinci fonksiyon\n",
      "İkinci fonksiyon\n"
     ]
    }
   ],
   "source": [
    "def fonksiyon1():\n",
    "    def fonksiyon2():\n",
    "        print(\"İkinci fonksiyon\")\n",
    "    print(\"Birinci fonksiyon\")\n",
    "    fonksiyon2()\n",
    "    \n",
    "fonksiyon1()"
   ]
  },
  {
   "cell_type": "code",
   "execution_count": 67,
   "metadata": {},
   "outputs": [],
   "source": [
    "def fonksiyon(islem):\n",
    "    def topla(*args):\n",
    "        sonuc = 0\n",
    "        for i in args:\n",
    "            sonuc += i\n",
    "        return sonuc\n",
    "    def carp(*args):\n",
    "        sonuc = 1\n",
    "        for i in args:\n",
    "            sonuc *= i\n",
    "        return sonuc\n",
    "    \n",
    "    if islem == \"toplama\":\n",
    "        return topla\n",
    "    else:\n",
    "        return carp"
   ]
  },
  {
   "cell_type": "code",
   "execution_count": 68,
   "metadata": {},
   "outputs": [
    {
     "data": {
      "text/plain": [
       "14"
      ]
     },
     "execution_count": 68,
     "metadata": {},
     "output_type": "execute_result"
    }
   ],
   "source": [
    "ornek = fonksiyon(\"toplama\")\n",
    "ornek(2,3,4,1,4)"
   ]
  },
  {
   "cell_type": "markdown",
   "metadata": {},
   "source": [
    "## 3.2 Nasıl Oluşturulur?"
   ]
  },
  {
   "cell_type": "code",
   "execution_count": 69,
   "metadata": {},
   "outputs": [
    {
     "name": "stdout",
     "output_type": "stream",
     "text": [
      "fonksiyon çalışmadan önce\n",
      "fonksiyon çalışıyor\n",
      "fonksiyon çalıştıktan sonra\n"
     ]
    }
   ],
   "source": [
    "def decorator(fonk):\n",
    "    def wrapper():\n",
    "        print(\"fonksiyon çalışmadan önce\")\n",
    "        fonk()\n",
    "        print(\"fonksiyon çalıştıktan sonra\")\n",
    "    return wrapper\n",
    "\n",
    "def fonksiyon():\n",
    "    print(\"fonksiyon çalışıyor\")\n",
    "    \n",
    "fonksiyon2 = decorator(fonksiyon)\n",
    "fonksiyon2()"
   ]
  },
  {
   "cell_type": "code",
   "execution_count": 71,
   "metadata": {},
   "outputs": [
    {
     "name": "stdout",
     "output_type": "stream",
     "text": [
      "fonksiyon çalışmadan önce\n",
      "fonksiyon çalışıyor\n",
      "fonksiyon çalıştıktan sonra\n"
     ]
    }
   ],
   "source": [
    "def decorator2(fonk):\n",
    "    def wrapper():\n",
    "        print(\"fonksiyon çalışmadan önce\")\n",
    "        fonk()\n",
    "        print(\"fonksiyon çalıştıktan sonra\")\n",
    "    return wrapper\n",
    "\n",
    "@decorator2\n",
    "def fonksiyon():\n",
    "    print(\"fonksiyon çalışıyor\")\n",
    "    \n",
    "fonksiyon()"
   ]
  },
  {
   "cell_type": "code",
   "execution_count": 75,
   "metadata": {},
   "outputs": [
    {
     "name": "stdout",
     "output_type": "stream",
     "text": [
      "0\n",
      "1\n",
      "4\n",
      "9\n",
      "16\n",
      "25\n",
      "36\n",
      "49\n",
      "64\n",
      "81\n",
      "İşlem 0.0005440711975097656 saniye sürdü\n",
      "0\n",
      "1\n",
      "8\n",
      "27\n",
      "64\n",
      "125\n",
      "216\n",
      "343\n",
      "512\n",
      "729\n",
      "İşlem 0.0022928714752197266 saniye sürdü\n",
      "5\n",
      "İşlem 6.580352783203125e-05 saniye sürdü\n"
     ]
    }
   ],
   "source": [
    "import time\n",
    "\n",
    "def zamanHesapla(fonk):\n",
    "    def wrapper(*args,**kwargs):\n",
    "        baslangic = time.time()\n",
    "        fonk(*args,**kwargs)\n",
    "        bitis = time.time()\n",
    "        print( f\"İşlem {bitis-baslangic} saniye sürdü\")\n",
    "    return wrapper\n",
    "\n",
    "@zamanHesapla\n",
    "def kareleriAl(liste):\n",
    "    for i in liste:\n",
    "        print(i**2)\n",
    "        \n",
    "@zamanHesapla        \n",
    "def küpünüAl(liste):\n",
    "    for i in liste:\n",
    "        print(i**3)\n",
    "        \n",
    "@zamanHesapla        \n",
    "def topla(a,b):\n",
    "    print(a+b)\n",
    "    \n",
    "kareleriAl(range(0,10))\n",
    "küpünüAl(range(0,10))\n",
    "topla(3,2)"
   ]
  },
  {
   "cell_type": "markdown",
   "metadata": {},
   "source": [
    "# 4. Class Örneği"
   ]
  },
  {
   "cell_type": "code",
   "execution_count": 49,
   "metadata": {},
   "outputs": [],
   "source": [
    "import time\n",
    "\n",
    "class araba():\n",
    "    galeriAdı = \"Tekinler Galeri\"\n",
    "    aracSayısı = 0\n",
    "    aracID = 2152\n",
    "    def __init__(self,marka=\"Girilmedi\",model=\"Girilmedi\",yıl=\"Girilmedi\",renk=\"Girilmedi\"):\n",
    "        self.marka = marka\n",
    "        self.model = model\n",
    "        self.yıl = yıl\n",
    "        self.renk = renk\n",
    "        araba.aracSayısı += 1\n",
    "        araba.aracID += 5\n",
    "        self.aracID = araba.aracID\n",
    "        self.index = -1\n",
    "        \n",
    "    def zamanHesapla(fonk):\n",
    "        def wrapper(*args,**kwargs):\n",
    "            baslangic = time.time()\n",
    "            fonk(*args,*kwargs)\n",
    "            bitis = time.time()\n",
    "            print(\"Bu işlem toplam {} saniye sürdü\".format(bitis-baslangic))\n",
    "        return wrapper\n",
    "     \n",
    "    @zamanHesapla    \n",
    "    def renkDegistir(self,yeniRenk):\n",
    "        self.renk = yeniRenk\n",
    "        \n",
    "    def __str__(self):\n",
    "        return f\"Arabanın markası: {self.marka}\\nArabanın modeli: {self.model}\\nArabanın yılı: {self.yıl}\\nArabanın rengi: {self.renk}\"\n",
    "    \n",
    "    def __len__(self):\n",
    "        return self.yıl\n",
    "    \n",
    "    @zamanHesapla \n",
    "    def __add__(self,other):\n",
    "        return self.yıl + other.yıl\n",
    "    \n",
    "    def __iter__(self):\n",
    "        return self\n",
    "    \n",
    "    def __next__(self):\n",
    "        self.index += 1\n",
    "        if self.index < len(self.marka):\n",
    "            return self.marka[self.index]\n",
    "        else:\n",
    "            self.index = -1\n",
    "            raise StopIteration\n",
    "            \n",
    "    def ornekGenerator(self):\n",
    "        for i in range(1,self.yıl):\n",
    "            yield 2*i\n",
    "            \n",
    "    @classmethod\n",
    "    def aracSayısınıSoyle(cls):\n",
    "        return cls.aracSayısı\n",
    "    \n",
    "    @staticmethod\n",
    "    def galeriAdınıSoyle():\n",
    "        return araba.galeriAdı\n",
    "    "
   ]
  },
  {
   "cell_type": "code",
   "execution_count": 50,
   "metadata": {},
   "outputs": [
    {
     "name": "stdout",
     "output_type": "stream",
     "text": [
      "Bu işlem toplam 4.76837158203125e-06 saniye sürdü\n",
      "Bu işlem toplam 3.0994415283203125e-06 saniye sürdü\n",
      "R\n",
      "e\n",
      "n\n",
      "a\n",
      "u\n",
      "l\n",
      "t\n",
      "-------\n",
      "F\n",
      "i\n",
      "a\n",
      "t\n"
     ]
    }
   ],
   "source": [
    "arac1 = araba(\"Renault\",\"Megane\",2015,\"Beyaz\")\n",
    "arac2 = araba(\"Fiat\",\"Linea\",2017,\"Kırmızı\")\n",
    "\n",
    "#print(arac1)\n",
    "#len(arac1)\n",
    "araba.galeriAdı\n",
    "araba.aracSayısı\n",
    "arac1.aracID\n",
    "arac2.aracID\n",
    "arac1.renkDegistir(\"Siyah\")\n",
    "#print(arac1)\n",
    "\n",
    "arac1 + arac2\n",
    "\n",
    "\n",
    "for i in arac1:\n",
    "    print(i)\n",
    "print(\"-------\")\n",
    "    \n",
    "iterator = iter(arac2)    \n",
    "while True:\n",
    "    try:\n",
    "        i = next(iterator)\n",
    "        print(i)\n",
    "    except StopIteration:\n",
    "        break"
   ]
  },
  {
   "cell_type": "code",
   "execution_count": 45,
   "metadata": {},
   "outputs": [
    {
     "data": {
      "text/plain": [
       "10"
      ]
     },
     "execution_count": 45,
     "metadata": {},
     "output_type": "execute_result"
    }
   ],
   "source": [
    "araba.aracSayısınıSoyle()\n",
    "araba.galeriAdınıSoyle()\n",
    "\n",
    "generator = arac1.ornekGenerator()\n",
    "iterator = iter(generator)\n",
    "next(iterator)\n",
    "next(iterator)\n",
    "next(iterator)\n",
    "next(iterator)\n",
    "next(iterator)"
   ]
  },
  {
   "cell_type": "code",
   "execution_count": 51,
   "metadata": {},
   "outputs": [
    {
     "name": "stdout",
     "output_type": "stream",
     "text": [
      "Bu işlem toplam 3.0994415283203125e-06 saniye sürdü\n"
     ]
    }
   ],
   "source": [
    "arac1.renkDegistir(\"Siyah\")"
   ]
  },
  {
   "cell_type": "code",
   "execution_count": 54,
   "metadata": {},
   "outputs": [
    {
     "name": "stdout",
     "output_type": "stream",
     "text": [
      "Bu işlem toplam 2.86102294921875e-06 saniye sürdü\n"
     ]
    }
   ],
   "source": [
    "arac1 + arac2"
   ]
  }
 ],
 "metadata": {
  "interpreter": {
   "hash": "4429270fe79baf265b12c04ffc28d94055f90b5711fd88618cc5ebaf6124d0f7"
  },
  "kernelspec": {
   "display_name": "Python 3.10.4 64-bit",
   "language": "python",
   "name": "python3"
  },
  "language_info": {
   "codemirror_mode": {
    "name": "ipython",
    "version": 3
   },
   "file_extension": ".py",
   "mimetype": "text/x-python",
   "name": "python",
   "nbconvert_exporter": "python",
   "pygments_lexer": "ipython3",
   "version": "3.10.4"
  }
 },
 "nbformat": 4,
 "nbformat_minor": 4
}
