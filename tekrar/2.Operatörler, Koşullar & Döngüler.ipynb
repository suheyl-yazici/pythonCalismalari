{
 "cells": [
  {
   "cell_type": "markdown",
   "metadata": {},
   "source": [
    "# 1. Operatörler"
   ]
  },
  {
   "cell_type": "markdown",
   "metadata": {},
   "source": [
    "## 1.1. Aritmatik Operatörler"
   ]
  },
  {
   "cell_type": "markdown",
   "metadata": {},
   "source": [
    "Çanakkale Boğazında Toplu Çıkarma\n",
    "\n",
    "*Önce Parantez "
   ]
  },
  {
   "cell_type": "code",
   "execution_count": 56,
   "metadata": {},
   "outputs": [
    {
     "data": {
      "text/plain": [
       "0"
      ]
     },
     "execution_count": 56,
     "metadata": {},
     "output_type": "execute_result"
    }
   ],
   "source": [
    "3 + 4.2\n",
    "5 - 2.1\n",
    "2 * 3.1\n",
    "4 ** 2\n",
    "10 / 5\n",
    "10 // 5\n",
    "\n",
    "8 % 2"
   ]
  },
  {
   "cell_type": "markdown",
   "metadata": {},
   "source": [
    "### 1.1.1 Matematiksel Fonksiyonlar"
   ]
  },
  {
   "cell_type": "code",
   "execution_count": 68,
   "metadata": {},
   "outputs": [
    {
     "name": "stdout",
     "output_type": "stream",
     "text": [
      "2\n",
      "4\n",
      "6\n"
     ]
    }
   ],
   "source": [
    "abs(-8)\n",
    "round(3.49)\n",
    "liste = [2,3,5,1]\n",
    "min(liste)\n",
    "max(liste)\n",
    "sum(liste)\n",
    "\n",
    "for i in range(2,8,2):\n",
    "    print(i)"
   ]
  },
  {
   "cell_type": "markdown",
   "metadata": {},
   "source": [
    "## 1.2. Assignment Operatörleri"
   ]
  },
  {
   "cell_type": "code",
   "execution_count": 76,
   "metadata": {},
   "outputs": [
    {
     "name": "stdout",
     "output_type": "stream",
     "text": [
      "2\n"
     ]
    }
   ],
   "source": [
    "a = 3\n",
    "a += 2 # a = a + 2\n",
    "a -= 1\n",
    "a *= 2\n",
    "# a /= 4\n",
    "a //= 4\n",
    "a **= 3\n",
    "a %= 3\n",
    "print(a)"
   ]
  },
  {
   "cell_type": "markdown",
   "metadata": {},
   "source": [
    "## 1.3. Karşılaştırmalı (Comparison) Operatörler"
   ]
  },
  {
   "cell_type": "code",
   "execution_count": 84,
   "metadata": {},
   "outputs": [
    {
     "data": {
      "text/plain": [
       "False"
      ]
     },
     "execution_count": 84,
     "metadata": {},
     "output_type": "execute_result"
    }
   ],
   "source": [
    "a = 3\n",
    "b = 4\n",
    "\n",
    "a == b\n",
    "a != b\n",
    "a < b\n",
    "a <= b\n",
    "a > b\n",
    "a >= b"
   ]
  },
  {
   "cell_type": "markdown",
   "metadata": {},
   "source": [
    "## 1.4. Mantık (Logical) Operatörler"
   ]
  },
  {
   "cell_type": "code",
   "execution_count": 94,
   "metadata": {},
   "outputs": [
    {
     "data": {
      "text/plain": [
       "False"
      ]
     },
     "execution_count": 94,
     "metadata": {},
     "output_type": "execute_result"
    }
   ],
   "source": [
    "a=1\n",
    "b=2\n",
    "c=3\n",
    "d=4\n",
    "\n",
    "a != b and c != d  \n",
    "a == b or c == d \n",
    "not True\n",
    "not(a != b and c != d)"
   ]
  },
  {
   "cell_type": "markdown",
   "metadata": {},
   "source": [
    "## 1.5. Tanımlama Operatörleri"
   ]
  },
  {
   "cell_type": "code",
   "execution_count": 99,
   "metadata": {},
   "outputs": [
    {
     "name": "stdout",
     "output_type": "stream",
     "text": [
      "4516738256\n",
      "4516738288\n"
     ]
    },
    {
     "data": {
      "text/plain": [
       "True"
      ]
     },
     "execution_count": 99,
     "metadata": {},
     "output_type": "execute_result"
    }
   ],
   "source": [
    "x = 3\n",
    "y = 4\n",
    "print(id(x))\n",
    "print(id(y))\n",
    "\n",
    "x is y\n",
    "x is not y"
   ]
  },
  {
   "cell_type": "markdown",
   "metadata": {},
   "source": [
    "## 1.6. Membership Operatörleri"
   ]
  },
  {
   "cell_type": "code",
   "execution_count": 103,
   "metadata": {},
   "outputs": [
    {
     "data": {
      "text/plain": [
       "True"
      ]
     },
     "execution_count": 103,
     "metadata": {},
     "output_type": "execute_result"
    }
   ],
   "source": [
    "liste = [2,34,5,6]\n",
    "34 in liste\n",
    "7 not in liste"
   ]
  },
  {
   "cell_type": "markdown",
   "metadata": {},
   "source": [
    "## 1.7. Bitwise Operatörleri"
   ]
  },
  {
   "cell_type": "code",
   "execution_count": 115,
   "metadata": {},
   "outputs": [
    {
     "data": {
      "text/plain": [
       "5"
      ]
     },
     "execution_count": 115,
     "metadata": {},
     "output_type": "execute_result"
    }
   ],
   "source": [
    "bin(23)\n",
    "bin(2)\n",
    "23 & 2\n",
    "23 | 2\n",
    "23 ^ 2\n",
    "~23\n",
    "23<<2\n",
    "23>>2\n",
    "\n",
    "&=\n",
    "|=\n",
    "^=\n",
    ">>=\n",
    "<<="
   ]
  },
  {
   "cell_type": "markdown",
   "metadata": {},
   "source": [
    "# 2. Koşullar"
   ]
  },
  {
   "cell_type": "markdown",
   "metadata": {},
   "source": [
    "## 2.1 If ... elif ... else"
   ]
  },
  {
   "cell_type": "code",
   "execution_count": 1,
   "metadata": {},
   "outputs": [
    {
     "name": "stdout",
     "output_type": "stream",
     "text": [
      "Merhaba\n",
      "Selam\n"
     ]
    }
   ],
   "source": [
    "if True :\n",
    "    print(\"Merhaba\")\n",
    "\n",
    "print(\"Selam\")"
   ]
  },
  {
   "cell_type": "code",
   "execution_count": 3,
   "metadata": {},
   "outputs": [
    {
     "name": "stdout",
     "output_type": "stream",
     "text": [
      "85\n"
     ]
    }
   ],
   "source": [
    "a = 45\n",
    "b = 45\n",
    "\n",
    "if a < b:\n",
    "    a +=10\n",
    "    print(a)\n",
    "elif a > b:\n",
    "    a += 20\n",
    "    print(a)\n",
    "elif a != b:\n",
    "    a += 30\n",
    "    print(a)\n",
    "else:\n",
    "    a += 40\n",
    "    print(a)"
   ]
  },
  {
   "cell_type": "markdown",
   "metadata": {},
   "source": [
    "## 2.2 Kısaltılmış If ... elif ... else"
   ]
  },
  {
   "cell_type": "code",
   "execution_count": 140,
   "metadata": {},
   "outputs": [
    {
     "name": "stdout",
     "output_type": "stream",
     "text": [
      "Çalışıyor\n"
     ]
    }
   ],
   "source": [
    "a = 3\n",
    "b = 10\n",
    "\n",
    "print(\"Çalışıyor\") if a < b else print(\"Çalışmıyor\")\n",
    "\n"
   ]
  },
  {
   "cell_type": "markdown",
   "metadata": {},
   "source": [
    "## 2.3 Örnek"
   ]
  },
  {
   "cell_type": "code",
   "execution_count": 4,
   "metadata": {},
   "outputs": [
    {
     "name": "stdout",
     "output_type": "stream",
     "text": [
      "İkinci değer ilk değerden büyüktür\n"
     ]
    }
   ],
   "source": [
    "ilkDeger = input(\"İlk sayıyı giriniz: \")\n",
    "ikinciDeger = input(\"İkinci sayıyı giriniz: \")\n",
    "\n",
    "if ilkDeger > ikinciDeger:\n",
    "    print(\"İlk girdiğiniz değer ikinci değerden büyüktür\")\n",
    "elif ilkDeger < ikinciDeger:\n",
    "    print(\"İkinci değer ilk değerden büyüktür\")\n",
    "elif ilkDeger == ikinciDeger:\n",
    "    print(\"Girdiğiniz iki değer birbirine eşittir.\")"
   ]
  },
  {
   "cell_type": "markdown",
   "metadata": {},
   "source": [
    "# 3. Döngüler"
   ]
  },
  {
   "cell_type": "markdown",
   "metadata": {},
   "source": [
    "## 3.1 For Döngüsü"
   ]
  },
  {
   "cell_type": "code",
   "execution_count": 2,
   "metadata": {},
   "outputs": [
    {
     "name": "stdout",
     "output_type": "stream",
     "text": [
      "1\n",
      "2\n",
      "3\n",
      "4\n",
      "5\n"
     ]
    }
   ],
   "source": [
    "liste = [1,2,3,4,5]\n",
    "\n",
    "for i in liste:\n",
    "    print(i)"
   ]
  },
  {
   "cell_type": "code",
   "execution_count": 6,
   "metadata": {},
   "outputs": [
    {
     "name": "stdout",
     "output_type": "stream",
     "text": [
      "P\n",
      "Y\n",
      "T\n",
      "H\n",
      "O\n",
      "N\n"
     ]
    }
   ],
   "source": [
    "metin = \"PYTHON\"\n",
    "\n",
    "for degisken in metin:\n",
    "    print(degisken)"
   ]
  },
  {
   "cell_type": "markdown",
   "metadata": {},
   "source": [
    "### 3.1.1 break"
   ]
  },
  {
   "cell_type": "code",
   "execution_count": 10,
   "metadata": {},
   "outputs": [
    {
     "name": "stdout",
     "output_type": "stream",
     "text": [
      "2\n",
      "5\n",
      "1\n",
      "Devam\n"
     ]
    }
   ],
   "source": [
    "liste = [2,5,1,3,2,\"İstanbul\",-2]\n",
    "\n",
    "for i in liste:\n",
    "    if i == 3:\n",
    "        break\n",
    "    print(i)\n",
    "    \n",
    "print(\"Devam\")"
   ]
  },
  {
   "cell_type": "markdown",
   "metadata": {},
   "source": [
    "### 3.1.2 continue"
   ]
  },
  {
   "cell_type": "code",
   "execution_count": 12,
   "metadata": {},
   "outputs": [
    {
     "name": "stdout",
     "output_type": "stream",
     "text": [
      "2\n",
      "5\n",
      "1\n",
      "2\n",
      "İstanbul\n",
      "-2\n",
      "Devam\n"
     ]
    }
   ],
   "source": [
    "liste = [2,5,1,3,2,\"İstanbul\",-2]\n",
    "\n",
    "for i in liste:\n",
    "    if i == 3:\n",
    "        continue\n",
    "    print(i)\n",
    "    \n",
    "print(\"Devam\")"
   ]
  },
  {
   "cell_type": "markdown",
   "metadata": {},
   "source": [
    "### 3.1.3 pass"
   ]
  },
  {
   "cell_type": "code",
   "execution_count": 14,
   "metadata": {},
   "outputs": [
    {
     "name": "stdout",
     "output_type": "stream",
     "text": [
      "2\n",
      "5\n",
      "1\n",
      "3\n",
      "2\n",
      "İstanbul\n",
      "-2\n",
      "Devam\n"
     ]
    }
   ],
   "source": [
    "liste = [2,5,1,3,2,\"İstanbul\",-2]\n",
    "\n",
    "for i in liste:\n",
    "    if i == 3:\n",
    "        pass\n",
    "    print(i)\n",
    "    \n",
    "print(\"Devam\")"
   ]
  },
  {
   "cell_type": "markdown",
   "metadata": {},
   "source": [
    "### 3.1.4 else"
   ]
  },
  {
   "cell_type": "code",
   "execution_count": 5,
   "metadata": {},
   "outputs": [
    {
     "name": "stdout",
     "output_type": "stream",
     "text": [
      "2\n",
      "5\n",
      "1\n",
      "3\n",
      "2\n",
      "İstanbul\n",
      "-2\n",
      "Bitti\n"
     ]
    }
   ],
   "source": [
    "liste = [2,5,1,3,2,\"İstanbul\",-2]\n",
    "\n",
    "for i in liste:\n",
    "    print(i)\n",
    "else:\n",
    "    print(\"Bitti\")"
   ]
  },
  {
   "cell_type": "markdown",
   "metadata": {},
   "source": [
    "### 3.1.5 range() fonksiyonu ile bağlantısı"
   ]
  },
  {
   "cell_type": "code",
   "execution_count": 21,
   "metadata": {},
   "outputs": [
    {
     "name": "stdout",
     "output_type": "stream",
     "text": [
      "Python\n",
      "Python\n",
      "Python\n",
      "Python\n",
      "Python\n",
      "Python\n",
      "Python\n",
      "Python\n"
     ]
    }
   ],
   "source": [
    "for i in range(1,9):\n",
    "    print(\"Python\")"
   ]
  },
  {
   "cell_type": "markdown",
   "metadata": {},
   "source": [
    "## 3.2 While Döngüsü"
   ]
  },
  {
   "cell_type": "code",
   "execution_count": 10,
   "metadata": {},
   "outputs": [
    {
     "name": "stdout",
     "output_type": "stream",
     "text": [
      "x' değeri 5'ten küçüktür.\n",
      "x' değeri 5'ten küçüktür.\n",
      "x' değeri 5'ten küçüktür.\n",
      "x' değeri 5'ten küçüktür.\n"
     ]
    }
   ],
   "source": [
    "x = 2\n",
    "\n",
    "if x < 5:\n",
    "    print(\"x' değeri 5'ten küçüktür.\")\n",
    "\n",
    "while x < 5:\n",
    "    print(\"x' değeri 5'ten küçüktür.\")\n",
    "    x += 1 #x = x + 1"
   ]
  },
  {
   "cell_type": "markdown",
   "metadata": {},
   "source": [
    "### 3.2.1 break"
   ]
  },
  {
   "cell_type": "code",
   "execution_count": 11,
   "metadata": {},
   "outputs": [
    {
     "name": "stdout",
     "output_type": "stream",
     "text": [
      "i:  1\n",
      "i:  2\n",
      "i:  3\n"
     ]
    }
   ],
   "source": [
    "i = 1\n",
    "while i < 6:\n",
    "    print(\"i: \",i)\n",
    "    if i == 3:\n",
    "        break\n",
    "    i += 1"
   ]
  },
  {
   "cell_type": "markdown",
   "metadata": {},
   "source": [
    "### 3.2.2 continue"
   ]
  },
  {
   "cell_type": "code",
   "execution_count": 30,
   "metadata": {},
   "outputs": [
    {
     "name": "stdout",
     "output_type": "stream",
     "text": [
      "i:  1\n",
      "i:  2\n",
      "i:  3\n",
      "i:  4\n",
      "i:  5\n"
     ]
    }
   ],
   "source": [
    "i = 1\n",
    "while i < 6:\n",
    "    print(\"i: \",i)\n",
    "    i += 1\n",
    "    if i == 3:\n",
    "        continue\n",
    "    #i += 1"
   ]
  },
  {
   "cell_type": "markdown",
   "metadata": {},
   "source": [
    "### 3.2.3 pass"
   ]
  },
  {
   "cell_type": "code",
   "execution_count": 31,
   "metadata": {},
   "outputs": [
    {
     "name": "stdout",
     "output_type": "stream",
     "text": [
      "i:  1\n",
      "i:  2\n",
      "i:  3\n",
      "i:  4\n",
      "i:  5\n"
     ]
    }
   ],
   "source": [
    "i = 1\n",
    "while i < 6:\n",
    "    print(\"i: \",i)\n",
    "    if i == 3:\n",
    "        pass\n",
    "    i += 1\n",
    "\n",
    "\n"
   ]
  },
  {
   "cell_type": "markdown",
   "metadata": {},
   "source": [
    "### 3.2.4 else"
   ]
  },
  {
   "cell_type": "code",
   "execution_count": 12,
   "metadata": {},
   "outputs": [
    {
     "name": "stdout",
     "output_type": "stream",
     "text": [
      "i:  1\n",
      "i:  2\n",
      "i:  3\n",
      "i:  4\n",
      "i:  5\n",
      "Koşul sağlanamadı\n"
     ]
    }
   ],
   "source": [
    "i = 1\n",
    "while i < 6:\n",
    "    print(\"i: \",i)\n",
    "    i += 1\n",
    "else:\n",
    "    print(\"Koşul sağlanamadı\")"
   ]
  },
  {
   "cell_type": "markdown",
   "metadata": {},
   "source": [
    "## 3.3 İç İçe Döngüler"
   ]
  },
  {
   "cell_type": "code",
   "execution_count": 35,
   "metadata": {},
   "outputs": [
    {
     "name": "stdout",
     "output_type": "stream",
     "text": [
      "büyük elma\n",
      "büyük armut\n",
      "büyük muz\n",
      "tatlı elma\n",
      "tatlı armut\n",
      "tatlı muz\n",
      "güzel elma\n",
      "güzel armut\n",
      "güzel muz\n"
     ]
    }
   ],
   "source": [
    "sıfatlar = [\"büyük\",\"tatlı\",\"güzel\"]\n",
    "meyve = [\"elma\",\"armut\",\"muz\"]\n",
    "\n",
    "for i in sıfatlar:\n",
    "    for j in meyve:\n",
    "        print(i,j)"
   ]
  },
  {
   "cell_type": "markdown",
   "metadata": {},
   "source": [
    "## 3.4 List Comprehension"
   ]
  },
  {
   "cell_type": "code",
   "execution_count": 36,
   "metadata": {},
   "outputs": [
    {
     "name": "stdout",
     "output_type": "stream",
     "text": [
      "[3, 5, 2, 6, 1]\n"
     ]
    }
   ],
   "source": [
    "liste = [3,5,2,6,1]\n",
    "yeniListe = []\n",
    "\n",
    "for i in liste:\n",
    "    yeniListe.append(i)\n",
    "    \n",
    "print(yeniListe)\n"
   ]
  },
  {
   "cell_type": "code",
   "execution_count": 38,
   "metadata": {},
   "outputs": [
    {
     "name": "stdout",
     "output_type": "stream",
     "text": [
      "[3, 5, 2, 6, 1]\n"
     ]
    }
   ],
   "source": [
    "yeniListe = [i for i in liste]\n",
    "print(yeniListe)"
   ]
  },
  {
   "cell_type": "code",
   "execution_count": 39,
   "metadata": {},
   "outputs": [
    {
     "name": "stdout",
     "output_type": "stream",
     "text": [
      "[9, 25, 4, 36, 1]\n"
     ]
    }
   ],
   "source": [
    "yeniListe = [i**2 for i in liste]\n",
    "print(yeniListe)"
   ]
  },
  {
   "cell_type": "code",
   "execution_count": 40,
   "metadata": {},
   "outputs": [
    {
     "name": "stdout",
     "output_type": "stream",
     "text": [
      "[2, 4, 6, 8, 9]\n"
     ]
    }
   ],
   "source": [
    "liste1 = [1,2,3,4,5,6,7,8,9]\n",
    "liste2 = list()\n",
    "\n",
    "for i in liste1: \n",
    "    if i % 2 == 0 or i == 9:\n",
    "        liste2.append(i)\n",
    "        \n",
    "print(liste2)"
   ]
  },
  {
   "cell_type": "code",
   "execution_count": 42,
   "metadata": {},
   "outputs": [
    {
     "name": "stdout",
     "output_type": "stream",
     "text": [
      "[8, 64, 216, 512, 729]\n"
     ]
    }
   ],
   "source": [
    "liste2 = [i**3 for i in liste1 if (i % 2 == 0 or i == 9)]\n",
    "print(liste2)"
   ]
  }
 ],
 "metadata": {
  "interpreter": {
   "hash": "4429270fe79baf265b12c04ffc28d94055f90b5711fd88618cc5ebaf6124d0f7"
  },
  "kernelspec": {
   "display_name": "Python 3.10.4 64-bit",
   "language": "python",
   "name": "python3"
  },
  "language_info": {
   "codemirror_mode": {
    "name": "ipython",
    "version": 3
   },
   "file_extension": ".py",
   "mimetype": "text/x-python",
   "name": "python",
   "nbconvert_exporter": "python",
   "pygments_lexer": "ipython3",
   "version": "3.10.4"
  }
 },
 "nbformat": 4,
 "nbformat_minor": 2
}
